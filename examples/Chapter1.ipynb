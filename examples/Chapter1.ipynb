{
 "cells": [
  {
   "cell_type": "markdown",
   "metadata": {},
   "source": [
    "# Chain Complexes\n",
    "\n",
    "## Introduction\n",
    "\n",
    "In the Kenzo program, a *chain complex* $(C_p, d_p)$ is a collection of free $\\mathbb{Z}$-modules $(C_p)$, one for each\n",
    "$p \\in \\mathbb{Z}$, together with a homomorphism $d_p : C_p \\rightarrow C_{p-1}$, such\n",
    "that, for all $p$, $d_{p-1} \\circ d_p = 0$. (See, for example, __P.J. Giblin__ in *Graph, Surface and Homology*, Chapman and Hall Math. series, 1981.)\n",
    "\n",
    "In the Kenzo program, a *morphism* $f=(f_p)$, of degree $k$, from a chain complex $(C_p, d_p)$ to another $(C'_p, d'_p)$ is a collection of homomorphisms\n",
    "\n",
    "$$f_p : C_p \\rightarrow C'_{p+k}.$$\n",
    "\n",
    "This is expressed by the following diagram, generally not assumend commutative .\n",
    "\n",
    "$$\n",
    "\\begin{aligned}\n",
    "\\cdots & \\leftarrow & C_{p-1} & \\quad\\xleftarrow{d_p} & C_p & \\quad\\xleftarrow{d_{p+1}} & C_{p+1}  & \\quad\\leftarrow & \\cdots \\\\\n",
    "       &    & f_{p-1} \\Bigg\\downarrow &    & f_p \\Bigg\\downarrow &    & f_{p+1} \\Bigg\\downarrow \\\\\n",
    "\\cdots & \\leftarrow & C'_{p+k-1} & \\quad\\xleftarrow{d'_{p+k}} & C'_{p+k} & \\quad\\xleftarrow{d'_{p+k+1}} & C'_{p+k+1} & \\quad\\leftarrow & \\cdots \\end{aligned}\n",
    "$$\n",
    "\n",
    "Three types of   morphisms are most generally considered.\n",
    "\n",
    "1. $k=0$. If the commutativity relation $d'_p\\circ f_p=f_{p-1}\\circ d_p$ holds for every $p$, then the morphism $f$ is an ordinary chain complex morphism or *chain map*.\n",
    "2. $k=-1$. If $(C_p,d_p)=(C'_p,d'_p)$ and $f_p=d_p$, then $f$ is the *differential* of the chain complex $(C_p,d_p)$ and, in fact, this differential is implemented in the ${\\tt Kenzo}$ program as a morphism of degree $-1$. Also, if $d_p \\neq f_p$ and $(d_{p-1}+f_{p-1})(d_p+f_p) = 0$ for every $p$, then $f_\\ast$ is a perturbation of the differential $d_\\ast$.\n",
    "3. $k=+1$. In this case, $f$ is usually a *homotopy operator*, that is, some relation $$d'_{p+1}\\circ f_p+f_{p-1}\\circ d_p=g_p-g'_p$$ is satisfied for two (ordinary) chain complex morphisms $g_\\ast$ and $g'_\\ast$, and $f_\\ast$ is a homotopy between $g_\\ast$ and $g'_\\ast$.\n",
    "\n",
    "For technical reasons, these three types of morphisms have been implemented in the `Kenzo` program\n",
    "in a unique type.\n",
    "\n",
    "\n",
    "## Generators, terms, and combinations\n",
    "\n",
    "To become familiar with the Lisp functions implementing the chain complexes, the best is to begin with an example. *Simplicial complexes* are good candidates for this purpose, and we shall take as a typical example the following simplicial complex."
   ]
  },
  {
   "cell_type": "code",
   "execution_count": null,
   "metadata": {
    "collapsed": false,
    "scrolled": false
   },
   "outputs": [],
   "source": [
    "(cl-jupyter-user:png-from-file \"diabolo.png\")"
   ]
  },
  {
   "cell_type": "markdown",
   "metadata": {},
   "source": [
    "In this simplicial complex, called here *diabolo*, there are 3 non-null chain groups.\n",
    "\n",
    "* $C_0$, the free $\\mathbb{Z}$-module on the set of vertices $\\{s_0,s_1,s_2,s_3,s_4,s_5\\}$\n",
    "* $C_1$, the free $\\mathbb{Z}$-module on the set of edges $\\{s_{01},s_{02},s_{12},s_{23},s_{34},s_{35}, s_{45}\\}$\n",
    "* $C_2$, the free $\\mathbb{Z}$-module on the set of triangles (here a singleton) $\\{s_{345}\\}$\n",
    "\n",
    "The elements of either of those groups $C_p$ are linear integer combinations of the corresponding basis $\\beta_p$, i.e. elements of the form:\n",
    "$$\n",
    "\\sum_{b \\in \\beta_p} \\lambda_b b.\n",
    "$$\n",
    "For example $2 s_{02} - 3 s_{34} \\in C_1$. An element $b$ of the basis $\\beta_p$ of $C_p$ is called a *generator* of $C_p$ and in our specific case this generator will be represented by a Lisp symbol. For instance, $s_{45}$ will be translated into `s45`. However, the user should be aware that in more realistic usage of the software, generators may be of any type. A product such as $\\lambda_i\\sigma_i$ is called a *term* and a sum of terms, a *combination*.\n",
    "\n",
    "### Representation of a combination\n",
    "\n",
    "A combination is represented internally in the system by a structure having the following general form:\n",
    "\n",
    "$$\\#\\texttt{S(CMBN}\\quad\\texttt{DEGREE P}\\quad\\texttt{LIST (}\\texttt{(}\\lambda_1\\cdot\\sigma_1\\texttt{)}\\dots\\texttt{(}\\lambda_k\\cdot\\sigma_k\\texttt{)))}$$\n",
    "and containing\n",
    "\n",
    "1. The degree of the combination corresponding to the index $p\\in\\mathbb{Z}$ of the group $C_p$ to which this combination belongs.\n",
    "2. The list of the internal representation of the terms, namely the list of pairs $(\\lambda_i\\cdot\\sigma_i)$.\n",
    "\n",
    "This choice of representation implies that only homogeneous combinations will be considered. The type `CMBN` and a printing method are provided with this internal representation. The external form of a combination is shown in the examples.\n",
    "\n",
    "### Ordering the generators\n",
    "\n",
    "In order to speed up the execution of algorithms involving combinations, the list of pairs $(\\lambda_i.\\sigma_i)$ is ordered by an adequate ordering function (ex: the lexicographical ordering on the symbols). For programming convenience, an enumerated type `CMPR` has been defined:\n",
    "```lisp\n",
    "(deftype cmpr() '(member :less :equal :greater))\n",
    "```\n",
    "A number of macros, functions and methods have been defined on usual sets (symbols, numbers, lists, etc.) taking their value in the set `[:less, :equal, :greater]`. Of course, the user may define its own function for a particular case. There exists functions to compare various couples of usual items:\n",
    "\n",
    "`(f-cmpr`  *n1 n2*`)` *[Function]* \n",
    "> Return `:less`, `:equal`, `:greater`, according to the result of the canonical comparison of both integers *n1* and *n2*.\n",
    "\n",
    "`(s-cmpr` *symbol1 symbol2*`)` *[Function]* \n",
    "> Return  `:less`, `:equal`, `:greater`, according to the result of the lisp comparison functions on the strings `(symbol-name` *symbol1*`)` and `(symbol-name` *symbol2*`)`\n",
    "\n",
    "`(l-cmpr ` *list1 list2*`)` *[Function]* \n",
    "> Return `:less`, `:equal`, `:greater`, according to the lexicographical ordering of the two lists *list1*\n",
    "and *list2*, making sense only if *list1* and *list2* are lists made of integers, symbols and/or lists; in the last case, the qualifier *list* is to be understood recursively.\n",
    "\n",
    "#### Examples"
   ]
  },
  {
   "cell_type": "code",
   "execution_count": null,
   "metadata": {
    "collapsed": false,
    "scrolled": false
   },
   "outputs": [],
   "source": [
    "(f-cmpr 123 789)"
   ]
  },
  {
   "cell_type": "code",
   "execution_count": null,
   "metadata": {
    "collapsed": false,
    "scrolled": false
   },
   "outputs": [],
   "source": [
    "(s-cmpr 'circulation 'circular)"
   ]
  },
  {
   "cell_type": "code",
   "execution_count": null,
   "metadata": {
    "collapsed": false,
    "scrolled": false
   },
   "outputs": [],
   "source": [
    "(s-cmpr 'qwerty 'qwerty)"
   ]
  },
  {
   "cell_type": "code",
   "execution_count": null,
   "metadata": {
    "collapsed": false,
    "scrolled": false
   },
   "outputs": [],
   "source": [
    "(l-cmpr '(1 a b) '(1 a))"
   ]
  },
  {
   "cell_type": "markdown",
   "metadata": {},
   "source": [
    "1.2.3 Functions handling combinations\n",
    "\n",
    "The software provides a set of functions, methods, and macros to create or modify combinations.\n",
    "\n",
    "`(term-cmbn` *dgr cf gnr*`)` *[Macro]* \n",
    "> Construct the combination of degree `dgr` with unique term `cf * gnr`.\n",
    "\n",
    "`(cmbn` *dgr cf1 gnr1 cf2 gnr2 ... cfn gnrn*`)` *[Function]* \n",
    "> Construct a combination of degree `dgr`, sum of the terms $cf_i *  gnr_i$. The sequence of pairs $\\lbrace cf_i\\ gnr_i\\rbrace$ has an undefinite length and may be void. In this case, the combination is a null combination of degree `dgr`. It is the responsability of the user to properly order the terms of the combination, otherwise later calculations with this combination could work erroneously. This point can be checked by the `do-control` function. **[I suggest to insert here two appropriate examples.]**\n",
    "\n",
    "`(cmbn-p` *object*`)` *[Function]* \n",
    "> Test is `object` is a legal combination.\n",
    "\n",
    "`(cmbn-degr` *cmbn*`)` *[Macro]* \n",
    "> Get the degree (an integer) of the combination `cmbn`.\n",
    "\n",
    "`(cmbn-list` *cmbn*`)` *[Macro]* \n",
    "> Get the list of the terms  of the combination `cmbn`. Beware: a term is not a structure object, it is a simple `cons` `(cffc . gnrt)`, a pair coefficient - generator. Given a term, one may select the coefficient (an integer) or the generator - a `Kenzo` object - respectively by the macros `cffc` and `gnrt`.\n",
    "\n",
    "`(zero-cmbn` *dgr*`)` *[Function]* \n",
    "> Create an instance of a null combination in the degree `dgr`.\n",
    "\n",
    "`(cmbn-zero-p` *cmbn*`)` *[Macro]* \n",
    "> Test if `cmbn` is a null combination in any degree.\n",
    "\n",
    "`(cmbn-non-zero-p` *cmbn*`)` *[Macro]* \n",
    "> Test if `cmbn` is a non-null combination in any degree.\n",
    "\n",
    "`(cmbn-opps` *cmbn*`)` *[Function]*\n",
    "> Create a combination opposite to `cmbn`.\n",
    "\n",
    "`(n-cmbn` *n cmbn*`)` *[Function]* \n",
    "> Create a  combination multiple of `cmbn` by the factor `n`.\n",
    "\n",
    "`(2cmbn-add cmpr` *cmbn1 cmbn2*`)` *[Function]*\n",
    "> Create a combination, sum of both combinations `cmbn1` and `cmbn2`. The first argument, `cmpr`, must be the comparison function available in the slot `cmpr` of the underlying chain complex, required to properly merge the terms of both combinations.\n",
    "\n",
    "`(ncmbn-add` *cmpr cmbn1 cmbn2 ... cmbnk*`)` *[Function]* \n",
    "> Create a combination, sum of the indefinite number of combinations $cmbn_i$. As to the first argument, `cmpr`, see the function `2cmbn-add`.\n",
    "\n",
    "`(2n-2cmbn` *cmpr n1 cmbn1 n2 cmbn2*`)` *[Function]* \n",
    "> Build the combination `n1 * cmbn1 + n2 * cmbn2`. Both integers `n1` and `n2` must be\n",
    "non null. As to the first argument, `cmpr`, see the function `2cmbn-add`.\n",
    "\n",
    "`(2cmbn-sbtr` *cmpr cmbn1 cmbn2*`)` *[Function]* \n",
    "> Create a combination, difference of `cmbn1` and `cmbn2`. As to the first argument, `cmpr`, see the function `2cmbn-add`.\n",
    "\n",
    "#### Examples"
   ]
  },
  {
   "cell_type": "code",
   "execution_count": null,
   "metadata": {
    "collapsed": false,
    "scrolled": false
   },
   "outputs": [],
   "source": [
    "(def comb1 (cmbn 1 1 'u 2 'v 3 'w 4 'z))"
   ]
  },
  {
   "cell_type": "code",
   "execution_count": null,
   "metadata": {
    "collapsed": false,
    "scrolled": false
   },
   "outputs": [],
   "source": [
    "(cmbn-non-zero-p comb1)"
   ]
  },
  {
   "cell_type": "code",
   "execution_count": null,
   "metadata": {
    "collapsed": false,
    "scrolled": false
   },
   "outputs": [],
   "source": [
    "(cmbn-list comb1)"
   ]
  },
  {
   "cell_type": "code",
   "execution_count": null,
   "metadata": {
    "collapsed": false,
    "scrolled": false
   },
   "outputs": [],
   "source": [
    "(def term3 (third *))  ;; a simple cons!"
   ]
  },
  {
   "cell_type": "code",
   "execution_count": null,
   "metadata": {
    "collapsed": false,
    "scrolled": false
   },
   "outputs": [],
   "source": [
    "(cffc term3)"
   ]
  },
  {
   "cell_type": "code",
   "execution_count": null,
   "metadata": {
    "collapsed": false,
    "scrolled": false
   },
   "outputs": [],
   "source": [
    "(gnrt term3)"
   ]
  },
  {
   "cell_type": "code",
   "execution_count": null,
   "metadata": {
    "collapsed": false,
    "scrolled": false
   },
   "outputs": [],
   "source": [
    "(def mcomb1 (cmbn-opps comb1))"
   ]
  },
  {
   "cell_type": "code",
   "execution_count": null,
   "metadata": {
    "collapsed": false,
    "scrolled": false
   },
   "outputs": [],
   "source": [
    "(def comb2 (n-cmbn 10 comb1))"
   ]
  },
  {
   "cell_type": "code",
   "execution_count": null,
   "metadata": {
    "collapsed": false,
    "scrolled": false
   },
   "outputs": [],
   "source": [
    "(def cmb12 (2cmbn-add #'s-cmpr comb1 comb2))"
   ]
  },
  {
   "cell_type": "code",
   "execution_count": null,
   "metadata": {
    "collapsed": false,
    "scrolled": false
   },
   "outputs": [],
   "source": [
    "(2cmbn-sbtr #'s-cmpr comb1 cmb12)"
   ]
  },
  {
   "cell_type": "code",
   "execution_count": null,
   "metadata": {
    "collapsed": false,
    "scrolled": false
   },
   "outputs": [],
   "source": [
    "(ncmbn-add #'s-cmpr\n",
    "           comb1 comb2 comb1 comb2 comb1 comb2 comb1 comb2 comb1 comb2)"
   ]
  },
  {
   "cell_type": "markdown",
   "metadata": {},
   "source": [
    "## Representation of a chain complex\n",
    "\n",
    "A chain complex is implemented as an instance of a `CLOS` class, \n",
    "the class `CHAIN-COMPLEX`, whose definition is\n",
    "\n",
    "```lisp\n",
    "(DEFCLASS CHAIN-COMPLEX ()\n",
    "    ((cmpr  :type cmprf :initarg :cmpr  :reader cmpr1)\n",
    "     (basis :type basis :initarg :basis :reader basis1)\n",
    "     ;; BaSe GeNerator\n",
    "     (bsgn :type gnrt :initarg :bsgn :reader bsgn)\n",
    "     ;; DiFFeRential\n",
    "     (dffr :type morphism :initarg :dffr :reader dffr1)\n",
    "     ;; GRound MoDule\n",
    "     (grmd :type chain-complex :initarg :grmd :reader grmd)\n",
    "     ;; EFfective HoMology\n",
    "     (efhm :type homotopy-equivalence :initarg :efhm :reader efhm)\n",
    "     ;; IDentification NuMber\n",
    "     (idnm :type fixnum :initform (incf *idnm-counter*) :reader idnm)\n",
    "     ;; ORiGiN\n",
    "     (orgn :type list :initarg :orgn :reader orgn)))\n",
    "```\n",
    "\n",
    "This class has 8 slots:\n",
    "\n",
    "1. `cmpr`, a comparison function or method for  generators with a range in the set `[:less, :equal, :greater]`. It is very important to note that the generators to be compared are assumed to be of the *same degree*, i.e. they must belong to the same group $C_p$. As an exception with the general policy of the program, this degree is not explicitly precised. The implementor has chosen to avoid additional tests because in real problems the program spends a lot of time comparing generators.\n",
    "2. `basis`, a lisp function giving the distinguished **ordered** basis of the free $\\mathbb{Z}$-modules ($C_p$). (Recall that in the program, only free chain complexes are considered.) When some  components of the chain complex are not finitely generated, we say that the chain complex is *locally effective*. In this case the value of this slot must be the keyword `locally-effective`.\n",
    "3. `bsgn`, a lisp object of any type representing a distinguished generator in dimension 0, the base generator. \n",
    "4. `dffr`, the differential morphism, instance of the class `MORPHISM`, defined hereafter. The pure lisp function corresponding to the differential homomorphism for each $p$ ($d_p : C_p \\rightarrow C_{p-1}$) is defined in the instance morphism object and not directly in the instance chain complex object.\n",
    "5. `idnm`, an integer, number plate for this object. This is generated by the system in a sequential way, each time a new `Kenzo` object is created.\n",
    "6. `orgn`, a list containing a comment to recall to the user the *origin* of the object. This comment must be chosen with care because, when the user creates a new chain complex instance, the  system `Kenzo` uses the comment list information to search in a specific list (here `*chcm-list*`) if the object has not been already built. So, one avoids the  duplication of instances of the same object.\n",
    "\n",
    "The two slots `grmd` and `efhm` will be explained later. The accessors of the slots are the functions whose name appears after the specifier `:reader` in the class definition. A printing method has been associated to the class `CHAIN-COMPLEX` and the external representation of a chain complex instance is a string like `[Kn Chain-Complex]`, \n",
    "where `n` is the number plate of this `Kenzo` object.\n",
    "\n",
    "\n",
    "### The function `build-chcm`\n",
    "\n",
    "To facilitate the construction of instances of the class `CHAIN-COMPLEX` and to free the user to call\n",
    "the standard constructor `make-instance`, the software provides the function\n",
    "\n",
    "`build-chcm`\n",
    "> `:cmpr` *cmpr* `:basis` *basis* `:bsgn` *bsgn* `:intr-dffr` *intr-dffr* `:strt` *strt* `:orgn` *orgn*\n",
    "\n",
    "defined with keyword parameters. The returned value is an instance of the class `CHAIN-COMPLEX`. In particular, this function frees the user to build himself the instance of the class `MORPHISM` corresponding to the differential homomorphism. The keyword arguments of `build-chcm` are:\n",
    "\n",
    "- `cmpr`, the comparison function for generators.\n",
    "- `basis`, the function defining the distinguished  basis of the free $\\mathbb{Z}$-modules $C_p$ or the keyword `:locally-effective`.\n",
    "- `bsgn`, a generator, the base point of the underlying set.\n",
    "- `intr-dffr`, a **lisp function** defining the differential homomorphism for each $p$ ($d_p : C_p \\rightarrow C_{p-1}$).\n",
    "- `strt`, one of the two values: `:gnrt` or `:cmbn`, defining the mapping *strategy* of the differential homomorphism, either by generator or by combination. The default is `:gnrt`. The real connection between the  arguments `intr-dffr` and `strt`will be detailed hereafter through typical examples. The general idea is the following: if the strategy is `:gnrt`, the `:intr-dffr` argument function  uses two arguments, namely a degree and a generator of this degree and computes the boundary combination of this generator. If the strategy is `:cmbn`, the `:intr-dffr` argument function uses a combination as argument and computes the boundary combination of this argument. We recall that a combination contains its own degree.\n",
    "- `orgn`, a list containing  a relevant and carefully chosen  comment about the `origin` of the chain complex. If, during a Lisp session, the user wishes to  modify any slot of an existing chain complex, by calling again `build-chcm`, he must change also the comment, otherwise the new version of the object will not be created. This remark is valid for any kind of instantiation of `Kenzo` objects. The function `cat-init` reinitializes the environment, that is, the previous relations `orgn` $\\rightarrow$ Kenzo objects are deleted.\n",
    "\n",
    "\n",
    "After creation of an instance of chain complex, the function `build-chcm` pushes this\n",
    "object in the list of already created chain complexes `*chcm-list*`.\n",
    "\n",
    "#### A first example of a chain complex\n",
    "\n",
    "Let us consider our small example *diabolo*. We shall give the same name to the corresponding chain complex  instance. Let us define, one by one, the values of the key parameters, though it is possible to put them directly in the `build-chcm` call. First, the function `s-cmpr`, already seen above, is  the natural choice to compare generators, which are here, lisp symbols:"
   ]
  },
  {
   "cell_type": "code",
   "execution_count": null,
   "metadata": {
    "collapsed": false,
    "scrolled": false
   },
   "outputs": [],
   "source": [
    "(def diabolo-cmpr #'s-cmpr)"
   ]
  },
  {
   "cell_type": "markdown",
   "metadata": {},
   "source": [
    "The function for the basis consists in enumerating the distinguished basis as lisp lists according to the degree:"
   ]
  },
  {
   "cell_type": "code",
   "execution_count": null,
   "metadata": {
    "collapsed": false,
    "scrolled": false
   },
   "outputs": [],
   "source": [
    "(def diabolo-basis #'(lambda (dmn)\n",
    "                             (case dmn\n",
    "                                 (0 '(s0 s1 s2 s3 s4 s5))\n",
    "                                 (1 '(s01 s02 s12 s23 s34 s35 s45))\n",
    "                                 (2 '(s345))\n",
    "                                 (otherwise nil))))"
   ]
  },
  {
   "cell_type": "markdown",
   "metadata": {},
   "source": [
    "For the base point, we may choose any vertex:"
   ]
  },
  {
   "cell_type": "code",
   "execution_count": null,
   "metadata": {
    "collapsed": false,
    "scrolled": false
   },
   "outputs": [],
   "source": [
    "(def diabolo-bspn 's0)"
   ]
  },
  {
   "cell_type": "markdown",
   "metadata": {},
   "source": [
    "The lisp function for the differential homomorphism, also called boundary homomorphism, computes the boundary of each generator, in this case, according to the classical (simplicial) rule:\n",
    "\n",
    "$$ {\\bf d}[{s_0s_1\\ldots s_n}] = \\sum_{i=0}^n{(-1)^is_0s_1\\ldots\\widehat{s_i}\\ldots s_n}.$$\n",
    "\n",
    "It must be noted that our differential uses a predefined choice for the order of the vertices."
   ]
  },
  {
   "cell_type": "code",
   "execution_count": null,
   "metadata": {
    "collapsed": false,
    "scrolled": false
   },
   "outputs": [],
   "source": [
    "(def diabolo-pure-dffr\n",
    "         #'(lambda (dmn gnr)\n",
    "                   (unless (<= 0 dmn 2)\n",
    "                       (error \"Incorrect dimension for diabolo-dp.\"))\n",
    "                   (case dmn\n",
    "                       (0 (cmbn -1))  ; Note the null combination of degree -1\n",
    "                       (1 (case gnr\n",
    "                              (s01 (cmbn 0 -1 's0 1 's1))\n",
    "                              (s02 (cmbn 0 -1 's0 1 's2))\n",
    "                              (s12 (cmbn 0 -1 's1 1 's2))\n",
    "                              (s23 (cmbn 0 -1 's2 1 's3))\n",
    "                              (s34 (cmbn 0 -1 's3 1 's4))\n",
    "                              (s35 (cmbn 0 -1 's3 1 's5))\n",
    "                              (s45 (cmbn 0 -1 's4 1 's5))))\n",
    "                       (2 (case gnr\n",
    "                              (s345 (cmbn 1 1 's34 -1 's35 1 's45))))\n",
    "                       (otherwise (error \"Bad generator for complex diabolo\")))))"
   ]
  },
  {
   "cell_type": "markdown",
   "metadata": {},
   "source": [
    "The  strategy is by generator and the comment recalls the name of the problem:"
   ]
  },
  {
   "cell_type": "code",
   "execution_count": null,
   "metadata": {
    "collapsed": false,
    "scrolled": false
   },
   "outputs": [],
   "source": [
    "(def diabolo-strt :GNRT)"
   ]
  },
  {
   "cell_type": "code",
   "execution_count": null,
   "metadata": {
    "collapsed": false,
    "scrolled": false
   },
   "outputs": [],
   "source": [
    "(def diabolo-orgn '(diabolo-for-example))"
   ]
  },
  {
   "cell_type": "markdown",
   "metadata": {},
   "source": [
    "The effective call to `build-chcm` is now reduced to:"
   ]
  },
  {
   "cell_type": "code",
   "execution_count": null,
   "metadata": {
    "collapsed": false,
    "scrolled": false
   },
   "outputs": [],
   "source": [
    "(def diabolo (build-chcm :cmpr diabolo-cmpr :basis diabolo-basis\n",
    "                         :bsgn diabolo-bspn :intr-dffr diabolo-pure-dffr\n",
    "                         :strt diabolo-strt :orgn diabolo-orgn))"
   ]
  },
  {
   "cell_type": "markdown",
   "metadata": {},
   "source": [
    "The value of the symbol `diabolo` is the `CHAIN-COMPLEX` instance which is here the first created `Kenzo` object. The string `[K1 Chain-Complex]` is printed by the printing method associated to the class.\n",
    "\n",
    "### Simple functions handling chain complexes\n",
    "\n",
    "`(cat-init)` *[Function]*\n",
    "> Clear among others, the list `*chcm-list*`, list of user created chain complexes  and reset the global counter to 1. The existing objects and in particular here the chain complexes, are not destroyed but they will not enter any more in account during the search process for duplicated objects. This remark is general for the other types of objects saved in specific lists. \n",
    "\n",
    "`(chcm` *n*`)` *[Function]*\n",
    "> Return from the list `*chcm-list*` the chain complex instance whose the Kenzo identification is `n`; if it does not exist, return `NIL`.\n",
    "\n",
    "`(cmpr` *object item1 item2*`)` *[Macro]*\n",
    "> Apply the comparison function associated to the chain complex `object` to the two generators `item1` and `item2`.\n",
    "\n",
    "`(basis` *object n*`)` *[Macro]*\n",
    "> With only one argument (`object`), get the  function attached to the slot `basis` of the chain complex object. With two arguments, get the distinguished basis of the group of degree `n` in the chain complex `object`. If the chain complex is locally effective, this function returns an error because, in some degrees, the corresponding set of generators is probably infinite.\n",
    "\n",
    "`(dffr` *chcm* `&rest)` *[Macro]* \n",
    "> Versatile macro to apply the differential morphism of the chain complex `chcm` either to a combination or a generator with a degree, respectively `(dffr chcm cmbn)` or `(dffr chcm degr gnrt)`. The macro `?`, described later, may be used for the same purpose.\n",
    "\n",
    "`(z-chcm)` *[Function]* \n",
    "> Build the unit chain complex (see hereafter).\n",
    "\n",
    "#### Examples\n",
    "\n",
    "Let us apply some accessors functions and the simple  functions above to the chain complex `diabolo`. First, we see that the list `*chcm-list*` contains only one element, namely the chain complex just created."
   ]
  },
  {
   "cell_type": "code",
   "execution_count": null,
   "metadata": {
    "collapsed": false,
    "scrolled": false
   },
   "outputs": [],
   "source": [
    "*chcm-list*"
   ]
  },
  {
   "cell_type": "code",
   "execution_count": null,
   "metadata": {
    "collapsed": false,
    "scrolled": false
   },
   "outputs": [],
   "source": [
    "(chcm 1)"
   ]
  },
  {
   "cell_type": "code",
   "execution_count": null,
   "metadata": {
    "collapsed": false,
    "scrolled": false
   },
   "outputs": [],
   "source": [
    "(orgn diabolo)"
   ]
  },
  {
   "cell_type": "code",
   "execution_count": null,
   "metadata": {
    "collapsed": false,
    "scrolled": false
   },
   "outputs": [],
   "source": [
    "(idnm diabolo)"
   ]
  },
  {
   "cell_type": "code",
   "execution_count": null,
   "metadata": {
    "collapsed": false,
    "scrolled": false
   },
   "outputs": [],
   "source": [
    "(basis diabolo 0)"
   ]
  },
  {
   "cell_type": "code",
   "execution_count": null,
   "metadata": {
    "collapsed": false,
    "scrolled": false
   },
   "outputs": [],
   "source": [
    "(basis diabolo 1)"
   ]
  },
  {
   "cell_type": "code",
   "execution_count": null,
   "metadata": {
    "collapsed": false,
    "scrolled": false
   },
   "outputs": [],
   "source": [
    "(basis diabolo 2)"
   ]
  },
  {
   "cell_type": "code",
   "execution_count": null,
   "metadata": {
    "collapsed": false,
    "scrolled": false
   },
   "outputs": [],
   "source": [
    "(basis diabolo 10)"
   ]
  },
  {
   "cell_type": "code",
   "execution_count": null,
   "metadata": {
    "collapsed": false,
    "scrolled": false
   },
   "outputs": [],
   "source": [
    "(dffr diabolo 2 's345)"
   ]
  },
  {
   "cell_type": "code",
   "execution_count": null,
   "metadata": {
    "collapsed": false,
    "scrolled": false
   },
   "outputs": [],
   "source": [
    "(dffr diabolo *)"
   ]
  },
  {
   "cell_type": "markdown",
   "metadata": {},
   "source": [
    "#### An important trivial case: the unit chain complex, $\\mathbb{Z}$\n",
    "\n",
    "The unit chain complex, has a unique non null component, namely a $\\mathbb{Z}$-module of degree 0 generated by a unique generator, called here `:Z-gnrt`. It is defined by the following call to `build-chcm`:"
   ]
  },
  {
   "cell_type": "code",
   "execution_count": null,
   "metadata": {
    "collapsed": false,
    "scrolled": false
   },
   "outputs": [],
   "source": [
    "(def ZCC\n",
    "    (the chain-complex\n",
    "         (build-chcm\n",
    "          :cmpr #'(lambda (gnrt1 gnrt2)\n",
    "                          (declare (ignore gnrt1 gnrt2))\n",
    "                          (the cmpr :equal))\n",
    "          :basis #'(lambda (n)\n",
    "                           (the list\n",
    "                                (if (zerop n) '(:Z-gnrt) +empty-list+)))\n",
    "          :bsgn :Z-gnrt\n",
    "          :intr-dffr #'(lambda (cmbn)\n",
    "                               (the cmbn (zero-cmbn (1- (cmbn-degr cmbn)))))\n",
    "          :strt :cmbn\n",
    "          :orgn '(zcc-constant))))"
   ]
  },
  {
   "cell_type": "markdown",
   "metadata": {
    "collapsed": false
   },
   "source": [
    "In this definition,\n",
    "\n",
    "1. The `:cmpr` keyword argument is a function  returning `:equal` on any pair on generators (because there is a unique generator!).\n",
    "2. The `:basis` keyword argument is a lisp function returning the null basis (the constant `+empty-list+ = ()`) for $p \\not= 0$ and the list `(:Z-gnrt)`, for $p=0$.\n",
    "3. The base generator is of course `Z-gnrt`.\n",
    "4. The `:intr-dffr` keyword argument is a lisp function defining the differential  which, to any combination of degre $p$ of the chain complex, returns a *null combination* of degree $p-1$. This simple lisp function is also provided in `Kenzo` and is called `#'zero-intr-dffr`.\n",
    "5. The `:strt` keyword argument is the combination strategy (`:cmbn`).\n",
    "6. The `:orgn` keyword argument is the comment list `(zcc-constant)`.\n",
    "\n",
    "In the program `Kenzo`, the chain complex instance `ZCC` may be built, when needed, by the lisp statement: `(z-chcm)`. This statement may be used freely each time one needs this chain complex, since the system  recognizes if it has already been created.\n",
    "\n",
    "#### The chain complex `circle`\n",
    "\n",
    "On the model of the previous chain complex, one may define a function `circle` for building the chain complex associated to the standard model of the circle as a simplicial set."
   ]
  },
  {
   "cell_type": "code",
   "execution_count": null,
   "metadata": {
    "collapsed": false,
    "scrolled": false
   },
   "outputs": [],
   "source": [
    "(defun MY-CIRCLE ()\n",
    "    (the chain-complex\n",
    "         (build-chcm\n",
    "          :cmpr #'(lambda (gnrt1 gnrt2)\n",
    "                          (declare (ignore gnrt1 gnrt2))\n",
    "                          (the cmpr :equal))\n",
    "          :basis #'(lambda (dmns)\n",
    "                           (the list\n",
    "                                (case dmns (0 '(*)) (1 '(s1))\n",
    "                                    (otherwise +empty-list+))))\n",
    "          :bsgn '*\n",
    "          :intr-dffr #'zero-intr-dffr\n",
    "          :strt :cmbn\n",
    "          :orgn '(circle))))"
   ]
  },
  {
   "cell_type": "markdown",
   "metadata": {},
   "source": [
    "## Morphisms\n",
    "\n",
    "Algebraic Topology uses morphisms between chain complexes and the differential homomorphism may be considered as a particular case of  morphism. A morphism is implemented in the system as an instance of the class `MORPHISM`, whose definition is:\n",
    "\n",
    "```lisp\n",
    "(DEFCLASS MORPHISM ()\n",
    "     ;; SOuRCe\n",
    "    ((sorc :type chain-complex :initarg :sorc :reader sorc)\n",
    "     ;; TaRGeT\n",
    "     (trgt :type chain-complex :initarg :trgt :reader trgt)\n",
    "     ;; DEGRee\n",
    "     (degr :type fixnum :initarg :degr :reader degr)\n",
    "     ;; INTeRnal\n",
    "     (intr :type intr-mrph :initarg :intr :reader intr)\n",
    "     ;; STRaTegy\n",
    "     (strt :type strt :initarg :strt :reader strt)\n",
    "     ;; CaLl NuMber\n",
    "     (???-clnm :type fixnum :initform 0 :accessor ???-clnm)\n",
    "     (?-clnm :type fixnum :initform 0 :accessor ?-clnm)\n",
    "     ;; ReSuLTS\n",
    "     (rslts :type simple-vector  :reader rslts)\n",
    "     ;; IDentification NuMber\n",
    "     (idnm :type fixnum :initform (incf *idnm-counter*) :reader idnm)\n",
    "     ;; ORiGiN\n",
    "     (orgn :type list :initarg :orgn :reader orgn)))\n",
    "```\n",
    "\n",
    "This class has 10 slots:\n",
    "\n",
    "1. `sorc`, an object of the class `CHAIN-COMPLEX`, namely the *source* chain complex of this morphism.\n",
    "2. `trgt`, an object of the class `CHAIN-COMPLEX`, namely the *target* chain complex of this morphism.\n",
    "3. `degr`, an integer, the degree of the morphism. A morphism is supposed to associate to any element of degree $k$ of the source chain complex, an element of degree $k + degr$ of the target chain complex. For instance, a differential homomorphism is of degree -1.\n",
    "4. `intr`, a **pure lisp function** implementing the mathematical algorithm of the morphism and taking in account the strategy (`strt`).\n",
    "5. `strt`, one of the two symbols `:gnrt`, `:cmbn`. What has already been said about the strategy of the differential morphism is generalized to any morphism: according  to the value of the argument, `:gnrt` or `:cmbn`, the lisp function attached to the keyword just above, works respectively with 2 arguments (a degree and a generator) or only one (a combination) and must return a combination, image of the generator or the combination argument. \n",
    "6. `???-clnm`, an integer updated by the system for statistics (number of times the morphism has been called on combinations - Internal use)\n",
    "7. `?-clnm`, analogous to the previous field, but for generators.\n",
    "8. `rslts`, an array of dimension `*maxdim*` reserved by the system to save  computed results in order to avoid  re-computing, for instance, the differential of the same generator. - Internal use.\n",
    "9. `idnm`, an integer, number plate for this object. This is generated by the system.\n",
    "10. `orgn`, a relevant comment list.\n",
    "\n",
    "The accessors of the slots are the functions whose name appears after the specifier `:reader` or after the specifier `:accessor` in the class definition. A printing method has been associated to the class `MORPHISM` and the external representation of an instance is a string like `[Kn Morphism (degree d): Kp -> Kq]` or `Kn Cohomology-Class (degree d)]` when the chain complex target is the unit $\\mathbb{Z}$. In this string, `n` is the number plate of the `Kenzo` object, `d` is the degree of the morphism, `Kp` is the `Kenzo` object source of the morphism and `Kq` the target. In all the  examples of this manual, the last part of the string will not be necessarily printed."
   ]
  },
  {
   "cell_type": "markdown",
   "metadata": {},
   "source": [
    "### The function `build-mprh`\n",
    "\n",
    "To facilitate the construction of instances of the class `MORPHISM` and to free  the user to call the standard constructor `make-instance`, the software provides the function `build-mrph`\n",
    "\n",
    "`build-mrph`\n",
    "> `:sorc` *sorc* `:trgt` *trgt* `:degr` *degr* `:intr` *intr* `:strt` *strt* `:orgn` *orgn*\n",
    "\n",
    "\n",
    "defined with keyword parameters. The returned value is an instance of the class `MORPHISM`. The keyword arguments of `build-mrph` are:\n",
    "\n",
    "- *sorc*, the source object, a `CHAIN-COMPLEX` type object.\n",
    "- *trgt*, the target object, a `CHAIN-COMPLEX` type object.\n",
    "- *degr*, the degree of the morphism, an integer.\n",
    "- *intr*, the pure lisp function defining the effective mapping.\n",
    "- *strt*, the strategy, i.e. `:gnrt` or `:cmbn`.\n",
    "- *orgn*, a relevant comment list.\n",
    "\n",
    "After a call to `build-mrph`, the morphism instance is added to a list of previously constructed  ones (`*mrph-list*`).\n",
    "\n",
    "#### The differential homomorphism in a chain complex instance\n",
    "\n",
    "In a  chain complex instance, the differential homomorphism is defined as a morphism with identical source and target, and degree -1. The user must know that the function `build-chcm` calls internally the function `build-mrph` and passes it the keyword argument `intr-dffr`. The function `build-mrph` builds the  morphism instance which will be then inserted into the slot `:dffr` of the chain complex instance to be constructed.\n",
    "\n",
    "##### Example\n",
    "\n",
    "Let us define respectively a *zero--morphism* of degree -1 and an *identity-morphism* (degree 0)  between  the *unit chain complex* `ZCC` and itself."
   ]
  },
  {
   "cell_type": "code",
   "execution_count": null,
   "metadata": {
    "collapsed": false,
    "scrolled": false
   },
   "outputs": [],
   "source": [
    "(cat-init)"
   ]
  },
  {
   "cell_type": "code",
   "execution_count": null,
   "metadata": {
    "collapsed": false,
    "scrolled": false
   },
   "outputs": [],
   "source": [
    "(def ZCC (z-chcm))"
   ]
  },
  {
   "cell_type": "code",
   "execution_count": null,
   "metadata": {
    "collapsed": false,
    "scrolled": false
   },
   "outputs": [],
   "source": [
    "(def zero-morphism (build-mrph :sorc ZCC\n",
    "                               :trgt ZCC\n",
    "                               :degr -1\n",
    "                               :intr #'(lambda (comb)\n",
    "                                               (cmbn (1- (degr comb))))\n",
    "                               :strt :cmbn\n",
    "                               :orgn '(zero morphism on ZCC)))"
   ]
  },
  {
   "cell_type": "code",
   "execution_count": null,
   "metadata": {
    "collapsed": false,
    "scrolled": false
   },
   "outputs": [],
   "source": [
    "(def id-morphism (build-mrph :sorc ZCC\n",
    "                             :trgt ZCC\n",
    "                             :degr 0\n",
    "                             :intr #'identity\n",
    "                             :strt :cmbn\n",
    "                             :orgn '(identity morphism on ZCC)))"
   ]
  },
  {
   "cell_type": "markdown",
   "metadata": {},
   "source": [
    "On the first morphism, we see that the  `:intr` keyword argument is a lisp function taking any combination of degree `p` of the  unit chain complex and generating a null combination of degree `p-1` of the same chain complex. The second morphism uses the lisp function `identity`.\n",
    "\n",
    "### Applying morphisms\n",
    "\n",
    "To apply an already constructed morphism on a generator, one uses the function `gnrt-?`, the usage of which is described hereafter. On a similar way, to apply a morphism on a combination, one uses the function `cmbn-?`. It is very important to note that these functions can be used with the underlying morphism, **whatever strategy had been decided\n",
    "at creation time by the user for the morphism mapping**. In other words, a morphism defined with the strategy `:gnrt` (resp. `:cmbn`) may be applied to a combination (resp. generator). These functions are mainly used inside the software. For a practical usage, one may use the versatile macro `?`.\n",
    "\n",
    "`(gnrt-? mrph degr gnrt)` *[Function]*\n",
    "> Apply the morphism `mrph` on the generator `gnrt` of degree `degr`.\n",
    "\n",
    "`(cmbn-? mrph cmbn)` *[Function]*\n",
    "> Apply the morphism `mrph` on the combination `cmbn`.\n",
    "\n",
    "`(? &rest args)` *[Macro]*\n",
    "> Versatile macro for applying a morphism  in both cases above, i.e. indifferently as `(? mrph degr gnrt)` or  `(? mrph cmbn)`. If the first argument is a chain complex object, as in `(? chcm degr gnrt)` or in  `(? chcm cmbn)`, then the differential morphism of the chain complex `chcm` is applied to the arguments.\n",
    "\n",
    "### Functions defining morphisms\n",
    "\n",
    "The following functions are useful to work on morphisms, particularly to define new morphisms from already defined ones.\n",
    "\n",
    "`(cat-init)` *[Function]*\n",
    "> Clear in particular `*mrph-list*`, the list of user created morphisms and reset the global counter to 1.\n",
    "\n",
    "`(mrph` *n*`)` *[Function]*\n",
    "> Retrieve in the list `*mrph-list*` the morphism instance whose identification is `n`. If it does not exist, return `NIL`. \n",
    "\n",
    "`(zero-mrph` *chcm1* `&optional (`*chcm2 chcm1*`) (`*degr* `0))` *[Function]*\n",
    "> Construct the null morphism between the chain complexes `chcm1` and `chcm2` of degree `degr`. The parameters `chcm2` and `degr` are optional and if omitted the default values (respectively `chcm1` and 0) are taken.\n",
    "\n",
    "`(idnt-mrph` *chcm*`)` *[Function]*\n",
    "> Construct the identity morphism (degree 0) between the chain complex `chcm` and itself.\n",
    "\n",
    "`(opps` *mrph*`)` *[Function]*\n",
    "> Construct the opposite morphism of `mrph`, i.e. $-1 \\times mrph$; such a function, as well as the following ones, installs the right source and target.\n",
    "\n",
    "`(cmps` *mrph1 mrph2* `&optional` *strt*`)` *[Method]*\n",
    "> Construct the  composite of the morphisms, i.e. $mrph_1 \\circ\\, mrph_2$. Of course, the target of $mrph_2$ must be the same as the source of $mrph_1$, otherwise the system signals an error. The new instance inherits its source slot from $mrph_2$ and its target slot from $mrph_1$. This function optimizes the compositions in which appear zero morphisms or identity morphisms. Unless the user gives explicitly the  strategy (`strt`), the resulting strategy is determined by the respective strategy of the two morphisms.\n",
    "\n",
    "`(cmps` *chcm1 chcm2* `&optional` *strt*`)` *[Method]*\n",
    "Construct the composite of the differential of the chain complexes `chcm1` and `chcm2`, i.e. $d_1 \\circ d_2$.\n",
    "\n",
    "`(cmps` *chcm1 mrph2* `&optional` *strt*`)` *[Method]*\n",
    "> Construct the composite of the differential of the chain complex `chcm1` and the morphism  `mrph2`, i.e. $d_1 \\circ mrph_2$.\n",
    "\n",
    "`(cmps` *mrph1 chcm2* `&optional` *strt*`)` *[Method]*\n",
    "> Construct the composite of the morphism `mrph1` and the differential of the chain complex `chcm2`, i.e. $mrph_1 \\circ d_2$.\n",
    "\n",
    "`(i-cmps` *mrph1 mrph2 ... mrphk*`)` *[Macro]*\n",
    "> Construct the  composite of the morphisms, i.e. $mrph_1 \\circ\\, mrph2 \\circ\\, \\cdots\\, \\circ\\, mrph_k$. Of course, the target of $mrph_i$ must be the same as the source of $mrph_{i-1}$, otherwise the system signals an error. The new instance inherits its source slot from $mrph_k$ and its target slot from $mrph_1$. This function optimizes the compositions in which appear zero morphisms or identity morphisms.\n",
    "\n",
    "`(add` *mrph1 mrph2* `&optional` *strt*`)` *[Method]*\n",
    "> Construct a morphism, sum  of the  morphisms $mrph_1$ and  $mrph_2$.  The result of the mapping of the morphism sum is the sum of the results of the mappings of the morphisms. The respective definitions of the morphisms $mrph_1$ and  $mrph_2$  must be coherent, in particular they must have the same  source, target and degree. The user may impose its strategy, otherwise it is defined in the program according to the respective strategy of the arguments.\n",
    "\n",
    "`(i-add` *mrph1 mrph2 ... mrphk*`)` *[Macro]*\n",
    "> Construct a morphism, sum  of the  morphism $mrph_1$,  $mrph_2$, $\\ldots$, $mrph_k$. The result of the mapping of the morphism sum is the sum of the results of the mappings of the $mrph_i$. The respective definitions of $mrph_i$ must be coherent, in particular they must have the same source, target and degree. The macro `i-add` has an undefinite number of arguments. With one argument, the macro returns that argument.\n",
    "\n",
    "`(sbtr` *mrph1 mrph2* `&optional` *strt*`)` *[Method]*\n",
    "> Construct a morphism, difference  of the  morphisms $mrph_1$ and  $mrph_2$. The conditions of validity are similar to those of the method `add`.\n",
    "\n",
    "`(i-sbtr` *mrph1 mrph2 ... mrphk*`)` *[Macro]*\n",
    "> Construct a morphism, difference  of the  morphisms $mrph_1$,  $mrph_2$, $\\ldots$, $mrph_k$, in the sense $mrph_1 -  mrph_2 - \\cdots - mrph_k$. The conditions of validity are similar to those of the method `add` for the morphisms. The macro `i-sbtr` must have at least 2 arguments.\n",
    "\n",
    "`(change-sorc-trgt` *mrph* `&key` *sorc trgt*`)` *[Function]*\n",
    "> Build from the morphism `mrph` a new morphism inheriting from `mrph` the slots `:degr` (degree), `:intr` (mapping) and `:strt` (strategy). The source  and target slots of this new morphism are given by the key parameters `sorc` and `trgt`. If any key parameter is omitted, the corresponding slot is inherited from `mrph` (default value). This function is most often used when the old and new sources and/or targets are chain complexes with the same underlying graded modules, but with different differentials. Important to have this tool when handling perturbations of differentials.\n",
    "\n",
    "`(dstr-change-sorc-trgt` *mrph* `&key` *sorc trgt*`)` *[Function]*\n",
    "> Modify **destructively** the morphism `mrph`. The source  and target slots of the first argument are replaced respectively by the key parameters `sorc` and `trgt`.\n",
    "\n",
    "`(add` *chcm perturbation* `&optional` *strt*`)` *[Method]*\n",
    "> Create from the chain complex `chcm` a new chain complex inheriting from `chcm` the slots `cmpr` and `basis`. The boundary morphism attached to this new chain complex  is the sum of the boundary morphism $d$ of `chcm` (slot `dffr`) and a perturbation morphism $\\delta$ represented by the `MORPHISM` instance `perturbation`. Of course, the new boundary operator must satisfy $(d+\\delta)\\circ (d+\\delta)=0$.\n",
    "\n",
    "#### Examples\n",
    "\n",
    "In the following examples, we first construct a chain complex instance `ccn` where the groups $C_p$ are freely generated by numerical basis taken formally. These basis are sets of 10 numbers or *decades* produced by the fonction `<a-b<`. For instance, in dimension 0, the basis is $\\lbrace 0,1,2,3,4,5,6,7,8,9 \\rbrace$, in dimension 1, $\\lbrace 10,11,\\ldots,19 \\rbrace$ and so on.\n",
    "The differential is defined as follows: for an even dimension $p$ of the group, a generator $k$ is sent to the combination $cmbn (p-1, 1, k-10)$ if $k$ is even and to the null combination of degree $p-1$ if $k$ is odd. The reverse action is taken if $p$ is odd. So, from the programming point of view, it is sufficient to test the parity of $p+k$.\n",
    "\n",
    "Then, we construct two simple morphisms `upper-shift` and `lower-shift` which respectively apply bijectively a decade on the following one and on the previous one. The generators being integers, the comparative function is of course `f-cmpr`."
   ]
  },
  {
   "cell_type": "code",
   "execution_count": null,
   "metadata": {
    "collapsed": false,
    "scrolled": false
   },
   "outputs": [],
   "source": [
    "(def ccn-boundary #'(lambda (dgr gnr)\n",
    "                            (if (evenp (+ dgr gnr))\n",
    "                                (cmbn (1- dgr) 1 (- gnr 10))\n",
    "                                (cmbn (1- dgr)))))"
   ]
  },
  {
   "cell_type": "code",
   "execution_count": null,
   "metadata": {
    "collapsed": false,
    "scrolled": false
   },
   "outputs": [],
   "source": [
    "(def ccn (build-chcm :cmpr #'f-cmpr\n",
    "                     :basis #'(lambda (n) (<a-b< (* 10 n) (* 10 (1+ n))))\n",
    "                     :bsgn 0\n",
    "                     :intr-dffr ccn-boundary\n",
    "                     :strt :gnrt\n",
    "                     :orgn '(ccn)))"
   ]
  },
  {
   "cell_type": "code",
   "execution_count": null,
   "metadata": {
    "collapsed": false,
    "scrolled": false
   },
   "outputs": [],
   "source": [
    "(def upper-shift (build-mrph\n",
    "                  :sorc ccn :trgt ccn :strt :gnrt :degr +1\n",
    "                  :intr #'(lambda (d gn) (cmbn (1+ d) 1 (+ gn 10)))\n",
    "                  :orgn '(ccn shift +10)))"
   ]
  },
  {
   "cell_type": "code",
   "execution_count": null,
   "metadata": {
    "collapsed": false,
    "scrolled": false
   },
   "outputs": [],
   "source": [
    "(def lower-shift (build-mrph\n",
    "                  :sorc ccn :trgt ccn :strt :gnrt :degr -1\n",
    "                  :intr #'(lambda (d gn) (cmbn (1- d) 1 (- gn 10)))\n",
    "                  :orgn '(ccn shift -10)))"
   ]
  },
  {
   "cell_type": "code",
   "execution_count": null,
   "metadata": {
    "collapsed": false,
    "scrolled": false
   },
   "outputs": [],
   "source": [
    "(? ccn 2 22)"
   ]
  },
  {
   "cell_type": "code",
   "execution_count": null,
   "metadata": {
    "collapsed": false,
    "scrolled": false
   },
   "outputs": [],
   "source": [
    "(? ccn *)  ;(* means the result of the previous command)"
   ]
  },
  {
   "cell_type": "code",
   "execution_count": null,
   "metadata": {
    "collapsed": false,
    "scrolled": false
   },
   "outputs": [],
   "source": [
    "(def combn (cmbn 5 1 50 5 55 9 59))"
   ]
  },
  {
   "cell_type": "code",
   "execution_count": null,
   "metadata": {
    "collapsed": false,
    "scrolled": false
   },
   "outputs": [],
   "source": [
    "(? ccn combn)"
   ]
  },
  {
   "cell_type": "code",
   "execution_count": null,
   "metadata": {
    "collapsed": false,
    "scrolled": false
   },
   "outputs": [],
   "source": [
    "(? ccn *)"
   ]
  },
  {
   "cell_type": "markdown",
   "metadata": {},
   "source": [
    "Then, let us test the morphisms on generators and combinations."
   ]
  },
  {
   "cell_type": "code",
   "execution_count": null,
   "metadata": {
    "collapsed": false,
    "scrolled": false
   },
   "outputs": [],
   "source": [
    "(? upper-shift 0 6)"
   ]
  },
  {
   "cell_type": "code",
   "execution_count": null,
   "metadata": {
    "collapsed": false,
    "scrolled": false
   },
   "outputs": [],
   "source": [
    "(? lower-shift 5 51)"
   ]
  },
  {
   "cell_type": "markdown",
   "metadata": {},
   "source": [
    "We may iterate the mapping  upon the previous result (symbol \\*). Note that now, though `lower-shift` has been constructed with \n",
    "the strategy `:gnrt`, its works also on a combination."
   ]
  },
  {
   "cell_type": "code",
   "execution_count": null,
   "metadata": {
    "collapsed": false,
    "scrolled": false
   },
   "outputs": [],
   "source": [
    "(? lower-shift *)"
   ]
  },
  {
   "cell_type": "markdown",
   "metadata": {},
   "source": [
    "Let us construct new morphisms from `upper-shift` and `lower-shift`. The tests are made upon the degree 1 combination $1*10 + 2*11 + 3*12 +4*13$."
   ]
  },
  {
   "cell_type": "code",
   "execution_count": null,
   "metadata": {
    "collapsed": false,
    "scrolled": false
   },
   "outputs": [],
   "source": [
    "(def comb1 (cmbn 1 1 10 2 11 3 12 4 13))"
   ]
  },
  {
   "cell_type": "markdown",
   "metadata": {},
   "source": [
    "The composition of the two morphisms  must be an identity operation. The degree of `identity?` is in the `degr` slot of the morphism object instance and may be read by the function `degr`:"
   ]
  },
  {
   "cell_type": "code",
   "execution_count": null,
   "metadata": {
    "collapsed": false,
    "scrolled": false
   },
   "outputs": [],
   "source": [
    "(def identity? (cmps upper-shift lower-shift))"
   ]
  },
  {
   "cell_type": "code",
   "execution_count": null,
   "metadata": {
    "collapsed": false,
    "scrolled": false
   },
   "outputs": [],
   "source": [
    "(degr identity?)"
   ]
  },
  {
   "cell_type": "markdown",
   "metadata": {},
   "source": [
    "We see now that `identity?` applied on `comb1` returns a combination mathematically equal to `comb1`. No simple lisp comparison can prove this, nevertheless, their mathematical difference is the null combination, as shown by a call to the function `2cmbn-sbtr` applied to two combinations. Note that the function `2cmbn-sbtr` needs the comparison function of the chain complex `ccn`."
   ]
  },
  {
   "cell_type": "code",
   "execution_count": null,
   "metadata": {
    "collapsed": false,
    "scrolled": false
   },
   "outputs": [],
   "source": [
    "(? identity? comb1)"
   ]
  },
  {
   "cell_type": "code",
   "execution_count": null,
   "metadata": {
    "collapsed": false,
    "scrolled": false
   },
   "outputs": [],
   "source": [
    "(2cmbn-sbtr (cmpr ccn) comb1 *)"
   ]
  },
  {
   "cell_type": "markdown",
   "metadata": {},
   "source": [
    "We may compose `upper-shift` with itself:"
   ]
  },
  {
   "cell_type": "code",
   "execution_count": null,
   "metadata": {
    "collapsed": false,
    "scrolled": false
   },
   "outputs": [],
   "source": [
    "(def upper-shift2 (cmps upper-shift upper-shift))"
   ]
  },
  {
   "cell_type": "code",
   "execution_count": null,
   "metadata": {
    "collapsed": false,
    "scrolled": false
   },
   "outputs": [],
   "source": [
    "(degr upper-shift2)"
   ]
  },
  {
   "cell_type": "code",
   "execution_count": null,
   "metadata": {
    "collapsed": false,
    "scrolled": false
   },
   "outputs": [],
   "source": [
    "(? upper-shift2 comb1)"
   ]
  },
  {
   "cell_type": "markdown",
   "metadata": {},
   "source": [
    "Adding `upper-shift` with itself gives a very different result:"
   ]
  },
  {
   "cell_type": "code",
   "execution_count": null,
   "metadata": {
    "collapsed": false,
    "scrolled": false
   },
   "outputs": [],
   "source": [
    "(def twice-up-shift (add upper-shift upper-shift))"
   ]
  },
  {
   "cell_type": "code",
   "execution_count": null,
   "metadata": {
    "collapsed": false,
    "scrolled": false
   },
   "outputs": [],
   "source": [
    "(degr twice-up-shift)"
   ]
  },
  {
   "cell_type": "code",
   "execution_count": null,
   "metadata": {
    "collapsed": false,
    "scrolled": false
   },
   "outputs": [],
   "source": [
    "(? twice-up-shift comb1)"
   ]
  },
  {
   "cell_type": "markdown",
   "metadata": {},
   "source": [
    "Let us compose `upper-shift` and the differential in both ways. Recall that the differential is a morphism structure, and may be obtained from the `dffr` slot  of the chain complex `ccn` by the reader accessor function `dffr1`. This morphism has been built by `build-chcm` from the lisp function `ccn-boundary`. One can see that the operators do not commute; in other words, `upper-shift` is not a chain complex morphism."
   ]
  },
  {
   "cell_type": "code",
   "execution_count": null,
   "metadata": {
    "collapsed": false,
    "scrolled": false
   },
   "outputs": [],
   "source": [
    "(def up-d (cmps upper-shift (dffr1 ccn)))"
   ]
  },
  {
   "cell_type": "code",
   "execution_count": null,
   "metadata": {
    "collapsed": false,
    "scrolled": false
   },
   "outputs": [],
   "source": [
    "(def d-up (cmps (dffr1 ccn) upper-shift))"
   ]
  },
  {
   "cell_type": "code",
   "execution_count": null,
   "metadata": {
    "collapsed": false,
    "scrolled": false
   },
   "outputs": [],
   "source": [
    "(? up-d 1 11)"
   ]
  },
  {
   "cell_type": "code",
   "execution_count": null,
   "metadata": {
    "collapsed": false,
    "scrolled": false
   },
   "outputs": [],
   "source": [
    "(? d-up 1 11)"
   ]
  },
  {
   "cell_type": "code",
   "execution_count": null,
   "metadata": {
    "collapsed": false,
    "scrolled": false
   },
   "outputs": [],
   "source": [
    "(def comb3 (cmbn 1 1 10 2 11 3 12 4 13 5 14 6 15))"
   ]
  },
  {
   "cell_type": "code",
   "execution_count": null,
   "metadata": {
    "collapsed": false,
    "scrolled": false
   },
   "outputs": [],
   "source": [
    "(? up-d comb3)"
   ]
  },
  {
   "cell_type": "code",
   "execution_count": null,
   "metadata": {
    "collapsed": false,
    "scrolled": false
   },
   "outputs": [],
   "source": [
    "(? d-up comb3)"
   ]
  },
  {
   "cell_type": "markdown",
   "metadata": {},
   "source": [
    "### Accessing `Kenzo` objects\n",
    "\n",
    "Up to now, we have seen two kinds of `Kenzo` objects stored in specific lists and retrievable by a number, namely the chain complexes and the morphisms. The retrieval functions are specific to the object: `chcm` for a chain complex, `mrph` for a morphism. The same scheme will be applied for others kinds of objects: reductions, homotopy equivalences, \n",
    "coalgebras, algebras, simplicial morphisms, etc., each having its specific list. But, in fact the numbering is independent\n",
    "of the type of the object and is incremented each time an object is created. Three general functions are at the disposal of the user to get information about the `n`-th `Kenzo` object: `K`, `KD`, and `KD2`. They may be useful for debugging purpose.\n",
    "\n",
    "`(k` *n*`)` *[Function]*\n",
    "> Get the `n`-th `Kenzo` object.\n",
    "\n",
    "`(kd` *n*`)` *[Function]*\n",
    "> Give the type of the `Kenzo` objet number `n` and print the comment list (slot `:orgn`) of the object.\n",
    "\n",
    "`(kd2` *n*`)` *[Function]*\n",
    "> Give the type of the `Kenzo` objet number `n`, print the comment list (slot `:orgn`) of the object and recursively, give the same kind of informations about all the `Kenzo` objects of the same type in relation with this `n`-th object. Return the list of numbers of all those objects. See in the following example, the case of composition of morphisms.\n",
    "\n",
    "#### Examples"
   ]
  },
  {
   "cell_type": "code",
   "execution_count": null,
   "metadata": {
    "collapsed": false,
    "scrolled": false
   },
   "outputs": [],
   "source": [
    "(k 1)"
   ]
  },
  {
   "cell_type": "markdown",
   "metadata": {},
   "source": [
    "#### Function `KD`"
   ]
  },
  {
   "cell_type": "code",
   "execution_count": null,
   "metadata": {
    "collapsed": false,
    "scrolled": false
   },
   "outputs": [],
   "source": [
    "(kd 1)"
   ]
  },
  {
   "cell_type": "code",
   "execution_count": null,
   "metadata": {
    "collapsed": false,
    "scrolled": false
   },
   "outputs": [],
   "source": [
    "(k 3)"
   ]
  },
  {
   "cell_type": "code",
   "execution_count": null,
   "metadata": {
    "collapsed": false,
    "scrolled": false
   },
   "outputs": [],
   "source": [
    "(kd 3)"
   ]
  },
  {
   "cell_type": "code",
   "execution_count": null,
   "metadata": {
    "collapsed": false,
    "scrolled": false
   },
   "outputs": [],
   "source": [
    "(kd 8)"
   ]
  },
  {
   "cell_type": "code",
   "execution_count": null,
   "metadata": {
    "collapsed": false,
    "scrolled": false
   },
   "outputs": [],
   "source": [
    "(kd 5)"
   ]
  },
  {
   "cell_type": "code",
   "execution_count": null,
   "metadata": {
    "collapsed": false,
    "scrolled": false
   },
   "outputs": [],
   "source": [
    "(kd 9)"
   ]
  },
  {
   "cell_type": "code",
   "execution_count": null,
   "metadata": {
    "collapsed": false,
    "scrolled": false
   },
   "outputs": [],
   "source": [
    "(kd2 9)"
   ]
  },
  {
   "cell_type": "markdown",
   "metadata": {},
   "source": [
    "#### Lisp files concerned in this chapter\n",
    "\n",
    "``combinations.lisp``, ``chain-complexes.lisp``, ``chcm-elementary-op.lisp``.\n",
    "\n",
    "[``classes.lisp``, ``macros.lisp``, ``various.lisp``]."
   ]
  }
 ],
 "metadata": {
  "kernelspec": {
   "display_name": "SBCL Lisp",
   "language": "lisp",
   "name": "lisp"
  },
  "language_info": {
   "codemirror_mode": "text/x-common-lisp",
   "mimetype": "text/x-common-lisp",
   "name": "common-lisp",
   "pygments_lexer": "common-lisp",
   "version": "X3J13"
  }
 },
 "nbformat": 4,
 "nbformat_minor": 0
}
