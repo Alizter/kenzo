{
 "metadata": {
  "language": "common-lisp",
  "name": "",
  "signature": "sha256:05fd4b76f25f4c221cceaf16125a2f13aee03b4b6f7820c59ad9af3b5471bb4f"
 },
 "nbformat": 3,
 "nbformat_minor": 0,
 "worksheets": [
  {
   "cells": [
    {
     "cell_type": "heading",
     "level": 1,
     "metadata": {},
     "source": [
      "Overview"
     ]
    },
    {
     "cell_type": "markdown",
     "metadata": {},
     "source": [
      "In this overview we try to  show, without entering in detailed explanations, various possibilities of $\\texttt{Kenzo}$ in algebraic topology.\n",
      "\n",
      "Load the $\\texttt{Kenzo}$ software as follows:"
     ]
    },
    {
     "cell_type": "code",
     "collapsed": false,
     "input": [
      "(ql:quickload \"kenzo\")"
     ],
     "language": "python",
     "metadata": {},
     "outputs": [
      {
       "metadata": {},
       "output_type": "pyout",
       "prompt_number": 1,
       "text": [
        "(\"kenzo\")"
       ]
      }
     ],
     "prompt_number": 1
    },
    {
     "cell_type": "markdown",
     "metadata": {},
     "source": [
      "The main functionality of the $\\texttt{Kenzo}$ software is defined package in the $\\texttt{cat}$ Lisp package. Initialize the $\\texttt{cat}$ package as follows:"
     ]
    },
    {
     "cell_type": "code",
     "collapsed": false,
     "input": [
      "(cat:cat-init)"
     ],
     "language": "python",
     "metadata": {},
     "outputs": [
      {
       "output_type": "stream",
       "stream": "stdout",
       "text": [
        "\n",
        "---done---"
       ]
      },
      {
       "metadata": {},
       "output_type": "pyout",
       "prompt_number": 2,
       "text": [
        "NIL"
       ]
      }
     ],
     "prompt_number": 2
    },
    {
     "cell_type": "markdown",
     "metadata": {},
     "source": [
      "Print the $\\texttt{Kenzo}$ version as follows:"
     ]
    },
    {
     "cell_type": "code",
     "collapsed": false,
     "input": [
      "(cat:kenzo-version)"
     ],
     "language": "python",
     "metadata": {},
     "outputs": [
      {
       "output_type": "stream",
       "stream": "stdout",
       "text": [
        "\n",
        "*** Kenzo-Version 1.1.7 ***\n",
        "\n"
       ]
      },
      {
       "metadata": {},
       "output_type": "pyout",
       "prompt_number": 3,
       "text": [
        "NIL"
       ]
      }
     ],
     "prompt_number": 3
    },
    {
     "cell_type": "markdown",
     "metadata": {},
     "source": [
      "Let us begin with the space $\\mathrm{Moore}(\\mathbb{Z}/2\\mathbb{Z}, 3)$ described as a simplicial set having only three non--degenerate simplices, namely in dimension $0$, $3$ and $4$. In the  representation created by the software, the $0$--simplex (base point), 15 the $3$--simplex and the $4$--simplex are respectively labelled $\\texttt{\"*\"}$, $\\texttt{M3}$ and $\\texttt{N4}$. Two faces of the $4$-simplex $\\texttt{N4}$ are identified with the $3$-simplex $\\texttt{M3}$, the others being contracted on the base point. To create the simplicial set one types simply: "
     ]
    },
    {
     "cell_type": "code",
     "collapsed": false,
     "input": [
      "(cat:def m23 (cat:moore 2 3))"
     ],
     "language": "python",
     "metadata": {},
     "outputs": [
      {
       "metadata": {},
       "output_type": "pyout",
       "prompt_number": 4,
       "text": [
        "[K1 Simplicial-Set]"
       ]
      }
     ],
     "prompt_number": 4
    },
    {
     "cell_type": "markdown",
     "metadata": {},
     "source": [
      "The system answers that a $\\texttt{Kenzo}$ object has been created, with number $1$ and type $\\texttt{SIMPLICIAL SET}$. This object may be referenced  by the symbol $\\texttt{m23}$."
     ]
    },
    {
     "cell_type": "code",
     "collapsed": false,
     "input": [
      "m23"
     ],
     "language": "python",
     "metadata": {},
     "outputs": [
      {
       "metadata": {},
       "output_type": "pyout",
       "prompt_number": 5,
       "text": [
        "[K1 Simplicial-Set]"
       ]
      }
     ],
     "prompt_number": 5
    },
    {
     "cell_type": "markdown",
     "metadata": {},
     "source": [
      "We may compute the homology groups of this space, using the underlying chain complex induced by the simplicial set description. Here we compute the $H_i$ from $0$ to $4$ included. When in the answer the component part is void, it means that the corresponding homology group is null."
     ]
    },
    {
     "cell_type": "code",
     "collapsed": false,
     "input": [
      "(cat:homology m23 0 5)"
     ],
     "language": "python",
     "metadata": {},
     "outputs": [
      {
       "output_type": "stream",
       "stream": "stdout",
       "text": [
        "\n",
        "Computing boundary-matrix in dimension 0.\n",
        "Rank of the source-module : 1.\n",
        "\n",
        "\n",
        ";; Clock -> 2015-08-08, 10h 8m 32s.\n",
        "Computing the boundary of the generator 1/1 (dimension 0) :\n",
        "* \n",
        "End of computing.\n",
        "\n",
        "\n",
        "Computing boundary-matrix in dimension 1.\n",
        "Rank of the source-module : 0.\n",
        "\n",
        "\n",
        "\n",
        "\n",
        "Homology in dimension 0 :\n",
        "\n",
        "\n",
        "Component Z\n",
        "\n",
        "\n",
        "---done---\n",
        "\n",
        ";; Clock -> 2015-08-08, 10h 8m 32s.\n",
        "\n",
        "\n",
        "Computing boundary-matrix in dimension 1.\n",
        "Rank of the source-module : 0.\n",
        "\n",
        "\n",
        "Computing boundary-matrix in dimension 2.\n",
        "Rank of the source-module : 0.\n",
        "\n",
        "\n",
        "\n",
        "\n",
        "Homology in dimension 1 :\n",
        "\n",
        "\n",
        "\n",
        "---done---\n",
        "\n",
        ";; Clock -> 2015-08-08, 10h 8m 32s.\n",
        "\n",
        "\n",
        "Computing boundary-matrix in dimension 2.\n",
        "Rank of the source-module : 0.\n",
        "\n",
        "\n",
        "Computing boundary-matrix in dimension 3.\n",
        "Rank of the source-module : 1.\n",
        "\n",
        "\n",
        ";; Clock -> 2015-08-08, 10h 8m 32s.\n",
        "Computing the boundary of the generator 1/1 (dimension 3) :\n",
        "M3 \n",
        "End of computing.\n",
        "\n",
        "\n",
        "\n",
        "\n",
        "Homology in dimension 2 :\n",
        "\n",
        "\n",
        "\n",
        "---done---\n",
        "\n",
        ";; Clock -> 2015-08-08, 10h 8m 32s.\n",
        "\n",
        "\n",
        "Computing boundary-matrix in dimension 3.\n",
        "Rank of the source-module : 1.\n",
        "\n",
        "\n",
        ";; Clock -> 2015-08-08, 10h 8m 32s.\n",
        "Computing the boundary of the generator 1/1 (dimension 3) :\n",
        "M3 \n",
        "End of computing.\n",
        "\n",
        "\n",
        "Computing boundary-matrix in dimension 4.\n",
        "Rank of the source-module : 1.\n",
        "\n",
        "\n",
        ";; Clock -> 2015-08-08, 10h 8m 32s.\n",
        "Computing the boundary of the generator 1/1 (dimension 4) :\n",
        "N4 \n",
        "End of computing.\n",
        "\n",
        "\n",
        "\n",
        "\n",
        "Homology in dimension 3 :\n",
        "\n",
        "\n",
        "Component Z/2Z\n",
        "\n",
        "\n",
        "---done---\n",
        "\n",
        ";; Clock -> 2015-08-08, 10h 8m 32s.\n",
        "\n",
        "\n",
        "Computing boundary-matrix in dimension 4.\n",
        "Rank of the source-module : 1.\n",
        "\n",
        "\n",
        ";; Clock -> 2015-08-08, 10h 8m 32s.\n",
        "Computing the boundary of the generator 1/1 (dimension 4) :\n",
        "N4 \n",
        "End of computing.\n",
        "\n",
        "\n",
        "Computing boundary-matrix in dimension 5.\n",
        "Rank of the source-module : 0.\n",
        "\n",
        "\n",
        "\n",
        "\n",
        "Homology in dimension 4 :\n",
        "\n",
        "\n",
        "\n",
        "---done---\n",
        "\n",
        ";; Clock -> 2015-08-08, 10h 8m 32s.\n",
        "\n"
       ]
      },
      {
       "metadata": {},
       "output_type": "pyout",
       "prompt_number": 6,
       "text": [
        "NIL"
       ]
      }
     ],
     "prompt_number": 6
    },
    {
     "cell_type": "markdown",
     "metadata": {},
     "source": [
      "As $\\texttt{m23}$ is a simplicial set, it is possible to create the cartesian product $\\texttt{m23}\\times\\texttt{m23}$ by the function $\\texttt{crts-prdc}$. This is a new simplicial set."
     ]
    },
    {
     "cell_type": "code",
     "collapsed": false,
     "input": [
      "(cat:def m23xm23 (cat:crts-prdc m23 m23))"
     ],
     "language": "python",
     "metadata": {},
     "outputs": [
      {
       "metadata": {},
       "output_type": "pyout",
       "prompt_number": 7,
       "text": [
        "[K10 Simplicial-Set]"
       ]
      }
     ],
     "prompt_number": 7
    },
    {
     "cell_type": "markdown",
     "metadata": {},
     "source": [
      "Being a simplicial set, $\\texttt{m23xm23}$ is also a chain complex object and we may for instance ask for the basis in dimension $6$"
     ]
    },
    {
     "cell_type": "code",
     "collapsed": false,
     "input": [
      "(cat:basis m23xm23 6)"
     ],
     "language": "python",
     "metadata": {},
     "outputs": [
      {
       "metadata": {},
       "output_type": "pyout",
       "prompt_number": 8,
       "text": [
        "(<CrPr 1-0 N4 3-2 N4> <CrPr 1-0 N4 4-2 N4> <CrPr 1-0 N4 4-3 N4> <CrPr 1-0 N4 4-3-2 M3> <CrPr 1-0 N4 5-2 N4> <CrPr 1-0 N4 5-3 N4> <CrPr 1-0 N4 5-3-2 M3> <CrPr 1-0 N4 5-4 N4> <CrPr 1-0 N4 5-4-2 M3> <CrPr 1-0 N4 5-4-3 M3> ...)"
       ]
      }
     ],
     "prompt_number": 8
    },
    {
     "cell_type": "code",
     "collapsed": false,
     "input": [
      "(length (cat:basis m23xm23 6))"
     ],
     "language": "python",
     "metadata": {},
     "outputs": [
      {
       "metadata": {},
       "output_type": "pyout",
       "prompt_number": 9,
       "text": [
        "230"
       ]
      }
     ],
     "prompt_number": 9
    },
    {
     "cell_type": "markdown",
     "metadata": {},
     "source": [
      "The number of elements of the basis is quite large (230). The user will note that the basis elements are formed by cartesian products of *degenerated simplices*. In the list, an element like $\\texttt{<CrPr 1-0 N4 5-3-2 M3>}$ means $\\eta_1\\eta_0\\mathrm{N4}\\times\\eta_5\\eta_3\\eta_2\\mathrm{M3}$.\n",
      "\n",
      "We may construct also the tensor product $\\mathrm{m23}\\otimes\\mathrm{m23}$ from the underlying chain complex of the simplicial set $\\texttt{m23}$. This tensor product is a new chain complex and we see that the basis in dimension $6$ has only one element:"
     ]
    },
    {
     "cell_type": "code",
     "collapsed": false,
     "input": [
      "(cat:def t2m23 (cat:tnsr-prdc m23 m23))"
     ],
     "language": "python",
     "metadata": {},
     "outputs": [
      {
       "metadata": {},
       "output_type": "pyout",
       "prompt_number": 10,
       "text": [
        "[K3 Chain-Complex]"
       ]
      }
     ],
     "prompt_number": 10
    },
    {
     "cell_type": "code",
     "collapsed": false,
     "input": [
      "(cat:basis t2m23 6)"
     ],
     "language": "python",
     "metadata": {},
     "outputs": [
      {
       "metadata": {},
       "output_type": "pyout",
       "prompt_number": 11,
       "text": [
        "(<TnPr M3 M3>)"
       ]
      }
     ],
     "prompt_number": 11
    },
    {
     "cell_type": "markdown",
     "metadata": {},
     "source": [
      "The Eilenberg-Zilber theorem is used to compute the homology groups of the cartesian product space: as chain complexes, $\\texttt{m23xm23}$ and $\\texttt{t2m23}$ have the same homology groups, but the computations using the tensor product are considerably faster."
     ]
    },
    {
     "cell_type": "code",
     "collapsed": false,
     "input": [
      "(cat:homology m23xm23 0 8)"
     ],
     "language": "python",
     "metadata": {},
     "outputs": [
      {
       "output_type": "stream",
       "stream": "stdout",
       "text": [
        "\n",
        "Computing boundary-matrix in dimension 0.\n",
        "Rank of the source-module : 1.\n",
        "\n",
        "\n",
        ";; Clock -> 2015-08-08, 10h 8m 49s.\n",
        "Computing the boundary of the generator 1/1 (dimension 0) :\n",
        "<TnPr * *> \n",
        "End of computing.\n",
        "\n",
        "\n",
        "Computing boundary-matrix in dimension 1.\n",
        "Rank of the source-module : 0.\n",
        "\n",
        "\n",
        "\n",
        "\n",
        "Homology in dimension 0 :\n",
        "\n",
        "\n",
        "Component Z\n",
        "\n",
        "\n",
        "---done---\n",
        "\n",
        ";; Clock -> 2015-08-08, 10h 8m 49s.\n",
        "\n",
        "\n",
        "Computing boundary-matrix in dimension 1.\n",
        "Rank of the source-module : 0.\n",
        "\n",
        "\n",
        "Computing boundary-matrix in dimension 2.\n",
        "Rank of the source-module : 0.\n",
        "\n",
        "\n",
        "\n",
        "\n",
        "Homology in dimension 1 :\n",
        "\n",
        "\n",
        "\n",
        "---done---\n",
        "\n",
        ";; Clock -> 2015-08-08, 10h 8m 49s.\n",
        "\n",
        "\n",
        "Computing boundary-matrix in dimension 2.\n",
        "Rank of the source-module : 0.\n",
        "\n",
        "\n",
        "Computing boundary-matrix in dimension 3.\n",
        "Rank of the source-module : 2.\n",
        "\n",
        "\n",
        ";; Clock -> 2015-08-08, 10h 8m 49s.\n",
        "Computing the boundary of the generator 1/2 (dimension 3) :\n",
        "<TnPr * M3> \n",
        "End of computing.\n",
        "\n",
        "\n",
        ";; Clock -> 2015-08-08, 10h 8m 49s.\n",
        "Computing the boundary of the generator 2/2 (dimension 3) :\n",
        "<TnPr M3 *> \n",
        "End of computing.\n",
        "\n",
        "\n",
        "\n",
        "\n",
        "Homology in dimension 2 :\n",
        "\n",
        "\n",
        "\n",
        "---done---\n",
        "\n",
        ";; Clock -> 2015-08-08, 10h 8m 49s.\n",
        "\n",
        "\n",
        "Computing boundary-matrix in dimension 3.\n",
        "Rank of the source-module : 2.\n",
        "\n",
        "\n",
        ";; Clock -> 2015-08-08, 10h 8m 49s.\n",
        "Computing the boundary of the generator 1/2 (dimension 3) :\n",
        "<TnPr * M3> \n",
        "End of computing.\n",
        "\n",
        "\n",
        ";; Clock -> 2015-08-08, 10h 8m 49s.\n",
        "Computing the boundary of the generator 2/2 (dimension 3) :\n",
        "<TnPr M3 *> \n",
        "End of computing.\n",
        "\n",
        "\n",
        "Computing boundary-matrix in dimension 4.\n",
        "Rank of the source-module : 2.\n",
        "\n",
        "\n",
        ";; Clock -> 2015-08-08, 10h 8m 49s.\n",
        "Computing the boundary of the generator 1/2 (dimension 4) :\n",
        "<TnPr * N4> \n",
        "End of computing.\n",
        "\n",
        "\n",
        ";; Clock -> 2015-08-08, 10h 8m 49s.\n",
        "Computing the boundary of the generator 2/2 (dimension 4) :\n",
        "<TnPr N4 *> \n",
        "End of computing.\n",
        "\n",
        "\n",
        "\n",
        "\n",
        "Homology in dimension 3 :\n",
        "\n",
        "\n",
        "Component Z/2Z\n",
        "\n",
        "Component Z/2Z\n",
        "\n",
        "\n",
        "---done---\n",
        "\n",
        ";; Clock -> 2015-08-08, 10h 8m 49s.\n",
        "\n",
        "\n",
        "Computing boundary-matrix in dimension 4.\n",
        "Rank of the source-module : 2.\n",
        "\n",
        "\n",
        ";; Clock -> 2015-08-08, 10h 8m 49s.\n",
        "Computing the boundary of the generator 1/2 (dimension 4) :\n",
        "<TnPr * N4> \n",
        "End of computing.\n",
        "\n",
        "\n",
        ";; Clock -> 2015-08-08, 10h 8m 49s.\n",
        "Computing the boundary of the generator 2/2 (dimension 4) :\n",
        "<TnPr N4 *> \n",
        "End of computing.\n",
        "\n",
        "\n",
        "Computing boundary-matrix in dimension 5.\n",
        "Rank of the source-module : 0.\n",
        "\n",
        "\n",
        "\n",
        "\n",
        "Homology in dimension 4 :\n",
        "\n",
        "\n",
        "\n",
        "---done---\n",
        "\n",
        ";; Clock -> 2015-08-08, 10h 8m 49s.\n",
        "\n",
        "\n",
        "Computing boundary-matrix in dimension 5.\n",
        "Rank of the source-module : 0.\n",
        "\n",
        "\n",
        "Computing boundary-matrix in dimension 6.\n",
        "Rank of the source-module : 1.\n",
        "\n",
        "\n",
        ";; Clock -> 2015-08-08, 10h 8m 49s.\n",
        "Computing the boundary of the generator 1/1 (dimension 6) :\n",
        "<TnPr M3 M3> \n",
        "End of computing.\n",
        "\n",
        "\n",
        "\n",
        "\n",
        "Homology in dimension 5 :\n",
        "\n",
        "\n",
        "\n",
        "---done---\n",
        "\n",
        ";; Clock -> 2015-08-08, 10h 8m 49s.\n",
        "\n",
        "\n",
        "Computing boundary-matrix in dimension 6.\n",
        "Rank of the source-module : 1.\n",
        "\n",
        "\n",
        ";; Clock -> 2015-08-08, 10h 8m 49s.\n",
        "Computing the boundary of the generator 1/1 (dimension 6) :\n",
        "<TnPr M3 M3> \n",
        "End of computing.\n",
        "\n",
        "\n",
        "Computing boundary-matrix in dimension 7.\n",
        "Rank of the source-module : 2.\n",
        "\n",
        "\n",
        ";; Clock -> 2015-08-08, 10h 8m 49s.\n",
        "Computing the boundary of the generator 1/2 (dimension 7) :\n",
        "<TnPr M3 N4> \n",
        "End of computing.\n",
        "\n",
        "\n",
        ";; Clock -> 2015-08-08, 10h 8m 49s.\n",
        "Computing the boundary of the generator 2/2 (dimension 7) :\n",
        "<TnPr N4 M3> \n",
        "End of computing.\n",
        "\n",
        "\n",
        "\n",
        "\n",
        "Homology in dimension 6 :\n",
        "\n",
        "\n",
        "Component Z/2Z\n",
        "\n",
        "\n",
        "---done---\n",
        "\n",
        ";; Clock -> 2015-08-08, 10h 8m 49s.\n",
        "\n",
        "\n",
        "Computing boundary-matrix in dimension 7.\n",
        "Rank of the source-module : 2.\n",
        "\n",
        "\n",
        ";; Clock -> 2015-08-08, 10h 8m 49s.\n",
        "Computing the boundary of the generator 1/2 (dimension 7) :\n",
        "<TnPr M3 N4> \n",
        "End of computing.\n",
        "\n",
        "\n",
        ";; Clock -> 2015-08-08, 10h 8m 49s.\n",
        "Computing the boundary of the generator 2/2 (dimension 7) :\n",
        "<TnPr N4 M3> \n",
        "End of computing.\n",
        "\n",
        "\n",
        "Computing boundary-matrix in dimension 8.\n",
        "Rank of the source-module : 1.\n",
        "\n",
        "\n",
        ";; Clock -> 2015-08-08, 10h 8m 49s.\n",
        "Computing the boundary of the generator 1/1 (dimension 8) :\n",
        "<TnPr N4 N4> \n",
        "End of computing.\n",
        "\n",
        "\n",
        "\n",
        "\n",
        "Homology in dimension 7 :\n",
        "\n",
        "\n",
        "Component Z/2Z\n",
        "\n",
        "\n",
        "---done---\n",
        "\n",
        ";; Clock -> 2015-08-08, 10h 8m 49s.\n",
        "\n"
       ]
      },
      {
       "metadata": {},
       "output_type": "pyout",
       "prompt_number": 12,
       "text": [
        "NIL"
       ]
      }
     ],
     "prompt_number": 12
    },
    {
     "cell_type": "markdown",
     "metadata": {},
     "source": [
      "Let us consider now the space $\\mathrm{K}(\\mathbb{Z}, 1)$. This is an Abelian simplicial group created  in $\\texttt{Kenzo}$ by the function $\\texttt{k-z}$. In this simplicial group, a simplex in dimension $n$  \n",
      "is mathematically represented by a sequence of integers, known as a *bar* object: $$ [a_1 \\mid a_2 \\mid \\ldots \\mid a_n].$$ \n",
      "In $\\texttt{Kenzo}$, a non-degenerate simplex of $\\mathrm{K}(\\mathbb{Z}, 1)$ in dimension $n$ will be simply a list of $n$ non-null integers, for instance: $\\texttt{(2 3 4 5)}$. In dimension $0$, the only \n",
      "simplex is $\\texttt{NIL}$ (the base point)."
     ]
    },
    {
     "cell_type": "code",
     "collapsed": false,
     "input": [
      "(cat:def kz1 (cat:k-z 1))"
     ],
     "language": "python",
     "metadata": {},
     "outputs": [
      {
       "metadata": {},
       "output_type": "pyout",
       "prompt_number": 13,
       "text": [
        "[K38 Abelian-Simplicial-Group]"
       ]
      }
     ],
     "prompt_number": 13
    },
    {
     "cell_type": "markdown",
     "metadata": {},
     "source": [
      "But this object is also a *coalgebra* and an *algebra*, and we may \n",
      "see the effect of the respective induced *coproduct* and *product*: "
     ]
    },
    {
     "cell_type": "code",
     "collapsed": false,
     "input": [
      "(cat:cprd kz1 4 '(2 3 4 5))"
     ],
     "language": "python",
     "metadata": {},
     "outputs": [
      {
       "metadata": {},
       "output_type": "pyout",
       "prompt_number": 14,
       "text": [
        "\n",
        "----------------------------------------------------------------------{CMBN 4}\n",
        "<1 * <TnPr NIL (2 3 4 5)>>\n",
        "<1 * <TnPr (2) (3 4 5)>>\n",
        "<1 * <TnPr (2 3) (4 5)>>\n",
        "<1 * <TnPr (2 3 4) (5)>>\n",
        "<1 * <TnPr (2 3 4 5) NIL>>\n",
        "------------------------------------------------------------------------------\n"
       ]
      }
     ],
     "prompt_number": 14
    },
    {
     "cell_type": "code",
     "collapsed": false,
     "input": [
      "(cat:aprd kz1 6 (cat:tnpr 2 '(1 2) 4 '(3 4 5 6)))"
     ],
     "language": "python",
     "metadata": {},
     "outputs": [
      {
       "metadata": {},
       "output_type": "pyout",
       "prompt_number": 15,
       "text": [
        "\n",
        "----------------------------------------------------------------------{CMBN 6}\n",
        "<1 * (1 2 3 4 5 6)>\n",
        "<-1 * (1 3 2 4 5 6)>\n",
        "<1 * (1 3 4 2 5 6)>\n",
        "<-1 * (1 3 4 5 2 6)>\n",
        "<1 * (1 3 4 5 6 2)>\n",
        "<1 * (3 1 2 4 5 6)>\n",
        "<-1 * (3 1 4 2 5 6)>\n",
        "<1 * (3 1 4 5 2 6)>\n",
        "<-1 * (3 1 4 5 6 2)>\n",
        "<1 * (3 4 1 2 5 6)>\n",
        "... ...\n",
        "------------------------------------------------------------------------------\n"
       ]
      }
     ],
     "prompt_number": 15
    },
    {
     "cell_type": "markdown",
     "metadata": {},
     "source": [
      "The printed results are the printed representation of *combinations*, i.e., integer linear combinations of generators resulting from the application of the morphisms. The degree of the combination is indicated by the information: $\\texttt{CMBN n}$. \n",
      "\n",
      "In the same way, we may create the Abelian simplicial groups $\\mathrm{K}(\\mathbb{Z}/2\\mathbb{Z}, n)$:"
     ]
    },
    {
     "cell_type": "code",
     "collapsed": false,
     "input": [
      "(cat:def k-z2-2 (cat:k-z2 2))"
     ],
     "language": "python",
     "metadata": {},
     "outputs": [
      {
       "metadata": {},
       "output_type": "pyout",
       "prompt_number": 16,
       "text": [
        "[K64 Abelian-Simplicial-Group]"
       ]
      }
     ],
     "prompt_number": 16
    },
    {
     "cell_type": "code",
     "collapsed": false,
     "input": [
      "(cat:homology k-z2-2 4)"
     ],
     "language": "python",
     "metadata": {},
     "outputs": [
      {
       "output_type": "stream",
       "stream": "stdout",
       "text": [
        "\n",
        "Computing boundary-matrix in dimension 4.\n",
        "Rank of the source-module : 2.\n",
        "\n",
        "\n",
        ";; Clock -> 2015-08-08, 10h 9m 9s.\n",
        "Computing the boundary of the generator 1/2 (dimension 4) :\n",
        "<<Abar[4 3]>> \n",
        "End of computing.\n",
        "\n",
        "\n",
        ";; Clock -> 2015-08-08, 10h 9m 9s.\n",
        "Computing the boundary of the generator 2/2 (dimension 4) :\n",
        "<<Abar[2 1][2 1]>> \n",
        "End of computing.\n",
        "\n",
        "\n",
        "Computing boundary-matrix in dimension 5.\n",
        "Rank of the source-module : 3.\n",
        "\n",
        "\n",
        ";; Clock -> 2015-08-08, 10h 9m 9s.\n",
        "Computing the boundary of the generator 1/3 (dimension 5) :\n",
        "<<Abar[5 4]>> \n",
        "End of computing.\n",
        "\n",
        "\n",
        ";; Clock -> 2015-08-08, 10h 9m 9s.\n",
        "Computing the boundary of the generator 2/3 (dimension 5) :\n",
        "<<Abar[2 1][3 2]>> \n",
        "End of computing.\n",
        "\n",
        "\n",
        ";; Clock -> 2015-08-08, 10h 9m 9s.\n",
        "Computing the boundary of the generator 3/3 (dimension 5) :\n",
        "<<Abar[3 2][2 1]>> \n",
        "End of computing.\n",
        "\n",
        "\n",
        "\n",
        "\n",
        "Homology in dimension 4 :\n",
        "\n",
        "\n",
        "Component Z/4Z\n",
        "\n",
        "\n",
        "---done---\n",
        "\n",
        ";; Clock -> 2015-08-08, 10h 9m 9s.\n",
        "\n"
       ]
      },
      {
       "metadata": {},
       "output_type": "pyout",
       "prompt_number": 17,
       "text": [
        "NIL"
       ]
      }
     ],
     "prompt_number": 17
    },
    {
     "cell_type": "markdown",
     "metadata": {},
     "source": [
      "Let us play now with the sphere $S^3$ and its loop spaces. $S^3$ and $\\Omega^2 S^3$ are created by \n",
      "respective calls to the functions $\\texttt{sphere}$ and $\\texttt{loop-space}$. Then we compute the $H_4$ and $H_5$ of $\\Omega^2 S^3$:"
     ]
    },
    {
     "cell_type": "code",
     "collapsed": false,
     "input": [
      "(cat:def s3 (cat:sphere 3))"
     ],
     "language": "python",
     "metadata": {},
     "outputs": [
      {
       "metadata": {},
       "output_type": "pyout",
       "prompt_number": 18,
       "text": [
        "[K174 Simplicial-Set]"
       ]
      }
     ],
     "prompt_number": 18
    },
    {
     "cell_type": "code",
     "collapsed": false,
     "input": [
      "(cat:def o2s3 (cat:loop-space s3 2))"
     ],
     "language": "python",
     "metadata": {},
     "outputs": [
      {
       "metadata": {},
       "output_type": "pyout",
       "prompt_number": 19,
       "text": [
        "[K191 Simplicial-Group]"
       ]
      }
     ],
     "prompt_number": 19
    },
    {
     "cell_type": "code",
     "collapsed": false,
     "input": [
      "(cat:homology o2s3 4 6)"
     ],
     "language": "python",
     "metadata": {},
     "outputs": [
      {
       "output_type": "stream",
       "stream": "stdout",
       "text": [
        "\n",
        "Computing boundary-matrix in dimension 4.\n",
        "Rank of the source-module : 3.\n",
        "\n",
        "\n",
        ";; Clock -> 2015-08-08, 10h 9m 18s.\n",
        "Computing the boundary of the generator 1/3 (dimension 4) :\n",
        "<<AlLp[1 <<AlLp[2 S3]>>][3 <<AlLp[2 S3][2 S3]>>]>> \n",
        "End of computing.\n",
        "\n",
        "\n",
        ";; Clock -> 2015-08-08, 10h 9m 18s.\n",
        "Computing the boundary of the generator 2/3 (dimension 4) :\n",
        "<<AlLp[3 <<AlLp[2 S3][2 S3]>>][1 <<AlLp[2 S3]>>]>> \n",
        "End of computing.\n",
        "\n",
        "\n",
        ";; Clock -> 2015-08-08, 10h 9m 18s.\n",
        "Computing the boundary of the generator 3/3 (dimension 4) :\n",
        "<<AlLp[1 <<AlLp[2 S3]>>][1 <<AlLp[2 S3]>>][1 <<AlLp[2 S3]>>][1 <<AlLp[2 S3]>>]>> \n",
        "End of computing.\n",
        "\n",
        "\n",
        "Computing boundary-matrix in dimension 5.\n",
        "Rank of the source-module : 5.\n",
        "\n",
        "\n",
        ";; Clock -> 2015-08-08, 10h 9m 18s.\n",
        "Computing the boundary of the generator 1/5 (dimension 5) :\n",
        "<<AlLp[5 <<AlLp[2 S3][2 S3][2 S3]>>]>> \n",
        "End of computing.\n",
        "\n",
        "\n",
        ";; Clock -> 2015-08-08, 10h 9m 18s.\n",
        "Computing the boundary of the generator 2/5 (dimension 5) :\n",
        "<<AlLp[1 <<AlLp[2 S3]>>][1 <<AlLp[2 S3]>>][3 <<AlLp[2 S3][2 S3]>>]>> \n",
        "End of computing.\n",
        "\n",
        "\n",
        ";; Clock -> 2015-08-08, 10h 9m 19s.\n",
        "Computing the boundary of the generator 3/5 (dimension 5) :\n",
        "<<AlLp[1 <<AlLp[2 S3]>>][3 <<AlLp[2 S3][2 S3]>>][1 <<AlLp[2 S3]>>]>> \n",
        "End of computing.\n",
        "\n",
        "\n",
        ";; Clock -> 2015-08-08, 10h 9m 19s.\n",
        "Computing the boundary of the generator 4/5 (dimension 5) :\n",
        "<<AlLp[3 <<AlLp[2 S3][2 S3]>>][1 <<AlLp[2 S3]>>][1 <<AlLp[2 S3]>>]>> \n",
        "End of computing.\n",
        "\n",
        "\n",
        ";; Clock -> 2015-08-08, 10h 9m 19s.\n",
        "Computing the boundary of the generator 5/5 (dimension 5) :\n",
        "<<AlLp[1 <<AlLp[2 S3]>>][1 <<AlLp[2 S3]>>][1 <<AlLp[2 S3]>>][1 <<AlLp[2 S3]>>][1 <<AlLp[2 S3]>>]>> \n",
        "End of computing.\n",
        "\n",
        "\n",
        "\n",
        "\n",
        "Homology in dimension 4 :\n",
        "\n",
        "\n",
        "Component Z/3Z\n",
        "\n",
        "Component Z/2Z\n",
        "\n",
        "\n",
        "---done---\n",
        "\n",
        ";; Clock -> 2015-08-08, 10h 9m 19s.\n",
        "\n",
        "\n",
        "Computing boundary-matrix in dimension 5.\n",
        "Rank of the source-module : 5.\n",
        "\n",
        "\n",
        ";; Clock -> 2015-08-08, 10h 9m 19s.\n",
        "Computing the boundary of the generator 1/5 (dimension 5) :\n",
        "<<AlLp[5 <<AlLp[2 S3][2 S3][2 S3]>>]>> \n",
        "End of computing.\n",
        "\n",
        "\n",
        ";; Clock -> 2015-08-08, 10h 9m 19s.\n",
        "Computing the boundary of the generator 2/5 (dimension 5) :\n",
        "<<AlLp[1 <<AlLp[2 S3]>>][1 <<AlLp[2 S3]>>][3 <<AlLp[2 S3][2 S3]>>]>> \n",
        "End of computing.\n",
        "\n",
        "\n",
        ";; Clock -> 2015-08-08, 10h 9m 19s.\n",
        "Computing the boundary of the generator 3/5 (dimension 5) :\n",
        "<<AlLp[1 <<AlLp[2 S3]>>][3 <<AlLp[2 S3][2 S3]>>][1 <<AlLp[2 S3]>>]>> \n",
        "End of computing.\n",
        "\n",
        "\n",
        ";; Clock -> 2015-08-08, 10h 9m 19s.\n",
        "Computing the boundary of the generator 4/5 (dimension 5) :\n",
        "<<AlLp[3 <<AlLp[2 S3][2 S3]>>][1 <<AlLp[2 S3]>>][1 <<AlLp[2 S3]>>]>> \n",
        "End of computing.\n",
        "\n",
        "\n",
        ";; Clock -> 2015-08-08, 10h 9m 19s.\n",
        "Computing the boundary of the generator 5/5 (dimension 5) :\n",
        "<<AlLp[1 <<AlLp[2 S3]>>][1 <<AlLp[2 S3]>>][1 <<AlLp[2 S3]>>][1 <<AlLp[2 S3]>>][1 <<AlLp[2 S3]>>]>> \n",
        "End of computing.\n",
        "\n",
        "\n",
        "Computing boundary-matrix in dimension 6.\n",
        "Rank of the source-module : 8.\n",
        "\n",
        "\n",
        ";; Clock -> 2015-08-08, 10h 9m 19s.\n",
        "Computing the boundary of the generator 1/8 (dimension 6) :\n",
        "<<AlLp[1 <<AlLp[2 S3]>>][5 <<AlLp[2 S3][2 S3][2 S3]>>]>> \n",
        "End of computing.\n",
        "\n",
        "\n",
        ";; Clock -> 2015-08-08, 10h 9m 19s.\n",
        "Computing the boundary of the generator 2/8 (dimension 6) :\n",
        "<<AlLp[3 <<AlLp[2 S3][2 S3]>>][3 <<AlLp[2 S3][2 S3]>>]>> \n",
        "End of computing.\n",
        "\n",
        "\n",
        ";; Clock -> 2015-08-08, 10h 9m 20s.\n",
        "Computing the boundary of the generator 3/8 (dimension 6) :\n",
        "<<AlLp[5 <<AlLp[2 S3][2 S3][2 S3]>>][1 <<AlLp[2 S3]>>]>> \n",
        "End of computing.\n",
        "\n",
        "\n",
        ";; Clock -> 2015-08-08, 10h 9m 20s.\n",
        "Computing the boundary of the generator 4/8 (dimension 6) :\n",
        "<<AlLp[1 <<AlLp[2 S3]>>][1 <<AlLp[2 S3]>>][1 <<AlLp[2 S3]>>][3 <<AlLp[2 S3][2 S3]>>]>> \n",
        "End of computing.\n",
        "\n",
        "\n",
        ";; Clock -> 2015-08-08, 10h 9m 20s.\n",
        "Computing the boundary of the generator 5/8 (dimension 6) :\n",
        "<<AlLp[1 <<AlLp[2 S3]>>][1 <<AlLp[2 S3]>>][3 <<AlLp[2 S3][2 S3]>>][1 <<AlLp[2 S3]>>]>> \n",
        "End of computing.\n",
        "\n",
        "\n",
        ";; Clock -> 2015-08-08, 10h 9m 21s.\n",
        "Computing the boundary of the generator 6/8 (dimension 6) :\n",
        "<<AlLp[1 <<AlLp[2 S3]>>][3 <<AlLp[2 S3][2 S3]>>][1 <<AlLp[2 S3]>>][1 <<AlLp[2 S3]>>]>> \n",
        "End of computing.\n",
        "\n",
        "\n",
        ";; Clock -> 2015-08-08, 10h 9m 21s.\n",
        "Computing the boundary of the generator 7/8 (dimension 6) :\n",
        "<<AlLp[3 <<AlLp[2 S3][2 S3]>>][1 <<AlLp[2 S3]>>][1 <<AlLp[2 S3]>>][1 <<AlLp[2 S3]>>]>> \n",
        "End of computing.\n",
        "\n",
        "\n",
        ";; Clock -> 2015-08-08, 10h 9m 21s.\n",
        "Computing the boundary of the generator 8/8 (dimension 6) :\n",
        "<<AlLp[1 <<AlLp[2 S3]>>][1 <<AlLp[2 S3]>>][1 <<AlLp[2 S3]>>][1 <<AlLp[2 S3]>>][1 <<AlLp[2 S3]>>][1 <<AlLp[2 S3]>>]>> \n",
        "End of computing.\n",
        "\n",
        "\n",
        "\n",
        "\n",
        "Homology in dimension 5 :\n",
        "\n",
        "\n",
        "Component Z/3Z\n",
        "\n",
        "Component Z/2Z\n",
        "\n",
        "\n",
        "---done---\n",
        "\n",
        ";; Clock -> 2015-08-08, 10h 9m 22s.\n",
        "\n"
       ]
      },
      {
       "metadata": {},
       "output_type": "pyout",
       "prompt_number": 20,
       "text": [
        "NIL"
       ]
      }
     ],
     "prompt_number": 20
    },
    {
     "cell_type": "markdown",
     "metadata": {},
     "source": [
      "Let us take now the first loop space $\\Omega^1 S^3$"
     ]
    },
    {
     "cell_type": "code",
     "collapsed": false,
     "input": [
      "(cat:def os3 (cat:loop-space s3))"
     ],
     "language": "python",
     "metadata": {},
     "outputs": [
      {
       "metadata": {},
       "output_type": "pyout",
       "prompt_number": 21,
       "text": [
        "[K179 Simplicial-Group]"
       ]
      }
     ],
     "prompt_number": 21
    },
    {
     "cell_type": "markdown",
     "metadata": {},
     "source": [
      "In the following instruction, we locate in the symbol $\\texttt{L1}$ the canonical generator of $\\pi_2 (\\Omega^1S^3)$, that is the $2$--simplex coming from the original sphere. In fact, the object created by the command $\\texttt{(loop3 0 's3 1)}$ is the \"word\" $S3^1$ belonging to the Kan simplicial version $G(S^3)$ (a simplicial group) of the loop space $\\Omega S^3$."
     ]
    },
    {
     "cell_type": "code",
     "collapsed": false,
     "input": [
      "(cat:def L1 (cat:loop3 0 's3 1))"
     ],
     "language": "python",
     "metadata": {},
     "outputs": [
      {
       "metadata": {},
       "output_type": "pyout",
       "prompt_number": 22,
       "text": [
        "<<Loop[S3]>>"
       ]
      }
     ],
     "prompt_number": 22
    },
    {
     "cell_type": "markdown",
     "metadata": {},
     "source": [
      "Let us consider also the $2$--degeneracy of the base point of the loop space. In the printed result, the user will recognize the degeneracy $\\eta_1\\eta_0$ of the null loop, base point of $\\Omega^1 S^3$: "
     ]
    },
    {
     "cell_type": "code",
     "collapsed": false,
     "input": [
      "(cat:def null-simp (cat:absm 3 cat:+null-loop+))"
     ],
     "language": "python",
     "metadata": {},
     "outputs": [
      {
       "metadata": {},
       "output_type": "pyout",
       "prompt_number": 23,
       "text": [
        "<AbSm 1-0 <<Loop>>>"
       ]
      }
     ],
     "prompt_number": 23
    },
    {
     "cell_type": "markdown",
     "metadata": {},
     "source": [
      "We may  build now a new space by pasting a disk $D3$ as indicated by the following call. It means that we \"paste\" to the space $\\texttt{os3}$ a $3$--simplex named $\\texttt{D3}$, the attaching map being described by the list of its faces in dimension $2$."
     ]
    },
    {
     "cell_type": "code",
     "collapsed": false,
     "input": [
      "(cat:def dos3 (cat:disk-pasting os3 3 '<D3> \n",
      "                                (list L1 null-simp L1 null-simp)))"
     ],
     "language": "python",
     "metadata": {},
     "outputs": [
      {
       "metadata": {},
       "output_type": "pyout",
       "prompt_number": 24,
       "text": [
        "[K435 Simplicial-Set]"
       ]
      }
     ],
     "prompt_number": 24
    },
    {
     "cell_type": "markdown",
     "metadata": {},
     "source": [
      "Let us compute a few homology groups of the new space $\\texttt{dos3}$:"
     ]
    },
    {
     "cell_type": "code",
     "collapsed": false,
     "input": [
      "(cat:homology dos3 2 4)"
     ],
     "language": "python",
     "metadata": {},
     "outputs": [
      {
       "output_type": "stream",
       "stream": "stdout",
       "text": [
        "\n",
        "Computing boundary-matrix in dimension 2.\n",
        "Rank of the source-module : 1.\n",
        "\n",
        "\n",
        ";; Clock -> 2015-08-08, 10h 9m 44s.\n",
        "Computing the boundary of the generator 1/1 (dimension 2) :\n",
        "<<AlLp[2 S3]>> \n",
        "End of computing.\n",
        "\n",
        "\n",
        "Computing boundary-matrix in dimension 3.\n",
        "Rank of the source-module : 1.\n",
        "\n",
        "\n",
        ";; Clock -> 2015-08-08, 10h 9m 44s.\n",
        "Computing the boundary of the generator 1/1 (dimension 3) :\n",
        "<D3> \n",
        "End of computing.\n",
        "\n",
        "\n",
        "\n",
        "\n",
        "Homology in dimension 2 :\n",
        "\n",
        "\n",
        "Component Z/2Z\n",
        "\n",
        "\n",
        "---done---\n",
        "\n",
        ";; Clock -> 2015-08-08, 10h 9m 44s.\n",
        "\n",
        "\n",
        "Computing boundary-matrix in dimension 3.\n",
        "Rank of the source-module : 1.\n",
        "\n",
        "\n",
        ";; Clock -> 2015-08-08, 10h 9m 44s.\n",
        "Computing the boundary of the generator 1/1 (dimension 3) :\n",
        "<D3> \n",
        "End of computing.\n",
        "\n",
        "\n",
        "Computing boundary-matrix in dimension 4.\n",
        "Rank of the source-module : 1.\n",
        "\n",
        "\n",
        ";; Clock -> 2015-08-08, 10h 9m 44s.\n",
        "Computing the boundary of the generator 1/1 (dimension 4) :\n",
        "<<AlLp[2 S3][2 S3]>> \n",
        "End of computing.\n",
        "\n",
        "\n",
        "\n",
        "\n",
        "Homology in dimension 3 :\n",
        "\n",
        "\n",
        "\n",
        "---done---\n",
        "\n",
        ";; Clock -> 2015-08-08, 10h 9m 44s.\n",
        "\n"
       ]
      },
      {
       "metadata": {},
       "output_type": "pyout",
       "prompt_number": 25,
       "text": [
        "NIL"
       ]
      }
     ],
     "prompt_number": 25
    },
    {
     "cell_type": "markdown",
     "metadata": {},
     "source": [
      "But more interesting, let us  build the  loop space of the object $\\texttt{dos3}$ and let us compute the homology in dimension $5$:"
     ]
    },
    {
     "cell_type": "code",
     "collapsed": false,
     "input": [
      "(cat:def odos3 (cat:loop-space dos3))"
     ],
     "language": "python",
     "metadata": {},
     "outputs": [
      {
       "metadata": {},
       "output_type": "pyout",
       "prompt_number": 26,
       "text": [
        "[K453 Simplicial-Group]"
       ]
      }
     ],
     "prompt_number": 26
    },
    {
     "cell_type": "code",
     "collapsed": false,
     "input": [
      "(cat:homology odos3 5)"
     ],
     "language": "python",
     "metadata": {},
     "outputs": [
      {
       "output_type": "stream",
       "stream": "stdout",
       "text": [
        "\n",
        "Computing boundary-matrix in dimension 5.\n",
        "Rank of the source-module : 14.\n",
        "\n",
        "\n",
        ";; Clock -> 2015-08-08, 10h 9m 51s.\n",
        "Computing the boundary of the generator 1/14 (dimension 5) :\n",
        "<<AlLp[5 <<AlLp[2 S3][2 S3][2 S3]>>]>> \n",
        "End of computing.\n",
        "\n",
        "\n",
        ";; Clock -> 2015-08-08, 10h 9m 51s.\n",
        "Computing the boundary of the generator 2/14 (dimension 5) :\n",
        "<<AlLp[2 <D3>][3 <<AlLp[2 S3][2 S3]>>]>> \n",
        "End of computing.\n",
        "\n",
        "\n",
        ";; Clock -> 2015-08-08, 10h 9m 51s.\n",
        "Computing the boundary of the generator 3/14 (dimension 5) :\n",
        "<<AlLp[3 <<AlLp[2 S3][2 S3]>>][2 <D3>]>> \n",
        "End of computing.\n",
        "\n",
        "\n",
        ";; Clock -> 2015-08-08, 10h 9m 51s.\n",
        "Computing the boundary of the generator 4/14 (dimension 5) :\n",
        "<<AlLp[1 <<AlLp[2 S3]>>][1 <<AlLp[2 S3]>>][3 <<AlLp[2 S3][2 S3]>>]>> \n",
        "End of computing.\n",
        "\n",
        "\n",
        ";; Clock -> 2015-08-08, 10h 9m 52s.\n",
        "Computing the boundary of the generator 5/14 (dimension 5) :\n",
        "<<AlLp[1 <<AlLp[2 S3]>>][2 <D3>][2 <D3>]>> \n",
        "End of computing.\n",
        "\n",
        "\n",
        ";; Clock -> 2015-08-08, 10h 9m 52s.\n",
        "Computing the boundary of the generator 6/14 (dimension 5) :\n",
        "<<AlLp[1 <<AlLp[2 S3]>>][3 <<AlLp[2 S3][2 S3]>>][1 <<AlLp[2 S3]>>]>> \n",
        "End of computing.\n",
        "\n",
        "\n",
        ";; Clock -> 2015-08-08, 10h 9m 52s.\n",
        "Computing the boundary of the generator 7/14 (dimension 5) :\n",
        "<<AlLp[2 <D3>][1 <<AlLp[2 S3]>>][2 <D3>]>> \n",
        "End of computing.\n",
        "\n",
        "\n",
        ";; Clock -> 2015-08-08, 10h 9m 52s.\n",
        "Computing the boundary of the generator 8/14 (dimension 5) :\n",
        "<<AlLp[2 <D3>][2 <D3>][1 <<AlLp[2 S3]>>]>> \n",
        "End of computing.\n",
        "\n",
        "\n",
        ";; Clock -> 2015-08-08, 10h 9m 52s.\n",
        "Computing the boundary of the generator 9/14 (dimension 5) :\n",
        "<<AlLp[3 <<AlLp[2 S3][2 S3]>>][1 <<AlLp[2 S3]>>][1 <<AlLp[2 S3]>>]>> \n",
        "End of computing.\n",
        "\n",
        "\n",
        ";; Clock -> 2015-08-08, 10h 9m 52s.\n",
        "Computing the boundary of the generator 10/14 (dimension 5) :\n",
        "<<AlLp[1 <<AlLp[2 S3]>>][1 <<AlLp[2 S3]>>][1 <<AlLp[2 S3]>>][2 <D3>]>> \n",
        "End of computing.\n",
        "\n",
        "\n",
        ";; Clock -> 2015-08-08, 10h 9m 52s.\n",
        "Computing the boundary of the generator 11/14 (dimension 5) :\n",
        "<<AlLp[1 <<AlLp[2 S3]>>][1 <<AlLp[2 S3]>>][2 <D3>][1 <<AlLp[2 S3]>>]>> \n",
        "End of computing.\n",
        "\n",
        "\n",
        ";; Clock -> 2015-08-08, 10h 9m 52s.\n",
        "Computing the boundary of the generator 12/14 (dimension 5) :\n",
        "<<AlLp[1 <<AlLp[2 S3]>>][2 <D3>][1 <<AlLp[2 S3]>>][1 <<AlLp[2 S3]>>]>> \n",
        "End of computing.\n",
        "\n",
        "\n",
        ";; Clock -> 2015-08-08, 10h 9m 52s.\n",
        "Computing the boundary of the generator 13/14 (dimension 5) :\n",
        "<<AlLp[2 <D3>][1 <<AlLp[2 S3]>>][1 <<AlLp[2 S3]>>][1 <<AlLp[2 S3]>>]>> \n",
        "End of computing.\n",
        "\n",
        "\n",
        ";; Clock -> 2015-08-08, 10h 9m 52s.\n",
        "Computing the boundary of the generator 14/14 (dimension 5) :\n",
        "<<AlLp[1 <<AlLp[2 S3]>>][1 <<AlLp[2 S3]>>][1 <<AlLp[2 S3]>>][1 <<AlLp[2 S3]>>][1 <<AlLp[2 S3]>>]>> \n",
        "End of computing.\n",
        "\n",
        "\n",
        "Computing boundary-matrix in dimension 6.\n",
        "Rank of the source-module : 26.\n",
        "\n",
        "\n",
        ";; Clock -> 2015-08-08, 10h 9m 52s.\n",
        "Computing the boundary of the generator 1/26 (dimension 6) :\n",
        "<<AlLp[1 <<AlLp[2 S3]>>][5 <<AlLp[2 S3][2 S3][2 S3]>>]>> \n",
        "End of computing.\n",
        "\n",
        "\n",
        ";; Clock -> 2015-08-08, 10h 9m 52s.\n",
        "Computing the boundary of the generator 2/26 (dimension 6) :\n",
        "<<AlLp[3 <<AlLp[2 S3][2 S3]>>][3 <<AlLp[2 S3][2 S3]>>]>> \n",
        "End of computing.\n",
        "\n",
        "\n",
        ";; Clock -> 2015-08-08, 10h 9m 53s.\n",
        "Computing the boundary of the generator 3/26 (dimension 6) :\n",
        "<<AlLp[5 <<AlLp[2 S3][2 S3][2 S3]>>][1 <<AlLp[2 S3]>>]>> \n",
        "End of computing.\n",
        "\n",
        "\n",
        ";; Clock -> 2015-08-08, 10h 9m 53s.\n",
        "Computing the boundary of the generator 4/26 (dimension 6) :\n",
        "<<AlLp[1 <<AlLp[2 S3]>>][2 <D3>][3 <<AlLp[2 S3][2 S3]>>]>> \n",
        "End of computing.\n",
        "\n",
        "\n",
        ";; Clock -> 2015-08-08, 10h 9m 53s.\n",
        "Computing the boundary of the generator 5/26 (dimension 6) :\n",
        "<<AlLp[1 <<AlLp[2 S3]>>][3 <<AlLp[2 S3][2 S3]>>][2 <D3>]>> \n",
        "End of computing.\n",
        "\n",
        "\n",
        ";; Clock -> 2015-08-08, 10h 9m 53s.\n",
        "Computing the boundary of the generator 6/26 (dimension 6) :\n",
        "<<AlLp[2 <D3>][1 <<AlLp[2 S3]>>][3 <<AlLp[2 S3][2 S3]>>]>> \n",
        "End of computing.\n",
        "\n",
        "\n",
        ";; Clock -> 2015-08-08, 10h 9m 53s.\n",
        "Computing the boundary of the generator 7/26 (dimension 6) :\n",
        "<<AlLp[2 <D3>][2 <D3>][2 <D3>]>> \n",
        "End of computing.\n",
        "\n",
        "\n",
        ";; Clock -> 2015-08-08, 10h 9m 53s.\n",
        "Computing the boundary of the generator 8/26 (dimension 6) :\n",
        "<<AlLp[2 <D3>][3 <<AlLp[2 S3][2 S3]>>][1 <<AlLp[2 S3]>>]>> \n",
        "End of computing.\n",
        "\n",
        "\n",
        ";; Clock -> 2015-08-08, 10h 9m 53s.\n",
        "Computing the boundary of the generator 9/26 (dimension 6) :\n",
        "<<AlLp[3 <<AlLp[2 S3][2 S3]>>][1 <<AlLp[2 S3]>>][2 <D3>]>> \n",
        "End of computing.\n",
        "\n",
        "\n",
        ";; Clock -> 2015-08-08, 10h 9m 53s.\n",
        "Computing the boundary of the generator 10/26 (dimension 6) :\n",
        "<<AlLp[3 <<AlLp[2 S3][2 S3]>>][2 <D3>][1 <<AlLp[2 S3]>>]>> \n",
        "End of computing.\n",
        "\n",
        "\n",
        ";; Clock -> 2015-08-08, 10h 9m 54s.\n",
        "Computing the boundary of the generator 11/26 (dimension 6) :\n",
        "<<AlLp[1 <<AlLp[2 S3]>>][1 <<AlLp[2 S3]>>][1 <<AlLp[2 S3]>>][3 <<AlLp[2 S3][2 S3]>>]>> \n",
        "End of computing.\n",
        "\n",
        "\n",
        ";; Clock -> 2015-08-08, 10h 9m 54s.\n",
        "Computing the boundary of the generator 12/26 (dimension 6) :\n",
        "<<AlLp[1 <<AlLp[2 S3]>>][1 <<AlLp[2 S3]>>][2 <D3>][2 <D3>]>> \n",
        "End of computing.\n",
        "\n",
        "\n",
        ";; Clock -> 2015-08-08, 10h 9m 54s.\n",
        "Computing the boundary of the generator 13/26 (dimension 6) :\n",
        "<<AlLp[1 <<AlLp[2 S3]>>][1 <<AlLp[2 S3]>>][3 <<AlLp[2 S3][2 S3]>>][1 <<AlLp[2 S3]>>]>> \n",
        "End of computing.\n",
        "\n",
        "\n",
        ";; Clock -> 2015-08-08, 10h 9m 54s.\n",
        "Computing the boundary of the generator 14/26 (dimension 6) :\n",
        "<<AlLp[1 <<AlLp[2 S3]>>][2 <D3>][1 <<AlLp[2 S3]>>][2 <D3>]>> \n",
        "End of computing.\n",
        "\n",
        "\n",
        ";; Clock -> 2015-08-08, 10h 9m 54s.\n",
        "Computing the boundary of the generator 15/26 (dimension 6) :\n",
        "<<AlLp[1 <<AlLp[2 S3]>>][2 <D3>][2 <D3>][1 <<AlLp[2 S3]>>]>> \n",
        "End of computing.\n",
        "\n",
        "\n",
        ";; Clock -> 2015-08-08, 10h 9m 54s.\n",
        "Computing the boundary of the generator 16/26 (dimension 6) :\n",
        "<<AlLp[1 <<AlLp[2 S3]>>][3 <<AlLp[2 S3][2 S3]>>][1 <<AlLp[2 S3]>>][1 <<AlLp[2 S3]>>]>> \n",
        "End of computing.\n",
        "\n",
        "\n",
        ";; Clock -> 2015-08-08, 10h 9m 55s.\n",
        "Computing the boundary of the generator 17/26 (dimension 6) :\n",
        "<<AlLp[2 <D3>][1 <<AlLp[2 S3]>>][1 <<AlLp[2 S3]>>][2 <D3>]>> \n",
        "End of computing.\n",
        "\n",
        "\n",
        ";; Clock -> 2015-08-08, 10h 9m 55s.\n",
        "Computing the boundary of the generator 18/26 (dimension 6) :\n",
        "<<AlLp[2 <D3>][1 <<AlLp[2 S3]>>][2 <D3>][1 <<AlLp[2 S3]>>]>> \n",
        "End of computing.\n",
        "\n",
        "\n",
        ";; Clock -> 2015-08-08, 10h 9m 55s.\n",
        "Computing the boundary of the generator 19/26 (dimension 6) :\n",
        "<<AlLp[2 <D3>][2 <D3>][1 <<AlLp[2 S3]>>][1 <<AlLp[2 S3]>>]>> \n",
        "End of computing.\n",
        "\n",
        "\n",
        ";; Clock -> 2015-08-08, 10h 9m 55s.\n",
        "Computing the boundary of the generator 20/26 (dimension 6) :\n",
        "<<AlLp[3 <<AlLp[2 S3][2 S3]>>][1 <<AlLp[2 S3]>>][1 <<AlLp[2 S3]>>][1 <<AlLp[2 S3]>>]>> \n",
        "End of computing.\n",
        "\n",
        "\n",
        ";; Clock -> 2015-08-08, 10h 9m 55s.\n",
        "Computing the boundary of the generator 21/26 (dimension 6) :\n",
        "<<AlLp[1 <<AlLp[2 S3]>>][1 <<AlLp[2 S3]>>][1 <<AlLp[2 S3]>>][1 <<AlLp[2 S3]>>][2 <D3>]>> \n",
        "End of computing.\n",
        "\n",
        "\n",
        ";; Clock -> 2015-08-08, 10h 9m 55s.\n",
        "Computing the boundary of the generator 22/26 (dimension 6) :\n",
        "<<AlLp[1 <<AlLp[2 S3]>>][1 <<AlLp[2 S3]>>][1 <<AlLp[2 S3]>>][2 <D3>][1 <<AlLp[2 S3]>>]>> \n",
        "End of computing.\n",
        "\n",
        "\n",
        ";; Clock -> 2015-08-08, 10h 9m 56s.\n",
        "Computing the boundary of the generator 23/26 (dimension 6) :\n",
        "<<AlLp[1 <<AlLp[2 S3]>>][1 <<AlLp[2 S3]>>][2 <D3>][1 <<AlLp[2 S3]>>][1 <<AlLp[2 S3]>>]>> \n",
        "End of computing.\n",
        "\n",
        "\n",
        ";; Clock -> 2015-08-08, 10h 9m 56s.\n",
        "Computing the boundary of the generator 24/26 (dimension 6) :\n",
        "<<AlLp[1 <<AlLp[2 S3]>>][2 <D3>][1 <<AlLp[2 S3]>>][1 <<AlLp[2 S3]>>][1 <<AlLp[2 S3]>>]>> \n",
        "End of computing.\n",
        "\n",
        "\n",
        ";; Clock -> 2015-08-08, 10h 9m 56s.\n",
        "Computing the boundary of the generator 25/26 (dimension 6) :\n",
        "<<AlLp[2 <D3>][1 <<AlLp[2 S3]>>][1 <<AlLp[2 S3]>>][1 <<AlLp[2 S3]>>][1 <<AlLp[2 S3]>>]>> \n",
        "End of computing.\n",
        "\n",
        "\n",
        ";; Clock -> 2015-08-08, 10h 9m 56s.\n",
        "Computing the boundary of the generator 26/26 (dimension 6) :\n",
        "<<AlLp[1 <<AlLp[2 S3]>>][1 <<AlLp[2 S3]>>][1 <<AlLp[2 S3]>>][1 <<AlLp[2 S3]>>][1 <<AlLp[2 S3]>>][1 <<AlLp[2 S3]>>]>> \n",
        "End of computing.\n",
        "\n",
        "\n",
        "\n",
        "\n",
        "Homology in dimension 5 :\n",
        "\n",
        "\n",
        "Component Z/2Z\n",
        "\n",
        "Component Z/2Z\n",
        "\n",
        "Component Z/2Z\n",
        "\n",
        "Component Z/2Z\n",
        "\n",
        "Component Z/2Z\n",
        "\n",
        "Component Z/2Z\n",
        "\n",
        "Component Z\n",
        "\n",
        "\n",
        "---done---\n",
        "\n",
        ";; Clock -> 2015-08-08, 10h 9m 56s.\n",
        "\n"
       ]
      },
      {
       "metadata": {},
       "output_type": "pyout",
       "prompt_number": 27,
       "text": [
        "NIL"
       ]
      }
     ],
     "prompt_number": 27
    },
    {
     "cell_type": "markdown",
     "metadata": {},
     "source": [
      "Let us continue with the Kan theory. First, we check that $S^3$ is not of type Kan and that $\\Omega S^3$ is indeed of type Kan and a non--Abelian simplicial group."
     ]
    },
    {
     "cell_type": "code",
     "collapsed": false,
     "input": [
      "(typep s3 'cat:kan)"
     ],
     "language": "python",
     "metadata": {},
     "outputs": [
      {
       "metadata": {},
       "output_type": "pyout",
       "prompt_number": 28,
       "text": [
        "NIL"
       ]
      }
     ],
     "prompt_number": 28
    },
    {
     "cell_type": "code",
     "collapsed": false,
     "input": [
      "(typep os3 'cat:kan)"
     ],
     "language": "python",
     "metadata": {},
     "outputs": [
      {
       "metadata": {},
       "output_type": "pyout",
       "prompt_number": 29,
       "text": [
        "T"
       ]
      }
     ],
     "prompt_number": 29
    },
    {
     "cell_type": "code",
     "collapsed": false,
     "input": [
      "(typep os3 'cat:simplicial-group)"
     ],
     "language": "python",
     "metadata": {},
     "outputs": [
      {
       "metadata": {},
       "output_type": "pyout",
       "prompt_number": 30,
       "text": [
        "T"
       ]
      }
     ],
     "prompt_number": 30
    },
    {
     "cell_type": "code",
     "collapsed": false,
     "input": [
      "(typep os3 'cat:ab-simplicial-group)"
     ],
     "language": "python",
     "metadata": {},
     "outputs": [
      {
       "metadata": {},
       "output_type": "pyout",
       "prompt_number": 31,
       "text": [
        "NIL"
       ]
      }
     ],
     "prompt_number": 31
    },
    {
     "cell_type": "markdown",
     "metadata": {},
     "source": [
      "Let us create the word $L2=(S3)^2$, i.e an object belonging to $\\Omega S^3$ and let us apply the product of the underlying algebra upon $L2 \\otimes L2$:"
     ]
    },
    {
     "cell_type": "code",
     "collapsed": false,
     "input": [
      "(cat:def L2 (cat:loop3 0 's3 2))"
     ],
     "language": "python",
     "metadata": {},
     "outputs": [
      {
       "metadata": {},
       "output_type": "pyout",
       "prompt_number": 32,
       "text": [
        "<<Loop[S3\\2]>>"
       ]
      }
     ],
     "prompt_number": 32
    },
    {
     "cell_type": "code",
     "collapsed": false,
     "input": [
      "(cat:def square (cat:aprd os3 4 (cat:tnpr 2 L2 2 L2)))"
     ],
     "language": "python",
     "metadata": {},
     "outputs": [
      {
       "metadata": {},
       "output_type": "pyout",
       "prompt_number": 33,
       "text": [
        "\n",
        "----------------------------------------------------------------------{CMBN 4}\n",
        "<1 * <<Loop[1-0 S3\\2][3-2 S3\\2]>>>\n",
        "<-1 * <<Loop[2-0 S3\\2][3-1 S3\\2]>>>\n",
        "<1 * <<Loop[2-1 S3\\2][3-0 S3\\2]>>>\n",
        "<1 * <<Loop[3-0 S3\\2][2-1 S3\\2]>>>\n",
        "<-1 * <<Loop[3-1 S3\\2][2-0 S3\\2]>>>\n",
        "<1 * <<Loop[3-2 S3\\2][1-0 S3\\2]>>>\n",
        "------------------------------------------------------------------------------\n"
       ]
      }
     ],
     "prompt_number": 33
    },
    {
     "cell_type": "markdown",
     "metadata": {},
     "source": [
      "We see that the result is a linear combination of words composed from degeneracies of $\\texttt{L2}$. The following instruction selects the generator part of the \n",
      "second element of the previous combination."
     ]
    },
    {
     "cell_type": "code",
     "collapsed": false,
     "input": [
      "(cat:def L4 (cat:gnrt (second (cat:cmbn-list square))))"
     ],
     "language": "python",
     "metadata": {},
     "outputs": [
      {
       "metadata": {},
       "output_type": "pyout",
       "prompt_number": 34,
       "text": [
        "<<Loop[2-0 S3\\2][3-1 S3\\2]>>"
       ]
      }
     ],
     "prompt_number": 34
    },
    {
     "cell_type": "markdown",
     "metadata": {},
     "source": [
      "Let us use the lisp function $\\texttt{mapcar}$ (one among the various iteration functions of Lisp) to create the list of the faces 1, 2, 3 and 4 of the object $\\texttt{L4}$, this list is a \"Kan hat\"."
     ]
    },
    {
     "cell_type": "code",
     "collapsed": false,
     "input": [
      "(cat:def hat (mapcar #'(lambda (i) (cat:face os3 i 4 l4)) '(1 2 3 4)))"
     ],
     "language": "python",
     "metadata": {},
     "outputs": [
      {
       "metadata": {},
       "output_type": "pyout",
       "prompt_number": 35,
       "text": [
        "(<AbSm - <<Loop[1 S3\\2][2 S3\\2]>>> <AbSm - <<Loop[0 S3\\2][2 S3\\2]>>> <AbSm - <<Loop[0 S3\\2][1 S3\\2]>>> <AbSm 1 <<Loop[S3\\2]>>>)"
       ]
      }
     ],
     "prompt_number": 35
    },
    {
     "cell_type": "markdown",
     "metadata": {},
     "source": [
      "The function $\\texttt{kfll}$ tries to find a filling of this \"Kan hat\", and we see that the face $2$ of the resulting simplex (which is very different from $\\texttt{L4}$) is  the same as the face $2$ of $\\texttt{L4}$."
     ]
    },
    {
     "cell_type": "code",
     "collapsed": false,
     "input": [
      "(cat:def kan-simplex (cat:kfll os3 0 4 hat))"
     ],
     "language": "python",
     "metadata": {},
     "outputs": [
      {
       "metadata": {},
       "output_type": "pyout",
       "prompt_number": 36,
       "text": [
        "<AbSm - <<Loop[3-1 S3\\2][2-1 S3\\-2][2-0 S3\\2][1-0 S3\\-2][2-1 S3\\2][3-1 S3\\-2][1-0 S3\\2][3-1 S3\\2][3-0 S3\\-2][1-0 S3\\-2][3-0 S3\\2][2-0 S3\\-2][1-0 S3\\2][3-0 S3\\-2][2-0 S3\\2][3-0 S3\\2]>>>"
       ]
      }
     ],
     "prompt_number": 36
    },
    {
     "cell_type": "code",
     "collapsed": false,
     "input": [
      "(cat:face os3 2 4 kan-simplex)"
     ],
     "language": "python",
     "metadata": {},
     "outputs": [
      {
       "metadata": {},
       "output_type": "pyout",
       "prompt_number": 37,
       "text": [
        "<AbSm - <<Loop[0 S3\\2][2 S3\\2]>>>"
       ]
      }
     ],
     "prompt_number": 37
    },
    {
     "cell_type": "code",
     "collapsed": false,
     "input": [
      "(second hat)"
     ],
     "language": "python",
     "metadata": {},
     "outputs": [
      {
       "metadata": {},
       "output_type": "pyout",
       "prompt_number": 38,
       "text": [
        "<AbSm - <<Loop[0 S3\\2][2 S3\\2]>>>"
       ]
      }
     ],
     "prompt_number": 38
    },
    {
     "cell_type": "markdown",
     "metadata": {},
     "source": [
      "Let ${\\cal G}$ be a simplicial group $0$--reduced. $\\Omega S^3$ is such a group. The software $\\texttt{Kenzo}$ allows the construction of the universal bundle $\\bar{\\cal W}{\\cal G}$, i.e. the classifying space of ${\\cal G}$. In our case, as $\\Omega S^3$ in non--Abelian, the result is not a simplicial group but only a simplicial set. We verify that the $H_4$ is null."
     ]
    },
    {
     "cell_type": "code",
     "collapsed": false,
     "input": [
      "(cat:def cls-os3 (cat:classifying-space os3))"
     ],
     "language": "python",
     "metadata": {},
     "outputs": [
      {
       "metadata": {},
       "output_type": "pyout",
       "prompt_number": 39,
       "text": [
        "[K598 Simplicial-Set]"
       ]
      }
     ],
     "prompt_number": 39
    },
    {
     "cell_type": "code",
     "collapsed": false,
     "input": [
      "(typep cls-os3 'cat:simplicial-group)"
     ],
     "language": "python",
     "metadata": {},
     "outputs": [
      {
       "metadata": {},
       "output_type": "pyout",
       "prompt_number": 40,
       "text": [
        "NIL"
       ]
      }
     ],
     "prompt_number": 40
    },
    {
     "cell_type": "code",
     "collapsed": false,
     "input": [
      "(cat:homology cls-os3 4)"
     ],
     "language": "python",
     "metadata": {},
     "outputs": [
      {
       "output_type": "stream",
       "stream": "stdout",
       "text": [
        "\n",
        "Computing boundary-matrix in dimension 4.\n",
        "Rank of the source-module : 0.\n",
        "\n",
        "\n",
        "Computing boundary-matrix in dimension 5.\n",
        "Rank of the source-module : 1.\n",
        "\n",
        "\n",
        ";; Clock -> 2015-08-08, 10h 10m 43s.\n",
        "Computing the boundary of the generator 1/1 (dimension 5) :\n",
        "<<Abar[5 <<AlLp[2 S3][2 S3]>>]>> \n",
        "End of computing.\n",
        "\n",
        "\n",
        "\n",
        "\n",
        "Homology in dimension 4 :\n",
        "\n",
        "\n",
        "\n",
        "---done---\n",
        "\n",
        ";; Clock -> 2015-08-08, 10h 10m 43s.\n",
        "\n"
       ]
      },
      {
       "metadata": {},
       "output_type": "pyout",
       "prompt_number": 41,
       "text": [
        "NIL"
       ]
      }
     ],
     "prompt_number": 41
    },
    {
     "cell_type": "markdown",
     "metadata": {},
     "source": [
      "Let us end this short overview with an example of computation of homotopy groups. The method used in $\\texttt{Kenzo}$ is the Whitehead tower. In this current version only the case where the first non--null homology group (in non--null dimension) is $\\mathbb{Z}$ or $\\mathbb{Z}/{2\\mathbb{Z}}$ can be processed; however if this homology group is a direct sum of several copies of $\\mathbb{Z}$ or $\\mathbb{Z}/{2 \\mathbb{Z}}$, then the corresponding stage of the Whitehead tower may also be constructed step by step.\n",
      "\n",
      "We take again $\\mathrm{Moore}(\\mathbb{Z}/2\\mathbb{Z}, 3)$ whose $H_3$ is $\\mathbb{Z}/2\\mathbb{Z}$. First the fundamental cohomology class is constructed:"
     ]
    },
    {
     "cell_type": "code",
     "collapsed": false,
     "input": [
      "(cat:def ch3 (cat:chml-clss m23 3))"
     ],
     "language": "python",
     "metadata": {},
     "outputs": [
      {
       "metadata": {},
       "output_type": "pyout",
       "prompt_number": 42,
       "text": [
        "[K729 Cohomology-Class on K1 of degree 3]"
       ]
      }
     ],
     "prompt_number": 42
    },
    {
     "cell_type": "markdown",
     "metadata": {},
     "source": [
      "Then the function $\\texttt{z2-whitehead}$ is called to build a fibration over the simplicial set $\\texttt{m23}$ canonically associated to the cohomology class $\\texttt{ch3}$."
     ]
    },
    {
     "cell_type": "code",
     "collapsed": false,
     "input": [
      "(cat:def f3 (cat:z2-whitehead m23 ch3))"
     ],
     "language": "python",
     "metadata": {},
     "outputs": [
      {
       "metadata": {},
       "output_type": "pyout",
       "prompt_number": 43,
       "text": [
        "[K730 Fibration K1 -> K64]"
       ]
      }
     ],
     "prompt_number": 43
    },
    {
     "cell_type": "markdown",
     "metadata": {},
     "source": [
      "Then the total space of the fibration is built:"
     ]
    },
    {
     "cell_type": "code",
     "collapsed": false,
     "input": [
      "(cat:def x4 (cat:fibration-total f3))"
     ],
     "language": "python",
     "metadata": {},
     "outputs": [
      {
       "metadata": {},
       "output_type": "pyout",
       "prompt_number": 44,
       "text": [
        "[K736 Simplicial-Set]"
       ]
      }
     ],
     "prompt_number": 44
    },
    {
     "cell_type": "markdown",
     "metadata": {},
     "source": [
      "The $H_4$ of this total space is the $\\pi_4$ of $\\mathrm{Moore}(\\mathbb{Z}/2\\mathbb{Z})$:"
     ]
    },
    {
     "cell_type": "code",
     "collapsed": false,
     "input": [
      "(cat:homology x4 3 5)"
     ],
     "language": "python",
     "metadata": {},
     "outputs": [
      {
       "output_type": "stream",
       "stream": "stdout",
       "text": [
        "\n",
        "Computing boundary-matrix in dimension 3.\n",
        "Rank of the source-module : 2.\n",
        "\n",
        "\n",
        ";; Clock -> 2015-08-08, 10h 10m 55s.\n",
        "Computing the boundary of the generator 1/2 (dimension 3) :\n",
        "<TnPr * <<Abar[3 2]>>> \n",
        "End of computing.\n",
        "\n",
        "\n",
        ";; Clock -> 2015-08-08, 10h 10m 55s.\n",
        "Computing the boundary of the generator 2/2 (dimension 3) :\n",
        "<TnPr M3 <<Abar>>> \n",
        "End of computing.\n",
        "\n",
        "\n",
        "Computing boundary-matrix in dimension 4.\n",
        "Rank of the source-module : 3.\n",
        "\n",
        "\n",
        ";; Clock -> 2015-08-08, 10h 10m 55s.\n",
        "Computing the boundary of the generator 1/3 (dimension 4) :\n",
        "<TnPr * <<Abar[4 3]>>> \n",
        "End of computing.\n",
        "\n",
        "\n",
        ";; Clock -> 2015-08-08, 10h 10m 55s.\n",
        "Computing the boundary of the generator 2/3 (dimension 4) :\n",
        "<TnPr * <<Abar[2 1][2 1]>>> \n",
        "End of computing.\n",
        "\n",
        "\n",
        ";; Clock -> 2015-08-08, 10h 10m 55s.\n",
        "Computing the boundary of the generator 3/3 (dimension 4) :\n",
        "<TnPr N4 <<Abar>>> \n",
        "End of computing.\n",
        "\n",
        "\n",
        "\n",
        "\n",
        "Homology in dimension 3 :\n",
        "\n",
        "\n",
        "\n",
        "---done---\n",
        "\n",
        ";; Clock -> 2015-08-08, 10h 10m 55s.\n",
        "\n",
        "\n",
        "Computing boundary-matrix in dimension 4.\n",
        "Rank of the source-module : 3.\n",
        "\n",
        "\n",
        ";; Clock -> 2015-08-08, 10h 10m 55s.\n",
        "Computing the boundary of the generator 1/3 (dimension 4) :\n",
        "<TnPr * <<Abar[4 3]>>> \n",
        "End of computing.\n",
        "\n",
        "\n",
        ";; Clock -> 2015-08-08, 10h 10m 55s.\n",
        "Computing the boundary of the generator 2/3 (dimension 4) :\n",
        "<TnPr * <<Abar[2 1][2 1]>>> \n",
        "End of computing.\n",
        "\n",
        "\n",
        ";; Clock -> 2015-08-08, 10h 10m 55s.\n",
        "Computing the boundary of the generator 3/3 (dimension 4) :\n",
        "<TnPr N4 <<Abar>>> \n",
        "End of computing.\n",
        "\n",
        "\n",
        "Computing boundary-matrix in dimension 5.\n",
        "Rank of the source-module : 4.\n",
        "\n",
        "\n",
        ";; Clock -> 2015-08-08, 10h 10m 55s.\n",
        "Computing the boundary of the generator 1/4 (dimension 5) :\n",
        "<TnPr * <<Abar[5 4]>>> \n",
        "End of computing.\n",
        "\n",
        "\n",
        ";; Clock -> 2015-08-08, 10h 10m 55s.\n",
        "Computing the boundary of the generator 2/4 (dimension 5) :\n",
        "<TnPr * <<Abar[2 1][3 2]>>> \n",
        "End of computing.\n",
        "\n",
        "\n",
        ";; Clock -> 2015-08-08, 10h 10m 55s.\n",
        "Computing the boundary of the generator 3/4 (dimension 5) :\n",
        "<TnPr * <<Abar[3 2][2 1]>>> \n",
        "End of computing.\n",
        "\n",
        "\n",
        ";; Clock -> 2015-08-08, 10h 10m 55s.\n",
        "Computing the boundary of the generator 4/4 (dimension 5) :\n",
        "<TnPr M3 <<Abar[2 1]>>> \n",
        "End of computing.\n",
        "\n",
        "\n",
        "\n",
        "\n",
        "Homology in dimension 4 :\n",
        "\n",
        "\n",
        "Component Z/2Z\n",
        "\n",
        "\n",
        "---done---\n",
        "\n",
        ";; Clock -> 2015-08-08, 10h 10m 55s.\n",
        "\n"
       ]
      },
      {
       "metadata": {},
       "output_type": "pyout",
       "prompt_number": 45,
       "text": [
        "NIL"
       ]
      }
     ],
     "prompt_number": 45
    },
    {
     "cell_type": "markdown",
     "metadata": {},
     "source": [
      "We may now iterate the process, to compute the $\\pi_5$ of $\\mathrm{Moore}(\\mathbb{Z}/2\\mathbb{Z})$:"
     ]
    },
    {
     "cell_type": "code",
     "collapsed": false,
     "input": [
      "(cat:def ch4 (cat:chml-clss x4 4))"
     ],
     "language": "python",
     "metadata": {},
     "outputs": [
      {
       "metadata": {},
       "output_type": "pyout",
       "prompt_number": 46,
       "text": [
        "[K817 Cohomology-Class on K802 of degree 4]"
       ]
      }
     ],
     "prompt_number": 46
    },
    {
     "cell_type": "code",
     "collapsed": false,
     "input": [
      "(cat:def f4 (cat:z2-whitehead x4 ch4))"
     ],
     "language": "python",
     "metadata": {},
     "outputs": [
      {
       "metadata": {},
       "output_type": "pyout",
       "prompt_number": 47,
       "text": [
        "[K832 Fibration K736 -> K818]"
       ]
      }
     ],
     "prompt_number": 47
    },
    {
     "cell_type": "code",
     "collapsed": false,
     "input": [
      "(cat:def x5 (cat:fibration-total f4))"
     ],
     "language": "python",
     "metadata": {},
     "outputs": [
      {
       "metadata": {},
       "output_type": "pyout",
       "prompt_number": 48,
       "text": [
        "[K838 Simplicial-Set]"
       ]
      }
     ],
     "prompt_number": 48
    },
    {
     "cell_type": "code",
     "collapsed": false,
     "input": [
      "(cat:homology x5 4 6)"
     ],
     "language": "python",
     "metadata": {},
     "outputs": [
      {
       "output_type": "stream",
       "stream": "stdout",
       "text": [
        "\n",
        "Computing boundary-matrix in dimension 4.\n",
        "Rank of the source-module : 4.\n",
        "\n",
        "\n",
        ";; Clock -> 2015-08-08, 10h 11m 9s.\n",
        "Computing the boundary of the generator 1/4 (dimension 4) :\n",
        "<TnPr <TnPr * <<Abar>>> <<Abar[4 <<Abar[3 2]>>]>>> \n",
        "End of computing.\n",
        "\n",
        "\n",
        ";; Clock -> 2015-08-08, 10h 11m 9s.\n",
        "Computing the boundary of the generator 2/4 (dimension 4) :\n",
        "<TnPr <TnPr * <<Abar[4 3]>>> <<Abar>>> \n",
        "End of computing.\n",
        "\n",
        "\n",
        ";; Clock -> 2015-08-08, 10h 11m 9s.\n",
        "Computing the boundary of the generator 3/4 (dimension 4) :\n",
        "<TnPr <TnPr * <<Abar[2 1][2 1]>>> <<Abar>>> \n",
        "End of computing.\n",
        "\n",
        "\n",
        ";; Clock -> 2015-08-08, 10h 11m 9s.\n",
        "Computing the boundary of the generator 4/4 (dimension 4) :\n",
        "<TnPr <TnPr N4 <<Abar>>> <<Abar>>> \n",
        "End of computing.\n",
        "\n",
        "\n",
        "Computing boundary-matrix in dimension 5.\n",
        "Rank of the source-module : 7.\n",
        "\n",
        "\n",
        ";; Clock -> 2015-08-08, 10h 11m 9s.\n",
        "Computing the boundary of the generator 1/7 (dimension 5) :\n",
        "<TnPr <TnPr * <<Abar>>> <<Abar[5 <<Abar[4 3]>>]>>> \n",
        "End of computing.\n",
        "\n",
        "\n",
        ";; Clock -> 2015-08-08, 10h 11m 9s.\n",
        "Computing the boundary of the generator 2/7 (dimension 5) :\n",
        "<TnPr <TnPr * <<Abar>>> <<Abar[5 <<Abar[2 1][2 1]>>]>>> \n",
        "End of computing.\n",
        "\n",
        "\n",
        ";; Clock -> 2015-08-08, 10h 11m 9s.\n",
        "Computing the boundary of the generator 3/7 (dimension 5) :\n",
        "<TnPr <TnPr * <<Abar[2 1]>>> <<Abar[3 <<Abar[2 1]>>]>>> \n",
        "End of computing.\n",
        "\n",
        "\n",
        ";; Clock -> 2015-08-08, 10h 11m 9s.\n",
        "Computing the boundary of the generator 4/7 (dimension 5) :\n",
        "<TnPr <TnPr * <<Abar[5 4]>>> <<Abar>>> \n",
        "End of computing.\n",
        "\n",
        "\n",
        ";; Clock -> 2015-08-08, 10h 11m 9s.\n",
        "Computing the boundary of the generator 5/7 (dimension 5) :\n",
        "<TnPr <TnPr * <<Abar[2 1][3 2]>>> <<Abar>>> \n",
        "End of computing.\n",
        "\n",
        "\n",
        ";; Clock -> 2015-08-08, 10h 11m 9s.\n",
        "Computing the boundary of the generator 6/7 (dimension 5) :\n",
        "<TnPr <TnPr * <<Abar[3 2][2 1]>>> <<Abar>>> \n",
        "End of computing.\n",
        "\n",
        "\n",
        ";; Clock -> 2015-08-08, 10h 11m 9s.\n",
        "Computing the boundary of the generator 7/7 (dimension 5) :\n",
        "<TnPr <TnPr M3 <<Abar[2 1]>>> <<Abar>>> \n",
        "End of computing.\n",
        "\n",
        "\n",
        "\n",
        "\n",
        "Homology in dimension 4 :\n",
        "\n",
        "\n",
        "\n",
        "---done---\n",
        "\n",
        ";; Clock -> 2015-08-08, 10h 11m 10s.\n",
        "\n",
        "\n",
        "Computing boundary-matrix in dimension 5.\n",
        "Rank of the source-module : 7.\n",
        "\n",
        "\n",
        ";; Clock -> 2015-08-08, 10h 11m 10s.\n",
        "Computing the boundary of the generator 1/7 (dimension 5) :\n",
        "<TnPr <TnPr * <<Abar>>> <<Abar[5 <<Abar[4 3]>>]>>> \n",
        "End of computing.\n",
        "\n",
        "\n",
        ";; Clock -> 2015-08-08, 10h 11m 10s.\n",
        "Computing the boundary of the generator 2/7 (dimension 5) :\n",
        "<TnPr <TnPr * <<Abar>>> <<Abar[5 <<Abar[2 1][2 1]>>]>>> \n",
        "End of computing.\n",
        "\n",
        "\n",
        ";; Clock -> 2015-08-08, 10h 11m 10s.\n",
        "Computing the boundary of the generator 3/7 (dimension 5) :\n",
        "<TnPr <TnPr * <<Abar[2 1]>>> <<Abar[3 <<Abar[2 1]>>]>>> \n",
        "End of computing.\n",
        "\n",
        "\n",
        ";; Clock -> 2015-08-08, 10h 11m 10s.\n",
        "Computing the boundary of the generator 4/7 (dimension 5) :\n",
        "<TnPr <TnPr * <<Abar[5 4]>>> <<Abar>>> \n",
        "End of computing.\n",
        "\n",
        "\n",
        ";; Clock -> 2015-08-08, 10h 11m 10s.\n",
        "Computing the boundary of the generator 5/7 (dimension 5) :\n",
        "<TnPr <TnPr * <<Abar[2 1][3 2]>>> <<Abar>>> \n",
        "End of computing.\n",
        "\n",
        "\n",
        ";; Clock -> 2015-08-08, 10h 11m 10s.\n",
        "Computing the boundary of the generator 6/7 (dimension 5) :\n",
        "<TnPr <TnPr * <<Abar[3 2][2 1]>>> <<Abar>>> \n",
        "End of computing.\n",
        "\n",
        "\n",
        ";; Clock -> 2015-08-08, 10h 11m 10s.\n",
        "Computing the boundary of the generator 7/7 (dimension 5) :\n",
        "<TnPr <TnPr M3 <<Abar[2 1]>>> <<Abar>>> \n",
        "End of computing.\n",
        "\n",
        "\n",
        "Computing boundary-matrix in dimension 6.\n",
        "Rank of the source-module : 14.\n",
        "\n",
        "\n",
        ";; Clock -> 2015-08-08, 10h 11m 10s.\n",
        "Computing the boundary of the generator 1/14 (dimension 6) :\n",
        "<TnPr <TnPr * <<Abar>>> <<Abar[6 <<Abar[5 4]>>]>>> \n",
        "End of computing.\n",
        "\n",
        "\n",
        ";; Clock -> 2015-08-08, 10h 11m 10s.\n",
        "Computing the boundary of the generator 2/14 (dimension 6) :\n",
        "<TnPr <TnPr * <<Abar>>> <<Abar[6 <<Abar[2 1][3 2]>>]>>> \n",
        "End of computing.\n",
        "\n",
        "\n",
        ";; Clock -> 2015-08-08, 10h 11m 10s.\n",
        "Computing the boundary of the generator 3/14 (dimension 6) :\n",
        "<TnPr <TnPr * <<Abar>>> <<Abar[6 <<Abar[3 2][2 1]>>]>>> \n",
        "End of computing.\n",
        "\n",
        "\n",
        ";; Clock -> 2015-08-08, 10h 11m 10s.\n",
        "Computing the boundary of the generator 4/14 (dimension 6) :\n",
        "<TnPr <TnPr * <<Abar>>> <<Abar[3 <<Abar[2 1]>>][3 <<Abar[2 1]>>]>>> \n",
        "End of computing.\n",
        "\n",
        "\n",
        ";; Clock -> 2015-08-08, 10h 11m 10s.\n",
        "Computing the boundary of the generator 5/14 (dimension 6) :\n",
        "<TnPr <TnPr * <<Abar[2 1]>>> <<Abar[4 <<Abar[3 2]>>]>>> \n",
        "End of computing.\n",
        "\n",
        "\n",
        ";; Clock -> 2015-08-08, 10h 11m 10s.\n",
        "Computing the boundary of the generator 6/14 (dimension 6) :\n",
        "<TnPr <TnPr * <<Abar[3 2]>>> <<Abar[3 <<Abar[2 1]>>]>>> \n",
        "End of computing.\n",
        "\n",
        "\n",
        ";; Clock -> 2015-08-08, 10h 11m 10s.\n",
        "Computing the boundary of the generator 7/14 (dimension 6) :\n",
        "<TnPr <TnPr M3 <<Abar>>> <<Abar[3 <<Abar[2 1]>>]>>> \n",
        "End of computing.\n",
        "\n",
        "\n",
        ";; Clock -> 2015-08-08, 10h 11m 10s.\n",
        "Computing the boundary of the generator 8/14 (dimension 6) :\n",
        "<TnPr <TnPr * <<Abar[6 5]>>> <<Abar>>> \n",
        "End of computing.\n",
        "\n",
        "\n",
        ";; Clock -> 2015-08-08, 10h 11m 10s.\n",
        "Computing the boundary of the generator 9/14 (dimension 6) :\n",
        "<TnPr <TnPr * <<Abar[2 1][4 3]>>> <<Abar>>> \n",
        "End of computing.\n",
        "\n",
        "\n",
        ";; Clock -> 2015-08-08, 10h 11m 11s.\n",
        "Computing the boundary of the generator 10/14 (dimension 6) :\n",
        "<TnPr <TnPr * <<Abar[3 2][3 2]>>> <<Abar>>> \n",
        "End of computing.\n",
        "\n",
        "\n",
        ";; Clock -> 2015-08-08, 10h 11m 11s.\n",
        "Computing the boundary of the generator 11/14 (dimension 6) :\n",
        "<TnPr <TnPr * <<Abar[4 3][2 1]>>> <<Abar>>> \n",
        "End of computing.\n",
        "\n",
        "\n",
        ";; Clock -> 2015-08-08, 10h 11m 12s.\n",
        "Computing the boundary of the generator 12/14 (dimension 6) :\n",
        "<TnPr <TnPr * <<Abar[2 1][2 1][2 1]>>> <<Abar>>> \n",
        "End of computing.\n",
        "\n",
        "\n",
        ";; Clock -> 2015-08-08, 10h 11m 13s.\n",
        "Computing the boundary of the generator 13/14 (dimension 6) :\n",
        "<TnPr <TnPr M3 <<Abar[3 2]>>> <<Abar>>> \n",
        "End of computing.\n",
        "\n",
        "\n",
        ";; Clock -> 2015-08-08, 10h 11m 14s.\n",
        "Computing the boundary of the generator 14/14 (dimension 6) :\n",
        "<TnPr <TnPr N4 <<Abar[2 1]>>> <<Abar>>> \n",
        "End of computing.\n",
        "\n",
        "\n",
        "\n",
        "\n",
        "Homology in dimension 5 :\n",
        "\n",
        "\n",
        "Component Z/4Z\n",
        "\n",
        "\n",
        "---done---\n",
        "\n",
        ";; Clock -> 2015-08-08, 10h 11m 15s.\n",
        "\n"
       ]
      },
      {
       "metadata": {},
       "output_type": "pyout",
       "prompt_number": 49,
       "text": [
        "NIL"
       ]
      }
     ],
     "prompt_number": 49
    },
    {
     "cell_type": "markdown",
     "metadata": {},
     "source": [
      "So $\\pi_5(\\mathrm{Moore}(\\mathbb{Z}/2\\mathbb{Z}))$ is $\\mathbb{Z}/4\\mathbb{Z}$."
     ]
    }
   ],
   "metadata": {}
  }
 ]
}
