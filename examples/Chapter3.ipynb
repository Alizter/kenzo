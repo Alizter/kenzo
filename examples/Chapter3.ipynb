{
 "cells": [
  {
   "cell_type": "markdown",
   "metadata": {},
   "source": [
    "# Chapter 3\n",
    "# The Homology Module\n",
    "## Example"
   ]
  },
  {
   "cell_type": "code",
   "execution_count": 1,
   "metadata": {
    "collapsed": false
   },
   "outputs": [
    {
     "data": {
      "text/plain": [
       "(\"kenzo\")"
      ]
     },
     "execution_count": 1,
     "metadata": {},
     "output_type": "execute_result"
    }
   ],
   "source": [
    "(ql:quickload \"kenzo\")"
   ]
  },
  {
   "cell_type": "code",
   "execution_count": 2,
   "metadata": {
    "collapsed": false
   },
   "outputs": [
    {
     "name": "stdout",
     "output_type": "stream",
     "text": [
      "\n",
      "---done---"
     ]
    },
    {
     "data": {
      "text/plain": [
       "NIL"
      ]
     },
     "execution_count": 2,
     "metadata": {},
     "output_type": "execute_result"
    }
   ],
   "source": [
    "(cat:cat-init)"
   ]
  },
  {
   "cell_type": "code",
   "execution_count": 3,
   "metadata": {
    "collapsed": false
   },
   "outputs": [
    {
     "data": {
      "text/plain": [
       "[K1 Chain-Complex]"
      ]
     },
     "execution_count": 3,
     "metadata": {},
     "output_type": "execute_result"
    }
   ],
   "source": [
    "(cat:def diabolo (cat:build-chcm\n",
    "                  :cmpr #'cat:s-cmpr\n",
    "                  :basis #'(lambda (dmn)\n",
    "                                 (case dmn\n",
    "                                     (0 '(s0 s1 s2 s3 s4 s5))\n",
    "                                     (1 '(s01 s02 s12 s23 s34 s35 s45))\n",
    "                                     (2 '(s345))\n",
    "                                     (otherwise nil)))\n",
    "                  :bsgn 's0\n",
    "                  :intr-dffr #'(lambda (dmn gnr)\n",
    "                                       (unless (<= 0 dmn 2)\n",
    "                                           (error \"Incorrect dimension for diabolo-dp.\"))\n",
    "                                       (case dmn\n",
    "                                           (0 (cat:cmbn -1))  ; Note the null combination of degree -1\n",
    "                                           (1 (case gnr\n",
    "                                                  (s01 (cat:cmbn 0 -1 's0 1 's1))\n",
    "                                                  (s02 (cat:cmbn 0 -1 's0 1 's2))\n",
    "                                                  (s12 (cat:cmbn 0 -1 's1 1 's2))\n",
    "                                                  (s23 (cat:cmbn 0 -1 's2 1 's3))\n",
    "                                                  (s34 (cat:cmbn 0 -1 's3 1 's4))\n",
    "                                                  (s35 (cat:cmbn 0 -1 's3 1 's5))\n",
    "                                                  (s45 (cat:cmbn 0 -1 's4 1 's5))))\n",
    "                                           (2 (case gnr\n",
    "                                                  (s345 (cat:cmbn 1 1 's34 -1 's35 1 's45))))\n",
    "                                           (otherwise (error \"Bad generator for complex diabolo\"))))\n",
    "                  :strt :GNRT\n",
    "                  :orgn '(diabolo-for-example)))"
   ]
  },
  {
   "cell_type": "code",
   "execution_count": 4,
   "metadata": {
    "collapsed": false
   },
   "outputs": [
    {
     "name": "stdout",
     "output_type": "stream",
     "text": [
      "\n",
      "Computing boundary-matrix in dimension 0.\n",
      "Rank of the source-module : 6.\n",
      "\n",
      "\n",
      ";; Clock -> 2015-08-21, 19h 37m 14s.\n",
      "Computing the boundary of the generator 1/6 (dimension 0) :\n",
      "S0 \n",
      "End of computing.\n",
      "\n",
      "\n",
      ";; Clock -> 2015-08-21, 19h 37m 14s.\n",
      "Computing the boundary of the generator 2/6 (dimension 0) :\n",
      "S1 \n",
      "End of computing.\n",
      "\n",
      "\n",
      ";; Clock -> 2015-08-21, 19h 37m 14s.\n",
      "Computing the boundary of the generator 3/6 (dimension 0) :\n",
      "S2 \n",
      "End of computing.\n",
      "\n",
      "\n",
      ";; Clock -> 2015-08-21, 19h 37m 14s.\n",
      "Computing the boundary of the generator 4/6 (dimension 0) :\n",
      "S3 \n",
      "End of computing.\n",
      "\n",
      "\n",
      ";; Clock -> 2015-08-21, 19h 37m 14s.\n",
      "Computing the boundary of the generator 5/6 (dimension 0) :\n",
      "S4 \n",
      "End of computing.\n",
      "\n",
      "\n",
      ";; Clock -> 2015-08-21, 19h 37m 14s.\n",
      "Computing the boundary of the generator 6/6 (dimension 0) :\n",
      "S5 \n",
      "End of computing.\n",
      "\n",
      "\n",
      "Computing boundary-matrix in dimension 1.\n",
      "Rank of the source-module : 7.\n",
      "\n",
      "\n",
      ";; Clock -> 2015-08-21, 19h 37m 14s.\n",
      "Computing the boundary of the generator 1/7 (dimension 1) :\n",
      "S01 \n",
      "End of computing.\n",
      "\n",
      "\n",
      ";; Clock -> 2015-08-21, 19h 37m 14s.\n",
      "Computing the boundary of the generator 2/7 (dimension 1) :\n",
      "S02 \n",
      "End of computing.\n",
      "\n",
      "\n",
      ";; Clock -> 2015-08-21, 19h 37m 14s.\n",
      "Computing the boundary of the generator 3/7 (dimension 1) :\n",
      "S12 \n",
      "End of computing.\n",
      "\n",
      "\n",
      ";; Clock -> 2015-08-21, 19h 37m 14s.\n",
      "Computing the boundary of the generator 4/7 (dimension 1) :\n",
      "S23 \n",
      "End of computing.\n",
      "\n",
      "\n",
      ";; Clock -> 2015-08-21, 19h 37m 14s.\n",
      "Computing the boundary of the generator 5/7 (dimension 1) :\n",
      "S34 \n",
      "End of computing.\n",
      "\n",
      "\n",
      ";; Clock -> 2015-08-21, 19h 37m 14s.\n",
      "Computing the boundary of the generator 6/7 (dimension 1) :\n",
      "S35 \n",
      "End of computing.\n",
      "\n",
      "\n",
      ";; Clock -> 2015-08-21, 19h 37m 14s.\n",
      "Computing the boundary of the generator 7/7 (dimension 1) :\n",
      "S45 \n",
      "End of computing.\n",
      "\n",
      "\n",
      "\n",
      "\n",
      "Homology in dimension 0 :\n",
      "\n",
      "\n",
      "Component Z\n",
      "\n",
      "\n",
      "---done---"
     ]
    },
    {
     "data": {
      "text/plain": [
       "NIL"
      ]
     },
     "execution_count": 4,
     "metadata": {},
     "output_type": "execute_result"
    }
   ],
   "source": [
    "(cat:chcm-homology diabolo 0)"
   ]
  },
  {
   "cell_type": "code",
   "execution_count": 5,
   "metadata": {
    "collapsed": false
   },
   "outputs": [
    {
     "name": "stdout",
     "output_type": "stream",
     "text": [
      "\n",
      "Computing boundary-matrix in dimension 1.\n",
      "Rank of the source-module : 7.\n",
      "\n",
      "\n",
      ";; Clock -> 2015-08-21, 19h 37m 14s.\n",
      "Computing the boundary of the generator 1/7 (dimension 1) :\n",
      "S01 \n",
      "End of computing.\n",
      "\n",
      "\n",
      ";; Clock -> 2015-08-21, 19h 37m 14s.\n",
      "Computing the boundary of the generator 2/7 (dimension 1) :\n",
      "S02 \n",
      "End of computing.\n",
      "\n",
      "\n",
      ";; Clock -> 2015-08-21, 19h 37m 14s.\n",
      "Computing the boundary of the generator 3/7 (dimension 1) :\n",
      "S12 \n",
      "End of computing.\n",
      "\n",
      "\n",
      ";; Clock -> 2015-08-21, 19h 37m 14s.\n",
      "Computing the boundary of the generator 4/7 (dimension 1) :\n",
      "S23 \n",
      "End of computing.\n",
      "\n",
      "\n",
      ";; Clock -> 2015-08-21, 19h 37m 14s.\n",
      "Computing the boundary of the generator 5/7 (dimension 1) :\n",
      "S34 \n",
      "End of computing.\n",
      "\n",
      "\n",
      ";; Clock -> 2015-08-21, 19h 37m 14s.\n",
      "Computing the boundary of the generator 6/7 (dimension 1) :\n",
      "S35 \n",
      "End of computing.\n",
      "\n",
      "\n",
      ";; Clock -> 2015-08-21, 19h 37m 14s.\n",
      "Computing the boundary of the generator 7/7 (dimension 1) :\n",
      "S45 \n",
      "End of computing.\n",
      "\n",
      "\n",
      "Computing boundary-matrix in dimension 2.\n",
      "Rank of the source-module : 1.\n",
      "\n",
      "\n",
      ";; Clock -> 2015-08-21, 19h 37m 14s.\n",
      "Computing the boundary of the generator 1/1 (dimension 2) :\n",
      "S345 \n",
      "End of computing.\n",
      "\n",
      "\n",
      "\n",
      "\n",
      "Homology in dimension 1 :\n",
      "\n",
      "\n",
      "Component Z\n",
      "\n",
      "\n",
      "---done---"
     ]
    },
    {
     "data": {
      "text/plain": [
       "NIL"
      ]
     },
     "execution_count": 5,
     "metadata": {},
     "output_type": "execute_result"
    }
   ],
   "source": [
    "(cat:chcm-homology diabolo 1)"
   ]
  },
  {
   "cell_type": "code",
   "execution_count": 6,
   "metadata": {
    "collapsed": false
   },
   "outputs": [
    {
     "name": "stdout",
     "output_type": "stream",
     "text": [
      "\n",
      "Computing boundary-matrix in dimension 2.\n",
      "Rank of the source-module : 1.\n",
      "\n",
      "\n",
      ";; Clock -> 2015-08-21, 19h 37m 14s.\n",
      "Computing the boundary of the generator 1/1 (dimension 2) :\n",
      "S345 \n",
      "End of computing.\n",
      "\n",
      "\n",
      "Computing boundary-matrix in dimension 3.\n",
      "Rank of the source-module : 0.\n",
      "\n",
      "\n",
      "\n",
      "\n",
      "Homology in dimension 2 :\n",
      "\n",
      "\n",
      "\n",
      "---done---"
     ]
    },
    {
     "data": {
      "text/plain": [
       "NIL"
      ]
     },
     "execution_count": 6,
     "metadata": {},
     "output_type": "execute_result"
    }
   ],
   "source": [
    "(cat:chcm-homology diabolo 2)"
   ]
  },
  {
   "cell_type": "code",
   "execution_count": 7,
   "metadata": {
    "collapsed": false
   },
   "outputs": [
    {
     "data": {
      "text/plain": [
       "#<Anonymous Function #x302001DB640F>"
      ]
     },
     "execution_count": 7,
     "metadata": {},
     "output_type": "execute_result"
    }
   ],
   "source": [
    "(cat:def duncehat-basis #'(lambda (dmn)\n",
    "                                  (case dmn\n",
    "                                      (0 '((0) (1) (2) (3) (4) (5) (6) (7)))\n",
    "                                      (1 '((0 1) (0 2) (0 3)\n",
    "                                           (0 4) (0 5) (0 6)\n",
    "                                           (0 7) (1 2) (1 3)\n",
    "                                           (1 4) (1 5) (1 6)\n",
    "                                           (1 7) (2 3) (2 4)\n",
    "                                           (2 6) (2 7) (3 4)\n",
    "                                           (3 5) (4 5) (4 6)\n",
    "                                           (5 6) (5 7) (6 7)))\n",
    "                                      (2 '((0 1 5) (0 1 6) (0 1 7)\n",
    "                                           (0 2 3) (0 2 4) (0 2 6)\n",
    "                                           (0 3 4) (0 5 7) (1 2 3)\n",
    "                                           (1 2 4) (1 2 7) (1 3 5)\n",
    "                                           (1 4 6) (2 6 7) (3 4 5)\n",
    "                                           (4 5 6) (5 6 7)))\n",
    "                                      (otherwise nil))))"
   ]
  },
  {
   "cell_type": "code",
   "execution_count": 8,
   "metadata": {
    "collapsed": false
   },
   "outputs": [
    {
     "data": {
      "text/plain": [
       "#<Anonymous Function #x302001DCAE4F>"
      ]
     },
     "execution_count": 8,
     "metadata": {},
     "output_type": "execute_result"
    }
   ],
   "source": [
    "(cat:def duncehat-df #'(lambda (dmn gnr)\n",
    "                               (case dmn\n",
    "                                   (0 (cat:cmbn -1))\n",
    "                                   (1 (cat:cmbn 0 -1 (list (first gnr)) 1 (rest gnr)))\n",
    "                                   (2 (cat:cmbn 1 1 (list (first gnr) (second gnr))\n",
    "                                                 -1 (list (first gnr) (third gnr))\n",
    "                                                  1 (rest gnr)))\n",
    "                                   (otherwise nil))))"
   ]
  },
  {
   "cell_type": "code",
   "execution_count": 9,
   "metadata": {
    "collapsed": false
   },
   "outputs": [
    {
     "data": {
      "text/plain": [
       "[K3 Chain-Complex]"
      ]
     },
     "execution_count": 9,
     "metadata": {},
     "output_type": "execute_result"
    }
   ],
   "source": [
    "(cat:def duncehat (cat:build-chcm :cmpr #'cat:l-cmpr\n",
    "                                  :basis duncehat-basis\n",
    "                                  :bsgn '(0)\n",
    "                                  :intr-dffr duncehat-df\n",
    "                                  :strt :gnrt\n",
    "                                  :orgn '(dunce hat)))"
   ]
  },
  {
   "cell_type": "code",
   "execution_count": 10,
   "metadata": {
    "collapsed": false
   },
   "outputs": [
    {
     "name": "stdout",
     "output_type": "stream",
     "text": [
      "\n",
      "Computing boundary-matrix in dimension 0.\n",
      "Rank of the source-module : 8.\n",
      "\n",
      "\n",
      ";; Clock -> 2015-08-21, 19h 37m 14s.\n",
      "Computing the boundary of the generator 1/8 (dimension 0) :\n",
      "(0) \n",
      "End of computing.\n",
      "\n",
      "\n",
      ";; Clock -> 2015-08-21, 19h 37m 14s.\n",
      "Computing the boundary of the generator 2/8 (dimension 0) :\n",
      "(1) \n",
      "End of computing.\n",
      "\n",
      "\n",
      ";; Clock -> 2015-08-21, 19h 37m 14s.\n",
      "Computing the boundary of the generator 3/8 (dimension 0) :\n",
      "(2) \n",
      "End of computing.\n",
      "\n",
      "\n",
      ";; Clock -> 2015-08-21, 19h 37m 14s.\n",
      "Computing the boundary of the generator 4/8 (dimension 0) :\n",
      "(3) \n",
      "End of computing.\n",
      "\n",
      "\n",
      ";; Clock -> 2015-08-21, 19h 37m 14s.\n",
      "Computing the boundary of the generator 5/8 (dimension 0) :\n",
      "(4) \n",
      "End of computing.\n",
      "\n",
      "\n",
      ";; Clock -> 2015-08-21, 19h 37m 14s.\n",
      "Computing the boundary of the generator 6/8 (dimension 0) :\n",
      "(5) \n",
      "End of computing.\n",
      "\n",
      "\n",
      ";; Clock -> 2015-08-21, 19h 37m 14s.\n",
      "Computing the boundary of the generator 7/8 (dimension 0) :\n",
      "(6) \n",
      "End of computing.\n",
      "\n",
      "\n",
      ";; Clock -> 2015-08-21, 19h 37m 14s.\n",
      "Computing the boundary of the generator 8/8 (dimension 0) :\n",
      "(7) \n",
      "End of computing.\n",
      "\n",
      "\n",
      "Computing boundary-matrix in dimension 1.\n",
      "Rank of the source-module : 24.\n",
      "\n",
      "\n",
      ";; Clock -> 2015-08-21, 19h 37m 14s.\n",
      "Computing the boundary of the generator 1/24 (dimension 1) :\n",
      "(0 1) \n",
      "End of computing.\n",
      "\n",
      "\n",
      ";; Clock -> 2015-08-21, 19h 37m 14s.\n",
      "Computing the boundary of the generator 2/24 (dimension 1) :\n",
      "(0 2) \n",
      "End of computing.\n",
      "\n",
      "\n",
      ";; Clock -> 2015-08-21, 19h 37m 14s.\n",
      "Computing the boundary of the generator 3/24 (dimension 1) :\n",
      "(0 3) \n",
      "End of computing.\n",
      "\n",
      "\n",
      ";; Clock -> 2015-08-21, 19h 37m 14s.\n",
      "Computing the boundary of the generator 4/24 (dimension 1) :\n",
      "(0 4) \n",
      "End of computing.\n",
      "\n",
      "\n",
      ";; Clock -> 2015-08-21, 19h 37m 14s.\n",
      "Computing the boundary of the generator 5/24 (dimension 1) :\n",
      "(0 5) \n",
      "End of computing.\n",
      "\n",
      "\n",
      ";; Clock -> 2015-08-21, 19h 37m 14s.\n",
      "Computing the boundary of the generator 6/24 (dimension 1) :\n",
      "(0 6) \n",
      "End of computing.\n",
      "\n",
      "\n",
      ";; Clock -> 2015-08-21, 19h 37m 14s.\n",
      "Computing the boundary of the generator 7/24 (dimension 1) :\n",
      "(0 7) \n",
      "End of computing.\n",
      "\n",
      "\n",
      ";; Clock -> 2015-08-21, 19h 37m 14s.\n",
      "Computing the boundary of the generator 8/24 (dimension 1) :\n",
      "(1 2) \n",
      "End of computing.\n",
      "\n",
      "\n",
      ";; Clock -> 2015-08-21, 19h 37m 14s.\n",
      "Computing the boundary of the generator 9/24 (dimension 1) :\n",
      "(1 3) \n",
      "End of computing.\n",
      "\n",
      "\n",
      ";; Clock -> 2015-08-21, 19h 37m 14s.\n",
      "Computing the boundary of the generator 10/24 (dimension 1) :\n",
      "(1 4) \n",
      "End of computing.\n",
      "\n",
      "\n",
      ";; Clock -> 2015-08-21, 19h 37m 14s.\n",
      "Computing the boundary of the generator 11/24 (dimension 1) :\n",
      "(1 5) \n",
      "End of computing.\n",
      "\n",
      "\n",
      ";; Clock -> 2015-08-21, 19h 37m 14s.\n",
      "Computing the boundary of the generator 12/24 (dimension 1) :\n",
      "(1 6) \n",
      "End of computing.\n",
      "\n",
      "\n",
      ";; Clock -> 2015-08-21, 19h 37m 14s.\n",
      "Computing the boundary of the generator 13/24 (dimension 1) :\n",
      "(1 7) \n",
      "End of computing.\n",
      "\n",
      "\n",
      ";; Clock -> 2015-08-21, 19h 37m 14s.\n",
      "Computing the boundary of the generator 14/24 (dimension 1) :\n",
      "(2 3) \n",
      "End of computing.\n",
      "\n",
      "\n",
      ";; Clock -> 2015-08-21, 19h 37m 14s.\n",
      "Computing the boundary of the generator 15/24 (dimension 1) :\n",
      "(2 4) \n",
      "End of computing.\n",
      "\n",
      "\n",
      ";; Clock -> 2015-08-21, 19h 37m 14s.\n",
      "Computing the boundary of the generator 16/24 (dimension 1) :\n",
      "(2 6) \n",
      "End of computing.\n",
      "\n",
      "\n",
      ";; Clock -> 2015-08-21, 19h 37m 14s.\n",
      "Computing the boundary of the generator 17/24 (dimension 1) :\n",
      "(2 7) \n",
      "End of computing.\n",
      "\n",
      "\n",
      ";; Clock -> 2015-08-21, 19h 37m 14s.\n",
      "Computing the boundary of the generator 18/24 (dimension 1) :\n",
      "(3 4) \n",
      "End of computing.\n",
      "\n",
      "\n",
      ";; Clock -> 2015-08-21, 19h 37m 14s.\n",
      "Computing the boundary of the generator 19/24 (dimension 1) :\n",
      "(3 5) \n",
      "End of computing.\n",
      "\n",
      "\n",
      ";; Clock -> 2015-08-21, 19h 37m 14s.\n",
      "Computing the boundary of the generator 20/24 (dimension 1) :\n",
      "(4 5) \n",
      "End of computing.\n",
      "\n",
      "\n",
      ";; Clock -> 2015-08-21, 19h 37m 14s.\n",
      "Computing the boundary of the generator 21/24 (dimension 1) :\n",
      "(4 6) \n",
      "End of computing.\n",
      "\n",
      "\n",
      ";; Clock -> 2015-08-21, 19h 37m 14s.\n",
      "Computing the boundary of the generator 22/24 (dimension 1) :\n",
      "(5 6) \n",
      "End of computing.\n",
      "\n",
      "\n",
      ";; Clock -> 2015-08-21, 19h 37m 14s.\n",
      "Computing the boundary of the generator 23/24 (dimension 1) :\n",
      "(5 7) \n",
      "End of computing.\n",
      "\n",
      "\n",
      ";; Clock -> 2015-08-21, 19h 37m 14s.\n",
      "Computing the boundary of the generator 24/24 (dimension 1) :\n",
      "(6 7) \n",
      "End of computing.\n",
      "\n",
      "\n",
      "\n",
      "\n",
      "Homology in dimension 0 :\n",
      "\n",
      "\n",
      "Component Z\n",
      "\n",
      "\n",
      "---done---"
     ]
    },
    {
     "data": {
      "text/plain": [
       "NIL"
      ]
     },
     "execution_count": 10,
     "metadata": {},
     "output_type": "execute_result"
    }
   ],
   "source": [
    "(cat:chcm-homology duncehat 0)"
   ]
  },
  {
   "cell_type": "code",
   "execution_count": 11,
   "metadata": {
    "collapsed": false
   },
   "outputs": [
    {
     "name": "stdout",
     "output_type": "stream",
     "text": [
      "\n",
      "Computing boundary-matrix in dimension 1.\n",
      "Rank of the source-module : 24.\n",
      "\n",
      "\n",
      ";; Clock -> 2015-08-21, 19h 37m 14s.\n",
      "Computing the boundary of the generator 1/24 (dimension 1) :\n",
      "(0 1) \n",
      "End of computing.\n",
      "\n",
      "\n",
      ";; Clock -> 2015-08-21, 19h 37m 14s.\n",
      "Computing the boundary of the generator 2/24 (dimension 1) :\n",
      "(0 2) \n",
      "End of computing.\n",
      "\n",
      "\n",
      ";; Clock -> 2015-08-21, 19h 37m 14s.\n",
      "Computing the boundary of the generator 3/24 (dimension 1) :\n",
      "(0 3) \n",
      "End of computing.\n",
      "\n",
      "\n",
      ";; Clock -> 2015-08-21, 19h 37m 14s.\n",
      "Computing the boundary of the generator 4/24 (dimension 1) :\n",
      "(0 4) \n",
      "End of computing.\n",
      "\n",
      "\n",
      ";; Clock -> 2015-08-21, 19h 37m 14s.\n",
      "Computing the boundary of the generator 5/24 (dimension 1) :\n",
      "(0 5) \n",
      "End of computing.\n",
      "\n",
      "\n",
      ";; Clock -> 2015-08-21, 19h 37m 14s.\n",
      "Computing the boundary of the generator 6/24 (dimension 1) :\n",
      "(0 6) \n",
      "End of computing.\n",
      "\n",
      "\n",
      ";; Clock -> 2015-08-21, 19h 37m 14s.\n",
      "Computing the boundary of the generator 7/24 (dimension 1) :\n",
      "(0 7) \n",
      "End of computing.\n",
      "\n",
      "\n",
      ";; Clock -> 2015-08-21, 19h 37m 14s.\n",
      "Computing the boundary of the generator 8/24 (dimension 1) :\n",
      "(1 2) \n",
      "End of computing.\n",
      "\n",
      "\n",
      ";; Clock -> 2015-08-21, 19h 37m 14s.\n",
      "Computing the boundary of the generator 9/24 (dimension 1) :\n",
      "(1 3) \n",
      "End of computing.\n",
      "\n",
      "\n",
      ";; Clock -> 2015-08-21, 19h 37m 14s.\n",
      "Computing the boundary of the generator 10/24 (dimension 1) :\n",
      "(1 4) \n",
      "End of computing.\n",
      "\n",
      "\n",
      ";; Clock -> 2015-08-21, 19h 37m 14s.\n",
      "Computing the boundary of the generator 11/24 (dimension 1) :\n",
      "(1 5) \n",
      "End of computing.\n",
      "\n",
      "\n",
      ";; Clock -> 2015-08-21, 19h 37m 14s.\n",
      "Computing the boundary of the generator 12/24 (dimension 1) :\n",
      "(1 6) \n",
      "End of computing.\n",
      "\n",
      "\n",
      ";; Clock -> 2015-08-21, 19h 37m 14s.\n",
      "Computing the boundary of the generator 13/24 (dimension 1) :\n",
      "(1 7) \n",
      "End of computing.\n",
      "\n",
      "\n",
      ";; Clock -> 2015-08-21, 19h 37m 14s.\n",
      "Computing the boundary of the generator 14/24 (dimension 1) :\n",
      "(2 3) \n",
      "End of computing.\n",
      "\n",
      "\n",
      ";; Clock -> 2015-08-21, 19h 37m 14s.\n",
      "Computing the boundary of the generator 15/24 (dimension 1) :\n",
      "(2 4) \n",
      "End of computing.\n",
      "\n",
      "\n",
      ";; Clock -> 2015-08-21, 19h 37m 14s.\n",
      "Computing the boundary of the generator 16/24 (dimension 1) :\n",
      "(2 6) \n",
      "End of computing.\n",
      "\n",
      "\n",
      ";; Clock -> 2015-08-21, 19h 37m 14s.\n",
      "Computing the boundary of the generator 17/24 (dimension 1) :\n",
      "(2 7) \n",
      "End of computing.\n",
      "\n",
      "\n",
      ";; Clock -> 2015-08-21, 19h 37m 14s.\n",
      "Computing the boundary of the generator 18/24 (dimension 1) :\n",
      "(3 4) \n",
      "End of computing.\n",
      "\n",
      "\n",
      ";; Clock -> 2015-08-21, 19h 37m 14s.\n",
      "Computing the boundary of the generator 19/24 (dimension 1) :\n",
      "(3 5) \n",
      "End of computing.\n",
      "\n",
      "\n",
      ";; Clock -> 2015-08-21, 19h 37m 14s.\n",
      "Computing the boundary of the generator 20/24 (dimension 1) :\n",
      "(4 5) \n",
      "End of computing.\n",
      "\n",
      "\n",
      ";; Clock -> 2015-08-21, 19h 37m 14s.\n",
      "Computing the boundary of the generator 21/24 (dimension 1) :\n",
      "(4 6) \n",
      "End of computing.\n",
      "\n",
      "\n",
      ";; Clock -> 2015-08-21, 19h 37m 14s.\n",
      "Computing the boundary of the generator 22/24 (dimension 1) :\n",
      "(5 6) \n",
      "End of computing.\n",
      "\n",
      "\n",
      ";; Clock -> 2015-08-21, 19h 37m 14s.\n",
      "Computing the boundary of the generator 23/24 (dimension 1) :\n",
      "(5 7) \n",
      "End of computing.\n",
      "\n",
      "\n",
      ";; Clock -> 2015-08-21, 19h 37m 14s.\n",
      "Computing the boundary of the generator 24/24 (dimension 1) :\n",
      "(6 7) \n",
      "End of computing.\n",
      "\n",
      "\n",
      "Computing boundary-matrix in dimension 2.\n",
      "Rank of the source-module : 17.\n",
      "\n",
      "\n",
      ";; Clock -> 2015-08-21, 19h 37m 14s.\n",
      "Computing the boundary of the generator 1/17 (dimension 2) :\n",
      "(0 1 5) \n",
      "End of computing.\n",
      "\n",
      "\n",
      ";; Clock -> 2015-08-21, 19h 37m 14s.\n",
      "Computing the boundary of the generator 2/17 (dimension 2) :\n",
      "(0 1 6) \n",
      "End of computing.\n",
      "\n",
      "\n",
      ";; Clock -> 2015-08-21, 19h 37m 14s.\n",
      "Computing the boundary of the generator 3/17 (dimension 2) :\n",
      "(0 1 7) \n",
      "End of computing.\n",
      "\n",
      "\n",
      ";; Clock -> 2015-08-21, 19h 37m 14s.\n",
      "Computing the boundary of the generator 4/17 (dimension 2) :\n",
      "(0 2 3) \n",
      "End of computing.\n",
      "\n",
      "\n",
      ";; Clock -> 2015-08-21, 19h 37m 14s.\n",
      "Computing the boundary of the generator 5/17 (dimension 2) :\n",
      "(0 2 4) \n",
      "End of computing.\n",
      "\n",
      "\n",
      ";; Clock -> 2015-08-21, 19h 37m 14s.\n",
      "Computing the boundary of the generator 6/17 (dimension 2) :\n",
      "(0 2 6) \n",
      "End of computing.\n",
      "\n",
      "\n",
      ";; Clock -> 2015-08-21, 19h 37m 14s.\n",
      "Computing the boundary of the generator 7/17 (dimension 2) :\n",
      "(0 3 4) \n",
      "End of computing.\n",
      "\n",
      "\n",
      ";; Clock -> 2015-08-21, 19h 37m 14s.\n",
      "Computing the boundary of the generator 8/17 (dimension 2) :\n",
      "(0 5 7) \n",
      "End of computing.\n",
      "\n",
      "\n",
      ";; Clock -> 2015-08-21, 19h 37m 14s.\n",
      "Computing the boundary of the generator 9/17 (dimension 2) :\n",
      "(1 2 3) \n",
      "End of computing.\n",
      "\n",
      "\n",
      ";; Clock -> 2015-08-21, 19h 37m 14s.\n",
      "Computing the boundary of the generator 10/17 (dimension 2) :\n",
      "(1 2 4) \n",
      "End of computing.\n",
      "\n",
      "\n",
      ";; Clock -> 2015-08-21, 19h 37m 14s.\n",
      "Computing the boundary of the generator 11/17 (dimension 2) :\n",
      "(1 2 7) \n",
      "End of computing.\n",
      "\n",
      "\n",
      ";; Clock -> 2015-08-21, 19h 37m 14s.\n",
      "Computing the boundary of the generator 12/17 (dimension 2) :\n",
      "(1 3 5) \n",
      "End of computing.\n",
      "\n",
      "\n",
      ";; Clock -> 2015-08-21, 19h 37m 14s.\n",
      "Computing the boundary of the generator 13/17 (dimension 2) :\n",
      "(1 4 6) \n",
      "End of computing.\n",
      "\n",
      "\n",
      ";; Clock -> 2015-08-21, 19h 37m 14s.\n",
      "Computing the boundary of the generator 14/17 (dimension 2) :\n",
      "(2 6 7) \n",
      "End of computing.\n",
      "\n",
      "\n",
      ";; Clock -> 2015-08-21, 19h 37m 14s.\n",
      "Computing the boundary of the generator 15/17 (dimension 2) :\n",
      "(3 4 5) \n",
      "End of computing.\n",
      "\n",
      "\n",
      ";; Clock -> 2015-08-21, 19h 37m 14s.\n",
      "Computing the boundary of the generator 16/17 (dimension 2) :\n",
      "(4 5 6) \n",
      "End of computing.\n",
      "\n",
      "\n",
      ";; Clock -> 2015-08-21, 19h 37m 14s.\n",
      "Computing the boundary of the generator 17/17 (dimension 2) :\n",
      "(5 6 7) \n",
      "End of computing.\n",
      "\n",
      "\n",
      "\n",
      "\n",
      "Homology in dimension 1 :\n",
      "\n",
      "\n",
      "\n",
      "---done---"
     ]
    },
    {
     "data": {
      "text/plain": [
       "NIL"
      ]
     },
     "execution_count": 11,
     "metadata": {},
     "output_type": "execute_result"
    }
   ],
   "source": [
    "(cat:chcm-homology duncehat 1)"
   ]
  },
  {
   "cell_type": "code",
   "execution_count": 12,
   "metadata": {
    "collapsed": false
   },
   "outputs": [
    {
     "name": "stdout",
     "output_type": "stream",
     "text": [
      "\n",
      "Computing boundary-matrix in dimension 2.\n",
      "Rank of the source-module : 17.\n",
      "\n",
      "\n",
      ";; Clock -> 2015-08-21, 19h 37m 14s.\n",
      "Computing the boundary of the generator 1/17 (dimension 2) :\n",
      "(0 1 5) \n",
      "End of computing.\n",
      "\n",
      "\n",
      ";; Clock -> 2015-08-21, 19h 37m 14s.\n",
      "Computing the boundary of the generator 2/17 (dimension 2) :\n",
      "(0 1 6) \n",
      "End of computing.\n",
      "\n",
      "\n",
      ";; Clock -> 2015-08-21, 19h 37m 14s.\n",
      "Computing the boundary of the generator 3/17 (dimension 2) :\n",
      "(0 1 7) \n",
      "End of computing.\n",
      "\n",
      "\n",
      ";; Clock -> 2015-08-21, 19h 37m 14s.\n",
      "Computing the boundary of the generator 4/17 (dimension 2) :\n",
      "(0 2 3) \n",
      "End of computing.\n",
      "\n",
      "\n",
      ";; Clock -> 2015-08-21, 19h 37m 14s.\n",
      "Computing the boundary of the generator 5/17 (dimension 2) :\n",
      "(0 2 4) \n",
      "End of computing.\n",
      "\n",
      "\n",
      ";; Clock -> 2015-08-21, 19h 37m 14s.\n",
      "Computing the boundary of the generator 6/17 (dimension 2) :\n",
      "(0 2 6) \n",
      "End of computing.\n",
      "\n",
      "\n",
      ";; Clock -> 2015-08-21, 19h 37m 14s.\n",
      "Computing the boundary of the generator 7/17 (dimension 2) :\n",
      "(0 3 4) \n",
      "End of computing.\n",
      "\n",
      "\n",
      ";; Clock -> 2015-08-21, 19h 37m 14s.\n",
      "Computing the boundary of the generator 8/17 (dimension 2) :\n",
      "(0 5 7) \n",
      "End of computing.\n",
      "\n",
      "\n",
      ";; Clock -> 2015-08-21, 19h 37m 14s.\n",
      "Computing the boundary of the generator 9/17 (dimension 2) :\n",
      "(1 2 3) \n",
      "End of computing.\n",
      "\n",
      "\n",
      ";; Clock -> 2015-08-21, 19h 37m 14s.\n",
      "Computing the boundary of the generator 10/17 (dimension 2) :\n",
      "(1 2 4) \n",
      "End of computing.\n",
      "\n",
      "\n",
      ";; Clock -> 2015-08-21, 19h 37m 14s.\n",
      "Computing the boundary of the generator 11/17 (dimension 2) :\n",
      "(1 2 7) \n",
      "End of computing.\n",
      "\n",
      "\n",
      ";; Clock -> 2015-08-21, 19h 37m 14s.\n",
      "Computing the boundary of the generator 12/17 (dimension 2) :\n",
      "(1 3 5) \n",
      "End of computing.\n",
      "\n",
      "\n",
      ";; Clock -> 2015-08-21, 19h 37m 14s.\n",
      "Computing the boundary of the generator 13/17 (dimension 2) :\n",
      "(1 4 6) \n",
      "End of computing.\n",
      "\n",
      "\n",
      ";; Clock -> 2015-08-21, 19h 37m 14s.\n",
      "Computing the boundary of the generator 14/17 (dimension 2) :\n",
      "(2 6 7) \n",
      "End of computing.\n",
      "\n",
      "\n",
      ";; Clock -> 2015-08-21, 19h 37m 14s.\n",
      "Computing the boundary of the generator 15/17 (dimension 2) :\n",
      "(3 4 5) \n",
      "End of computing.\n",
      "\n",
      "\n",
      ";; Clock -> 2015-08-21, 19h 37m 14s.\n",
      "Computing the boundary of the generator 16/17 (dimension 2) :\n",
      "(4 5 6) \n",
      "End of computing.\n",
      "\n",
      "\n",
      ";; Clock -> 2015-08-21, 19h 37m 14s.\n",
      "Computing the boundary of the generator 17/17 (dimension 2) :\n",
      "(5 6 7) \n",
      "End of computing.\n",
      "\n",
      "\n",
      "Computing boundary-matrix in dimension 3.\n",
      "Rank of the source-module : 0.\n",
      "\n",
      "\n",
      "\n",
      "\n",
      "Homology in dimension 2 :\n",
      "\n",
      "\n",
      "\n",
      "---done---"
     ]
    },
    {
     "data": {
      "text/plain": [
       "NIL"
      ]
     },
     "execution_count": 12,
     "metadata": {},
     "output_type": "execute_result"
    }
   ],
   "source": [
    "(cat:chcm-homology duncehat 2)"
   ]
  },
  {
   "cell_type": "code",
   "execution_count": 13,
   "metadata": {
    "collapsed": false
   },
   "outputs": [
    {
     "name": "stdout",
     "output_type": "stream",
     "text": [
      "\n",
      "Computing boundary-matrix in dimension 1.\n",
      "Rank of the source-module : 24.\n",
      "\n",
      "\n",
      ";; Clock -> 2015-08-21, 19h 37m 14s.\n",
      "Computing the boundary of the generator 1/24 (dimension 1) :\n",
      "(0 1) \n",
      "End of computing.\n",
      "\n",
      "\n",
      ";; Clock -> 2015-08-21, 19h 37m 14s.\n",
      "Computing the boundary of the generator 2/24 (dimension 1) :\n",
      "(0 2) \n",
      "End of computing.\n",
      "\n",
      "\n",
      ";; Clock -> 2015-08-21, 19h 37m 14s.\n",
      "Computing the boundary of the generator 3/24 (dimension 1) :\n",
      "(0 3) \n",
      "End of computing.\n",
      "\n",
      "\n",
      ";; Clock -> 2015-08-21, 19h 37m 14s.\n",
      "Computing the boundary of the generator 4/24 (dimension 1) :\n",
      "(0 4) \n",
      "End of computing.\n",
      "\n",
      "\n",
      ";; Clock -> 2015-08-21, 19h 37m 14s.\n",
      "Computing the boundary of the generator 5/24 (dimension 1) :\n",
      "(0 5) \n",
      "End of computing.\n",
      "\n",
      "\n",
      ";; Clock -> 2015-08-21, 19h 37m 14s.\n",
      "Computing the boundary of the generator 6/24 (dimension 1) :\n",
      "(0 6) \n",
      "End of computing.\n",
      "\n",
      "\n",
      ";; Clock -> 2015-08-21, 19h 37m 14s.\n",
      "Computing the boundary of the generator 7/24 (dimension 1) :\n",
      "(0 7) \n",
      "End of computing.\n",
      "\n",
      "\n",
      ";; Clock -> 2015-08-21, 19h 37m 14s.\n",
      "Computing the boundary of the generator 8/24 (dimension 1) :\n",
      "(1 2) \n",
      "End of computing.\n",
      "\n",
      "\n",
      ";; Clock -> 2015-08-21, 19h 37m 14s.\n",
      "Computing the boundary of the generator 9/24 (dimension 1) :\n",
      "(1 3) \n",
      "End of computing.\n",
      "\n",
      "\n",
      ";; Clock -> 2015-08-21, 19h 37m 14s.\n",
      "Computing the boundary of the generator 10/24 (dimension 1) :\n",
      "(1 4) \n",
      "End of computing.\n",
      "\n",
      "\n",
      ";; Clock -> 2015-08-21, 19h 37m 14s.\n",
      "Computing the boundary of the generator 11/24 (dimension 1) :\n",
      "(1 5) \n",
      "End of computing.\n",
      "\n",
      "\n",
      ";; Clock -> 2015-08-21, 19h 37m 14s.\n",
      "Computing the boundary of the generator 12/24 (dimension 1) :\n",
      "(1 6) \n",
      "End of computing.\n",
      "\n",
      "\n",
      ";; Clock -> 2015-08-21, 19h 37m 14s.\n",
      "Computing the boundary of the generator 13/24 (dimension 1) :\n",
      "(1 7) \n",
      "End of computing.\n",
      "\n",
      "\n",
      ";; Clock -> 2015-08-21, 19h 37m 14s.\n",
      "Computing the boundary of the generator 14/24 (dimension 1) :\n",
      "(2 3) \n",
      "End of computing.\n",
      "\n",
      "\n",
      ";; Clock -> 2015-08-21, 19h 37m 14s.\n",
      "Computing the boundary of the generator 15/24 (dimension 1) :\n",
      "(2 4) \n",
      "End of computing.\n",
      "\n",
      "\n",
      ";; Clock -> 2015-08-21, 19h 37m 14s.\n",
      "Computing the boundary of the generator 16/24 (dimension 1) :\n",
      "(2 6) \n",
      "End of computing.\n",
      "\n",
      "\n",
      ";; Clock -> 2015-08-21, 19h 37m 14s.\n",
      "Computing the boundary of the generator 17/24 (dimension 1) :\n",
      "(2 7) \n",
      "End of computing.\n",
      "\n",
      "\n",
      ";; Clock -> 2015-08-21, 19h 37m 14s.\n",
      "Computing the boundary of the generator 18/24 (dimension 1) :\n",
      "(3 4) \n",
      "End of computing.\n",
      "\n",
      "\n",
      ";; Clock -> 2015-08-21, 19h 37m 14s.\n",
      "Computing the boundary of the generator 19/24 (dimension 1) :\n",
      "(3 5) \n",
      "End of computing.\n",
      "\n",
      "\n",
      ";; Clock -> 2015-08-21, 19h 37m 14s.\n",
      "Computing the boundary of the generator 20/24 (dimension 1) :\n",
      "(4 5) \n",
      "End of computing.\n",
      "\n",
      "\n",
      ";; Clock -> 2015-08-21, 19h 37m 14s.\n",
      "Computing the boundary of the generator 21/24 (dimension 1) :\n",
      "(4 6) \n",
      "End of computing.\n",
      "\n",
      "\n",
      ";; Clock -> 2015-08-21, 19h 37m 14s.\n",
      "Computing the boundary of the generator 22/24 (dimension 1) :\n",
      "(5 6) \n",
      "End of computing.\n",
      "\n",
      "\n",
      ";; Clock -> 2015-08-21, 19h 37m 14s.\n",
      "Computing the boundary of the generator 23/24 (dimension 1) :\n",
      "(5 7) \n",
      "End of computing.\n",
      "\n",
      "\n",
      ";; Clock -> 2015-08-21, 19h 37m 14s.\n",
      "Computing the boundary of the generator 24/24 (dimension 1) :\n",
      "(6 7) \n",
      "End of computing.\n",
      "\n"
     ]
    },
    {
     "data": {
      "text/plain": [
       "\n",
       "========== MATRIX 8 lines + 24 columns =====\n",
       "L1=[C1=-1][C2=-1][C3=-1][C4=-1][C5=-1][C6=-1][C7=-1]\n",
       "L2=[C1=1][C8=-1][C9=-1][C10=-1][C11=-1][C12=-1][C13=-1]\n",
       "L3=[C2=1][C8=1][C14=-1][C15=-1][C16=-1][C17=-1]\n",
       "L4=[C3=1][C9=1][C14=1][C18=-1][C19=-1]\n",
       "L5=[C4=1][C10=1][C15=1][C18=1][C20=-1][C21=-1]\n",
       "L6=[C5=1][C11=1][C19=1][C20=1][C22=-1][C23=-1]\n",
       "L7=[C6=1][C12=1][C16=1][C21=1][C22=1][C24=-1]\n",
       "L8=[C7=1][C13=1][C17=1][C23=1][C24=1]\n",
       "========== END-MATRIX"
      ]
     },
     "execution_count": 13,
     "metadata": {},
     "output_type": "execute_result"
    }
   ],
   "source": [
    "(cat:def mz (cat:chcm-mat duncehat 1))"
   ]
  },
  {
   "cell_type": "code",
   "execution_count": 14,
   "metadata": {
    "collapsed": false
   },
   "outputs": [
    {
     "name": "stdout",
     "output_type": "stream",
     "text": [
      "\n",
      "Computing boundary-matrix in dimension 2.\n",
      "Rank of the source-module : 17.\n",
      "\n",
      "\n",
      ";; Clock -> 2015-08-21, 19h 37m 14s.\n",
      "Computing the boundary of the generator 1/17 (dimension 2) :\n",
      "(0 1 5) \n",
      "End of computing.\n",
      "\n",
      "\n",
      ";; Clock -> 2015-08-21, 19h 37m 14s.\n",
      "Computing the boundary of the generator 2/17 (dimension 2) :\n",
      "(0 1 6) \n",
      "End of computing.\n",
      "\n",
      "\n",
      ";; Clock -> 2015-08-21, 19h 37m 14s.\n",
      "Computing the boundary of the generator 3/17 (dimension 2) :\n",
      "(0 1 7) \n",
      "End of computing.\n",
      "\n",
      "\n",
      ";; Clock -> 2015-08-21, 19h 37m 14s.\n",
      "Computing the boundary of the generator 4/17 (dimension 2) :\n",
      "(0 2 3) \n",
      "End of computing.\n",
      "\n",
      "\n",
      ";; Clock -> 2015-08-21, 19h 37m 14s.\n",
      "Computing the boundary of the generator 5/17 (dimension 2) :\n",
      "(0 2 4) \n",
      "End of computing.\n",
      "\n",
      "\n",
      ";; Clock -> 2015-08-21, 19h 37m 14s.\n",
      "Computing the boundary of the generator 6/17 (dimension 2) :\n",
      "(0 2 6) \n",
      "End of computing.\n",
      "\n",
      "\n",
      ";; Clock -> 2015-08-21, 19h 37m 14s.\n",
      "Computing the boundary of the generator 7/17 (dimension 2) :\n",
      "(0 3 4) \n",
      "End of computing.\n",
      "\n",
      "\n",
      ";; Clock -> 2015-08-21, 19h 37m 14s.\n",
      "Computing the boundary of the generator 8/17 (dimension 2) :\n",
      "(0 5 7) \n",
      "End of computing.\n",
      "\n",
      "\n",
      ";; Clock -> 2015-08-21, 19h 37m 14s.\n",
      "Computing the boundary of the generator 9/17 (dimension 2) :\n",
      "(1 2 3) \n",
      "End of computing.\n",
      "\n",
      "\n",
      ";; Clock -> 2015-08-21, 19h 37m 14s.\n",
      "Computing the boundary of the generator 10/17 (dimension 2) :\n",
      "(1 2 4) \n",
      "End of computing.\n",
      "\n",
      "\n",
      ";; Clock -> 2015-08-21, 19h 37m 14s.\n",
      "Computing the boundary of the generator 11/17 (dimension 2) :\n",
      "(1 2 7) \n",
      "End of computing.\n",
      "\n",
      "\n",
      ";; Clock -> 2015-08-21, 19h 37m 14s.\n",
      "Computing the boundary of the generator 12/17 (dimension 2) :\n",
      "(1 3 5) \n",
      "End of computing.\n",
      "\n",
      "\n",
      ";; Clock -> 2015-08-21, 19h 37m 14s.\n",
      "Computing the boundary of the generator 13/17 (dimension 2) :\n",
      "(1 4 6) \n",
      "End of computing.\n",
      "\n",
      "\n",
      ";; Clock -> 2015-08-21, 19h 37m 14s.\n",
      "Computing the boundary of the generator 14/17 (dimension 2) :\n",
      "(2 6 7) \n",
      "End of computing.\n",
      "\n",
      "\n",
      ";; Clock -> 2015-08-21, 19h 37m 14s.\n",
      "Computing the boundary of the generator 15/17 (dimension 2) :\n",
      "(3 4 5) \n",
      "End of computing.\n",
      "\n",
      "\n",
      ";; Clock -> 2015-08-21, 19h 37m 14s.\n",
      "Computing the boundary of the generator 16/17 (dimension 2) :\n",
      "(4 5 6) \n",
      "End of computing.\n",
      "\n",
      "\n",
      ";; Clock -> 2015-08-21, 19h 37m 14s.\n",
      "Computing the boundary of the generator 17/17 (dimension 2) :\n",
      "(5 6 7) \n",
      "End of computing.\n",
      "\n"
     ]
    },
    {
     "data": {
      "text/plain": [
       "\n",
       "========== MATRIX 24 lines + 17 columns =====\n",
       "L1=[C1=1][C2=1][C3=1]\n",
       "L2=[C4=1][C5=1][C6=1]\n",
       "L3=[C4=-1][C7=1]\n",
       "L4=[C5=-1][C7=-1]\n",
       "L5=[C1=-1][C8=1]\n",
       "L6=[C2=-1][C6=-1]\n",
       "L7=[C3=-1][C8=-1]\n",
       "L8=[C9=1][C10=1][C11=1]\n",
       "L9=[C9=-1][C12=1]\n",
       "L10=[C10=-1][C13=1]\n",
       "L11=[C1=1][C12=-1]\n",
       "L12=[C2=1][C13=-1]\n",
       "L13=[C3=1][C11=-1]\n",
       "L14=[C4=1][C9=1]\n",
       "L15=[C5=1][C10=1]\n",
       "L16=[C6=1][C14=1]\n",
       "L17=[C11=1][C14=-1]\n",
       "L18=[C7=1][C15=1]\n",
       "L19=[C12=1][C15=-1]\n",
       "L20=[C15=1][C16=1]\n",
       "L21=[C13=1][C16=-1]\n",
       "L22=[C16=1][C17=1]\n",
       "L23=[C8=1][C17=-1]\n",
       "L24=[C14=1][C17=1]\n",
       "========== END-MATRIX"
      ]
     },
     "execution_count": 14,
     "metadata": {},
     "output_type": "execute_result"
    }
   ],
   "source": [
    "(cat:def nb (cat:chcm-mat duncehat 2))"
   ]
  },
  {
   "cell_type": "code",
   "execution_count": 15,
   "metadata": {
    "collapsed": false
   },
   "outputs": [
    {
     "data": {
      "text/plain": [
       "NIL"
      ]
     },
     "execution_count": 15,
     "metadata": {},
     "output_type": "execute_result"
    }
   ],
   "source": [
    "(cat:homologie mz nb)"
   ]
  },
  {
   "cell_type": "markdown",
   "metadata": {},
   "source": [
    "## 3.2 The general method for computing homology\n",
    "### Example"
   ]
  },
  {
   "cell_type": "code",
   "execution_count": 16,
   "metadata": {
    "collapsed": false
   },
   "outputs": [
    {
     "name": "stdout",
     "output_type": "stream",
     "text": [
      "\n",
      "---done---"
     ]
    },
    {
     "data": {
      "text/plain": [
       "NIL"
      ]
     },
     "execution_count": 16,
     "metadata": {},
     "output_type": "execute_result"
    }
   ],
   "source": [
    "(cat:cat-init)"
   ]
  },
  {
   "cell_type": "code",
   "execution_count": 17,
   "metadata": {
    "collapsed": false
   },
   "outputs": [
    {
     "data": {
      "text/plain": [
       "[K1 Simplicial-Set]"
      ]
     },
     "execution_count": 17,
     "metadata": {},
     "output_type": "execute_result"
    }
   ],
   "source": [
    "(cat:def s2 (cat:sphere 2))"
   ]
  },
  {
   "cell_type": "code",
   "execution_count": 18,
   "metadata": {
    "collapsed": false
   },
   "outputs": [
    {
     "name": "stdout",
     "output_type": "stream",
     "text": [
      "[K1 Simplicial-Set]\n",
      "Class: #<STANDARD-CLASS CAT::SIMPLICIAL-SET>\n",
      "Wrapper: #<CCL::CLASS-WRAPPER CAT::SIMPLICIAL-SET #x302001B2688D>\n",
      "Instance slots\n",
      "CAT:CMPR: #<Compiled-function CAT::SPHERE-CMPR #x302001C19EFF>\n",
      "CAT:BASIS: #<CCL:COMPILED-LEXICAL-CLOSURE (:INTERNAL\n",
      "                                           CAT::RSLT\n",
      "                                           CAT::SPHERE-BASIS) #x302001E3230F>\n",
      "CAT:BSGN: *\n",
      "CAT:DFFR: [K2 Morphism (degree -1): K1 -> K1]\n",
      "CAT::GRMD: [K1 Simplicial-Set]\n",
      "CAT:EFHM: #<Unbound>\n",
      "CAT:IDNM: 1\n",
      "CAT:ORGN: (CAT:SPHERE 2)\n",
      "CAT:CPRD: [K5 Morphism (degree 0): K1 -> K3]\n",
      "CAT:FACE: #<CCL:COMPILED-LEXICAL-CLOSURE (:INTERNAL\n",
      "                                          CAT::RSLT\n",
      "                                          CAT:SPHERE-FACE) #x302001E322AF>\n"
     ]
    },
    {
     "data": {
      "text/plain": [
       "NIL"
      ]
     },
     "execution_count": 18,
     "metadata": {},
     "output_type": "execute_result"
    }
   ],
   "source": [
    "(describe s2)"
   ]
  },
  {
   "cell_type": "code",
   "execution_count": 19,
   "metadata": {
    "collapsed": false
   },
   "outputs": [
    {
     "name": "stdout",
     "output_type": "stream",
     "text": [
      "\n",
      "Computing boundary-matrix in dimension 1.\n",
      "Rank of the source-module : 0.\n",
      "\n",
      "\n",
      "Computing boundary-matrix in dimension 2.\n",
      "Rank of the source-module : 1.\n",
      "\n",
      "\n",
      ";; Clock -> 2015-08-21, 19h 37m 14s.\n",
      "Computing the boundary of the generator 1/1 (dimension 2) :\n",
      "S2 \n",
      "End of computing.\n",
      "\n",
      "\n",
      "\n",
      "\n",
      "Homology in dimension 1 :\n",
      "\n",
      "\n",
      "\n",
      "---done---\n",
      "\n",
      ";; Clock -> 2015-08-21, 19h 37m 14s.\n",
      "\n"
     ]
    },
    {
     "data": {
      "text/plain": [
       "NIL"
      ]
     },
     "execution_count": 19,
     "metadata": {},
     "output_type": "execute_result"
    }
   ],
   "source": [
    "(cat:homology s2 1)"
   ]
  },
  {
   "cell_type": "code",
   "execution_count": 20,
   "metadata": {
    "collapsed": false
   },
   "outputs": [
    {
     "name": "stdout",
     "output_type": "stream",
     "text": [
      "[K1 Simplicial-Set]\n",
      "Class: #<STANDARD-CLASS CAT::SIMPLICIAL-SET>\n",
      "Wrapper: #<CCL::CLASS-WRAPPER CAT::SIMPLICIAL-SET #x302001B2688D>\n",
      "Instance slots\n",
      "CAT:CMPR: #<Compiled-function CAT::SPHERE-CMPR #x302001C19EFF>\n",
      "CAT:BASIS: #<CCL:COMPILED-LEXICAL-CLOSURE (:INTERNAL\n",
      "                                           CAT::RSLT\n",
      "                                           CAT::SPHERE-BASIS) #x302001E3230F>\n",
      "CAT:BSGN: *\n",
      "CAT:DFFR: [K2 Morphism (degree -1): K1 -> K1]\n",
      "CAT::GRMD: [K1 Simplicial-Set]\n",
      "CAT:EFHM: [K9 Homotopy-Equivalence K1 <= K1 => K1]\n",
      "CAT:IDNM: 1\n",
      "CAT:ORGN: (CAT:SPHERE 2)\n",
      "CAT:CPRD: [K5 Morphism (degree 0): K1 -> K3]\n",
      "CAT:FACE: #<CCL:COMPILED-LEXICAL-CLOSURE (:INTERNAL\n",
      "                                          CAT::RSLT\n",
      "                                          CAT:SPHERE-FACE) #x302001E322AF>\n"
     ]
    },
    {
     "data": {
      "text/plain": [
       "NIL"
      ]
     },
     "execution_count": 20,
     "metadata": {},
     "output_type": "execute_result"
    }
   ],
   "source": [
    "(describe s2)"
   ]
  },
  {
   "cell_type": "code",
   "execution_count": 21,
   "metadata": {
    "collapsed": false
   },
   "outputs": [
    {
     "data": {
      "text/plain": [
       "(CAT:TRIVIAL-HMEQ [K1 Simplicial-Set])"
      ]
     },
     "execution_count": 21,
     "metadata": {},
     "output_type": "execute_result"
    }
   ],
   "source": [
    "(cat:orgn (cat:hmeq 9))"
   ]
  },
  {
   "cell_type": "code",
   "execution_count": 22,
   "metadata": {
    "collapsed": false
   },
   "outputs": [
    {
     "data": {
      "text/plain": [
       "[K10 Simplicial-Group]"
      ]
     },
     "execution_count": 22,
     "metadata": {},
     "output_type": "execute_result"
    }
   ],
   "source": [
    "(cat:def os2 (cat:loop-space s2))"
   ]
  },
  {
   "cell_type": "code",
   "execution_count": 23,
   "metadata": {
    "collapsed": false
   },
   "outputs": [
    {
     "name": "stdout",
     "output_type": "stream",
     "text": [
      "[K10 Simplicial-Group]\n",
      "Class: #<STANDARD-CLASS CAT:SIMPLICIAL-GROUP>\n",
      "Wrapper: #<CCL::CLASS-WRAPPER CAT:SIMPLICIAL-GROUP #x302001B4C3ED>\n",
      "Instance slots\n",
      "CAT:CMPR: #<CCL:COMPILED-LEXICAL-CLOSURE (:INTERNAL\n",
      "                                          CAT::RSLT\n",
      "                                          CAT:LOOP-SPACE-CMPR) #x302001ED76CF>\n",
      "CAT:BASIS: :LOCALLY-EFFECTIVE\n",
      "CAT:BSGN: <<Loop>>\n",
      "CAT:DFFR: [K11 Morphism (degree -1): K10 -> K10]\n",
      "CAT::GRMD: [K10 Simplicial-Group]\n",
      "CAT:EFHM: #<Unbound>\n",
      "CAT:IDNM: 10\n",
      "CAT:ORGN: (CAT:LOOP-SPACE [K1 Simplicial-Set])\n",
      "CAT:APRD: #<Unbound>\n",
      "CAT:CPRD: [K14 Morphism (degree 0): K10 -> K12]\n",
      "CAT:FACE: #<CCL:COMPILED-LEXICAL-CLOSURE (:INTERNAL\n",
      "                                          CAT::RSLT\n",
      "                                          CAT:LOOP-SPACE-FACE) #x302001ED767F>\n",
      "CAT:KFLL: #<Unbound>\n",
      "CAT:GRML: [K20 Simplicial-Morphism K15 -> K10]\n",
      "CAT:GRIN: [K21 Simplicial-Morphism K10 -> K10]\n"
     ]
    },
    {
     "data": {
      "text/plain": [
       "NIL"
      ]
     },
     "execution_count": 23,
     "metadata": {},
     "output_type": "execute_result"
    }
   ],
   "source": [
    "(describe os2)"
   ]
  },
  {
   "cell_type": "code",
   "execution_count": 24,
   "metadata": {
    "collapsed": false
   },
   "outputs": [
    {
     "data": {
      "text/plain": [
       "(CAT:LOOP-SPACE [K1 Simplicial-Set])"
      ]
     },
     "execution_count": 24,
     "metadata": {},
     "output_type": "execute_result"
    }
   ],
   "source": [
    "(cat:orgn os2)"
   ]
  },
  {
   "cell_type": "code",
   "execution_count": 25,
   "metadata": {
    "collapsed": false
   },
   "outputs": [
    {
     "data": {
      "text/plain": [
       "[K118 Homotopy-Equivalence K10 <= K108 => K25]"
      ]
     },
     "execution_count": 25,
     "metadata": {},
     "output_type": "execute_result"
    }
   ],
   "source": [
    "(cat:efhm os2)"
   ]
  },
  {
   "cell_type": "code",
   "execution_count": 26,
   "metadata": {
    "collapsed": false
   },
   "outputs": [
    {
     "name": "stdout",
     "output_type": "stream",
     "text": [
      "[K10 Simplicial-Group]\n",
      "Class: #<STANDARD-CLASS CAT:SIMPLICIAL-GROUP>\n",
      "Wrapper: #<CCL::CLASS-WRAPPER CAT:SIMPLICIAL-GROUP #x302001B4C3ED>\n",
      "Instance slots\n",
      "CAT:CMPR: #<CCL:COMPILED-LEXICAL-CLOSURE (:INTERNAL\n",
      "                                          CAT::RSLT\n",
      "                                          CAT:LOOP-SPACE-CMPR) #x302001D0426F>\n",
      "CAT:BASIS: :LOCALLY-EFFECTIVE\n",
      "CAT:BSGN: <<Loop>>\n",
      "CAT:DFFR: [K11 Morphism (degree -1): K10 -> K10]\n",
      "CAT::GRMD: [K10 Simplicial-Group]\n",
      "CAT:EFHM: [K118 Homotopy-Equivalence K10 <= K108 => K25]\n",
      "CAT:IDNM: 10\n",
      "CAT:ORGN: (CAT:LOOP-SPACE [K1 Simplicial-Set])\n",
      "CAT:APRD: #<Unbound>\n",
      "CAT:CPRD: [K14 Morphism (degree 0): K10 -> K12]\n",
      "CAT:FACE: #<CCL:COMPILED-LEXICAL-CLOSURE (:INTERNAL\n",
      "                                          CAT::RSLT\n",
      "                                          CAT:LOOP-SPACE-FACE) #x302001D0421F>\n",
      "CAT:KFLL: #<Unbound>\n",
      "CAT:GRML: [K20 Simplicial-Morphism K15 -> K10]\n",
      "CAT:GRIN: [K21 Simplicial-Morphism K10 -> K10]\n"
     ]
    },
    {
     "data": {
      "text/plain": [
       "NIL"
      ]
     },
     "execution_count": 26,
     "metadata": {},
     "output_type": "execute_result"
    }
   ],
   "source": [
    "(describe os2)"
   ]
  },
  {
   "cell_type": "code",
   "execution_count": 27,
   "metadata": {
    "collapsed": false
   },
   "outputs": [
    {
     "data": {
      "text/plain": [
       "[K119 Simplicial-Set]"
      ]
     },
     "execution_count": 27,
     "metadata": {},
     "output_type": "execute_result"
    }
   ],
   "source": [
    "(cat:def s4 (cat:sphere 4))"
   ]
  },
  {
   "cell_type": "code",
   "execution_count": 28,
   "metadata": {
    "collapsed": false
   },
   "outputs": [
    {
     "name": "stdout",
     "output_type": "stream",
     "text": [
      "[K119 Simplicial-Set]\n",
      "Class: #<STANDARD-CLASS CAT::SIMPLICIAL-SET>\n",
      "Wrapper: #<CCL::CLASS-WRAPPER CAT::SIMPLICIAL-SET #x302001B2688D>\n",
      "Instance slots\n",
      "CAT:CMPR: #<Compiled-function CAT::SPHERE-CMPR #x302001C19EFF>\n",
      "CAT:BASIS: #<CCL:COMPILED-LEXICAL-CLOSURE (:INTERNAL\n",
      "                                           CAT::RSLT\n",
      "                                           CAT::SPHERE-BASIS) #x302001DB506F>\n",
      "CAT:BSGN: *\n",
      "CAT:DFFR: [K120 Morphism (degree -1): K119 -> K119]\n",
      "CAT::GRMD: [K119 Simplicial-Set]\n",
      "CAT:EFHM: #<Unbound>\n",
      "CAT:IDNM: 119\n",
      "CAT:ORGN: (CAT:SPHERE 4)\n",
      "CAT:CPRD: [K123 Morphism (degree 0): K119 -> K121]\n",
      "CAT:FACE: #<CCL:COMPILED-LEXICAL-CLOSURE (:INTERNAL\n",
      "                                          CAT::RSLT\n",
      "                                          CAT:SPHERE-FACE) #x302001DB500F>\n"
     ]
    },
    {
     "data": {
      "text/plain": [
       "NIL"
      ]
     },
     "execution_count": 28,
     "metadata": {},
     "output_type": "execute_result"
    }
   ],
   "source": [
    "(describe s4)"
   ]
  },
  {
   "cell_type": "code",
   "execution_count": 29,
   "metadata": {
    "collapsed": false
   },
   "outputs": [
    {
     "data": {
      "text/plain": [
       "[K148 Simplicial-Group]"
      ]
     },
     "execution_count": 29,
     "metadata": {},
     "output_type": "execute_result"
    }
   ],
   "source": [
    "(cat:def ooos4 (cat:loop-space (cat:loop-space (cat:loop-space s4))))"
   ]
  },
  {
   "cell_type": "code",
   "execution_count": 30,
   "metadata": {
    "collapsed": false
   },
   "outputs": [
    {
     "data": {
      "text/plain": [
       "(CAT:LOOP-SPACE [K136 Simplicial-Group])"
      ]
     },
     "execution_count": 30,
     "metadata": {},
     "output_type": "execute_result"
    }
   ],
   "source": [
    "(cat:orgn ooos4)"
   ]
  },
  {
   "cell_type": "code",
   "execution_count": 31,
   "metadata": {
    "collapsed": false
   },
   "outputs": [
    {
     "data": {
      "text/plain": [
       "(CAT:LOOP-SPACE [K124 Simplicial-Group])"
      ]
     },
     "execution_count": 31,
     "metadata": {},
     "output_type": "execute_result"
    }
   ],
   "source": [
    "(cat:orgn (second (cat:orgn ooos4)))"
   ]
  },
  {
   "cell_type": "code",
   "execution_count": 32,
   "metadata": {
    "collapsed": false
   },
   "outputs": [
    {
     "data": {
      "text/plain": [
       "(CAT:LOOP-SPACE [K119 Simplicial-Set])"
      ]
     },
     "execution_count": 32,
     "metadata": {},
     "output_type": "execute_result"
    }
   ],
   "source": [
    "(cat:orgn (second (cat:orgn (second (cat:orgn ooos4)))))"
   ]
  },
  {
   "cell_type": "code",
   "execution_count": 33,
   "metadata": {
    "collapsed": false
   },
   "outputs": [
    {
     "data": {
      "text/plain": [
       "(CAT:SPHERE 4)"
      ]
     },
     "execution_count": 33,
     "metadata": {},
     "output_type": "execute_result"
    }
   ],
   "source": [
    "(cat:orgn (second (cat:orgn (second (cat:orgn (second (cat:orgn ooos4)))))))"
   ]
  },
  {
   "cell_type": "code",
   "execution_count": 34,
   "metadata": {
    "collapsed": false
   },
   "outputs": [
    {
     "name": "stdout",
     "output_type": "stream",
     "text": [
      "[K136 Simplicial-Group]\n",
      "Class: #<STANDARD-CLASS CAT:SIMPLICIAL-GROUP>\n",
      "Wrapper: #<CCL::CLASS-WRAPPER CAT:SIMPLICIAL-GROUP #x302001B4C3ED>\n",
      "Instance slots\n",
      "CAT:CMPR: #<CCL:COMPILED-LEXICAL-CLOSURE (:INTERNAL\n",
      "                                          CAT::RSLT\n",
      "                                          CAT:LOOP-SPACE-CMPR) #x302001DF573F>\n",
      "CAT:BASIS: :LOCALLY-EFFECTIVE\n",
      "CAT:BSGN: <<Loop>>\n",
      "CAT:DFFR: [K137 Morphism (degree -1): K136 -> K136]\n",
      "CAT::GRMD: [K136 Simplicial-Group]\n",
      "CAT:EFHM: #<Unbound>\n",
      "CAT:IDNM: 136\n",
      "CAT:ORGN: (CAT:LOOP-SPACE [K124 Simplicial-Group])\n",
      "CAT:APRD: #<Unbound>\n",
      "CAT:CPRD: [K140 Morphism (degree 0): K136 -> K138]\n",
      "CAT:FACE: #<CCL:COMPILED-LEXICAL-CLOSURE (:INTERNAL\n",
      "                                          CAT::RSLT\n",
      "                                          CAT:LOOP-SPACE-FACE) #x302001DF56EF>\n",
      "CAT:KFLL: #<Unbound>\n",
      "CAT:GRML: [K146 Simplicial-Morphism K141 -> K136]\n",
      "CAT:GRIN: [K147 Simplicial-Morphism K136 -> K136]\n"
     ]
    },
    {
     "data": {
      "text/plain": [
       "NIL"
      ]
     },
     "execution_count": 34,
     "metadata": {},
     "output_type": "execute_result"
    }
   ],
   "source": [
    "(describe (cat:smgr 136))"
   ]
  },
  {
   "cell_type": "code",
   "execution_count": 35,
   "metadata": {
    "collapsed": false
   },
   "outputs": [
    {
     "name": "stdout",
     "output_type": "stream",
     "text": [
      "[K124 Simplicial-Group]\n",
      "Class: #<STANDARD-CLASS CAT:SIMPLICIAL-GROUP>\n",
      "Wrapper: #<CCL::CLASS-WRAPPER CAT:SIMPLICIAL-GROUP #x302001B4C3ED>\n",
      "Instance slots\n",
      "CAT:CMPR: #<CCL:COMPILED-LEXICAL-CLOSURE (:INTERNAL\n",
      "                                          CAT::RSLT\n",
      "                                          CAT:LOOP-SPACE-CMPR) #x302001DFA6EF>\n",
      "CAT:BASIS: :LOCALLY-EFFECTIVE\n",
      "CAT:BSGN: <<Loop>>\n",
      "CAT:DFFR: [K125 Morphism (degree -1): K124 -> K124]\n",
      "CAT::GRMD: [K124 Simplicial-Group]\n",
      "CAT:EFHM: #<Unbound>\n",
      "CAT:IDNM: 124\n",
      "CAT:ORGN: (CAT:LOOP-SPACE [K119 Simplicial-Set])\n",
      "CAT:APRD: #<Unbound>\n",
      "CAT:CPRD: [K128 Morphism (degree 0): K124 -> K126]\n",
      "CAT:FACE: #<CCL:COMPILED-LEXICAL-CLOSURE (:INTERNAL\n",
      "                                          CAT::RSLT\n",
      "                                          CAT:LOOP-SPACE-FACE) #x302001DFA69F>\n",
      "CAT:KFLL: #<Unbound>\n",
      "CAT:GRML: [K134 Simplicial-Morphism K129 -> K124]\n",
      "CAT:GRIN: [K135 Simplicial-Morphism K124 -> K124]\n"
     ]
    },
    {
     "data": {
      "text/plain": [
       "NIL"
      ]
     },
     "execution_count": 35,
     "metadata": {},
     "output_type": "execute_result"
    }
   ],
   "source": [
    "(describe (cat:smgr 124))"
   ]
  },
  {
   "cell_type": "code",
   "execution_count": 36,
   "metadata": {
    "collapsed": false
   },
   "outputs": [
    {
     "name": "stdout",
     "output_type": "stream",
     "text": [
      "[K119 Simplicial-Set]\n",
      "Class: #<STANDARD-CLASS CAT::SIMPLICIAL-SET>\n",
      "Wrapper: #<CCL::CLASS-WRAPPER CAT::SIMPLICIAL-SET #x302001B2688D>\n",
      "Instance slots\n",
      "CAT:CMPR: #<Compiled-function CAT::SPHERE-CMPR #x302001C19EFF>\n",
      "CAT:BASIS: #<CCL:COMPILED-LEXICAL-CLOSURE (:INTERNAL\n",
      "                                           CAT::RSLT\n",
      "                                           CAT::SPHERE-BASIS) #x302001DB506F>\n",
      "CAT:BSGN: *\n",
      "CAT:DFFR: [K120 Morphism (degree -1): K119 -> K119]\n",
      "CAT::GRMD: [K119 Simplicial-Set]\n",
      "CAT:EFHM: #<Unbound>\n",
      "CAT:IDNM: 119\n",
      "CAT:ORGN: (CAT:SPHERE 4)\n",
      "CAT:CPRD: [K123 Morphism (degree 0): K119 -> K121]\n",
      "CAT:FACE: #<CCL:COMPILED-LEXICAL-CLOSURE (:INTERNAL\n",
      "                                          CAT::RSLT\n",
      "                                          CAT:SPHERE-FACE) #x302001DB500F>\n"
     ]
    },
    {
     "data": {
      "text/plain": [
       "NIL"
      ]
     },
     "execution_count": 36,
     "metadata": {},
     "output_type": "execute_result"
    }
   ],
   "source": [
    "(describe (cat:smst 119))"
   ]
  },
  {
   "cell_type": "code",
   "execution_count": 37,
   "metadata": {
    "collapsed": false
   },
   "outputs": [
    {
     "data": {
      "text/plain": [
       "[K522 Homotopy-Equivalence K148 <= K512 => K508]"
      ]
     },
     "execution_count": 37,
     "metadata": {},
     "output_type": "execute_result"
    }
   ],
   "source": [
    "(cat:efhm ooos4)"
   ]
  },
  {
   "cell_type": "code",
   "execution_count": 38,
   "metadata": {
    "collapsed": false
   },
   "outputs": [
    {
     "name": "stdout",
     "output_type": "stream",
     "text": [
      "[K124 Simplicial-Group]\n",
      "Class: #<STANDARD-CLASS CAT:SIMPLICIAL-GROUP>\n",
      "Wrapper: #<CCL::CLASS-WRAPPER CAT:SIMPLICIAL-GROUP #x302001B4C3ED>\n",
      "Instance slots\n",
      "CAT:CMPR: #<CCL:COMPILED-LEXICAL-CLOSURE (:INTERNAL\n",
      "                                          CAT::RSLT\n",
      "                                          CAT:LOOP-SPACE-CMPR) #x302001D2179F>\n",
      "CAT:BASIS: :LOCALLY-EFFECTIVE\n",
      "CAT:BSGN: <<Loop>>\n",
      "CAT:DFFR: [K125 Morphism (degree -1): K124 -> K124]\n",
      "CAT::GRMD: [K124 Simplicial-Group]\n",
      "CAT:EFHM: [K426 Homotopy-Equivalence K124 <= K416 => K329]\n",
      "CAT:IDNM: 124\n",
      "CAT:ORGN: (CAT:LOOP-SPACE [K119 Simplicial-Set])\n",
      "CAT:APRD: #<Unbound>\n",
      "CAT:CPRD: [K128 Morphism (degree 0): K124 -> K126]\n",
      "CAT:FACE: #<CCL:COMPILED-LEXICAL-CLOSURE (:INTERNAL\n",
      "                                          CAT::RSLT\n",
      "                                          CAT:LOOP-SPACE-FACE) #x302001D2174F>\n",
      "CAT:KFLL: #<Unbound>\n",
      "CAT:GRML: [K134 Simplicial-Morphism K129 -> K124]\n",
      "CAT:GRIN: [K135 Simplicial-Morphism K124 -> K124]\n"
     ]
    },
    {
     "data": {
      "text/plain": [
       "NIL"
      ]
     },
     "execution_count": 38,
     "metadata": {},
     "output_type": "execute_result"
    }
   ],
   "source": [
    "(describe (cat:smgr 124))"
   ]
  },
  {
   "cell_type": "code",
   "execution_count": 39,
   "metadata": {
    "collapsed": false
   },
   "outputs": [
    {
     "name": "stdout",
     "output_type": "stream",
     "text": [
      "[K119 Simplicial-Set]\n",
      "Class: #<STANDARD-CLASS CAT::SIMPLICIAL-SET>\n",
      "Wrapper: #<CCL::CLASS-WRAPPER CAT::SIMPLICIAL-SET #x302001B2688D>\n",
      "Instance slots\n",
      "CAT:CMPR: #<Compiled-function CAT::SPHERE-CMPR #x302001C19EFF>\n",
      "CAT:BASIS: #<CCL:COMPILED-LEXICAL-CLOSURE (:INTERNAL\n",
      "                                           CAT::RSLT\n",
      "                                           CAT::SPHERE-BASIS) #x302001D1823F>\n",
      "CAT:BSGN: *\n",
      "CAT:DFFR: [K120 Morphism (degree -1): K119 -> K119]\n",
      "CAT::GRMD: [K119 Simplicial-Set]\n",
      "CAT:EFHM: [K412 Homotopy-Equivalence K119 <= K119 => K119]\n",
      "CAT:IDNM: 119\n",
      "CAT:ORGN: (CAT:SPHERE 4)\n",
      "CAT:CPRD: [K123 Morphism (degree 0): K119 -> K121]\n",
      "CAT:FACE: #<CCL:COMPILED-LEXICAL-CLOSURE (:INTERNAL\n",
      "                                          CAT::RSLT\n",
      "                                          CAT:SPHERE-FACE) #x302001D181DF>\n"
     ]
    },
    {
     "data": {
      "text/plain": [
       "NIL"
      ]
     },
     "execution_count": 39,
     "metadata": {},
     "output_type": "execute_result"
    }
   ],
   "source": [
    "(describe (cat:smst 119))"
   ]
  },
  {
   "cell_type": "code",
   "execution_count": 40,
   "metadata": {
    "collapsed": false
   },
   "outputs": [
    {
     "name": "stdout",
     "output_type": "stream",
     "text": [
      "[K119 Simplicial-Set]\n",
      "Class: #<STANDARD-CLASS CAT::SIMPLICIAL-SET>\n",
      "Wrapper: #<CCL::CLASS-WRAPPER CAT::SIMPLICIAL-SET #x302001B2688D>\n",
      "Instance slots\n",
      "CAT:CMPR: #<Compiled-function CAT::SPHERE-CMPR #x302001C19EFF>\n",
      "CAT:BASIS: #<CCL:COMPILED-LEXICAL-CLOSURE (:INTERNAL\n",
      "                                           CAT::RSLT\n",
      "                                           CAT::SPHERE-BASIS) #x302001D1823F>\n",
      "CAT:BSGN: *\n",
      "CAT:DFFR: [K120 Morphism (degree -1): K119 -> K119]\n",
      "CAT::GRMD: [K119 Simplicial-Set]\n",
      "CAT:EFHM: [K412 Homotopy-Equivalence K119 <= K119 => K119]\n",
      "CAT:IDNM: 119\n",
      "CAT:ORGN: (CAT:SPHERE 4)\n",
      "CAT:CPRD: [K123 Morphism (degree 0): K119 -> K121]\n",
      "CAT:FACE: #<CCL:COMPILED-LEXICAL-CLOSURE (:INTERNAL\n",
      "                                          CAT::RSLT\n",
      "                                          CAT:SPHERE-FACE) #x302001D181DF>\n"
     ]
    },
    {
     "data": {
      "text/plain": [
       "NIL"
      ]
     },
     "execution_count": 40,
     "metadata": {},
     "output_type": "execute_result"
    }
   ],
   "source": [
    "(describe s4)"
   ]
  }
 ],
 "metadata": {
  "kernelspec": {
   "display_name": "CCL Lisp",
   "language": "lisp",
   "name": "lisp"
  },
  "language_info": {
   "codemirror_mode": "text/x-common-lisp",
   "mimetype": "text/x-common-lisp",
   "name": "common-lisp",
   "pygments_lexer": "common-lisp",
   "version": "X3J13"
  }
 },
 "nbformat": 4,
 "nbformat_minor": 0
}
