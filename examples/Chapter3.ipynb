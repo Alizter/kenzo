{
 "cells": [
  {
   "cell_type": "markdown",
   "metadata": {},
   "source": [
    "# The Homology Module\n",
    "\n",
    "This chapter is devoted to the description of the functions for computing the homology groups of a chain complex.\n",
    "\n",
    "## List of functions\n",
    "\n",
    "``(chcm-homology chcm dim)`` *[Function]*\n",
    "> Return a description of the homology group in dimension *dim* of the chain complex *chcm* in terms of *components* of the form $\\mathbb{Z}$ or $\\mathbb{Z}/{n\\, \\mathbb{Z}}$. The desired homology group is the direct sum of these  components. No canonical presentation is looked for, so that, if for instance, a homology group is $\\mathbb{Z}/{6\\, \\mathbb{Z}}$, it can be displayed as one component\n",
    "$\\mathbb{Z}/{6\\, \\mathbb{Z}}$ or two components $\\mathbb{Z}/{2\\, \\mathbb{Z}}$ and $\\mathbb{Z}/{3\\, \\mathbb{Z}}$. On the other hand, if the component part  is void, this  means  the homology group is the null group. The function ``chcm-homology`` implements the usual algorithms to compute the homology group associated to two integer matrices, the composite of which is null. The current version is verbose: for each group asked for, the program displays the rank of each integer matrix and each generator of the source module. Timing indications are also given. In the examples, only the  components are printed.\n",
    "\n",
    "``{chcm-homology-gen chcm n)`` *[Function]*\n",
    "> This function computes the homology group in dimension $n$ of the chain complex *chcm* and prints a generator of degree $n$ in *chcm* for each component of the group (in general a combination of the  basis elements of degree $n$ of the chain complex.\n",
    "\n",
    "``(chcm-mat chcm n)`` *[Function]*\n",
    "> Return the matrix of the linear homomorphism  $d_n: C_n \\rightarrow C_{n-1}$, where $C_n$ is the $n$--th chain group of the chain complex *chcm*. More precisely, each column  of this matrix contains the integer coefficients in the basis of $C_{n-1}$ of the image by $d_n$ of each basis element of $C_n$. So the number of lines (resp. columns) of the matrix is the number of elements of the basis of $C_{n-1}$ (resp. $C_n$). The homology group ${\\cal H}_n={\\cal Z}_n/{\\cal B}_n$ is computed from the two matrices ``MZ`` $=$ ``chcm-mat`` *(chcm,n)* and ``NB`` $=$ ``chcm-mat`` *(chcm, n+1)*. By well known algorithms on matrix reduction (**S. MacLane & G. Birkhoff**, *Algebra*, The MacMillan Company, 1967), the matrix ``MZ`` is used to find a basis for the kernel ${\\cal Z}_n$ and the matrix ``NB``, to find in ${\\cal Z}_n$ a presentation of the group ${\\cal H}_n={\\cal Z}_n/{\\cal B}_n$ by generators and relations. This is performed by the internal function ``homologie`` (beware: not ``homology``!).\n",
    "\n",
    "``(homology chcm  degr1 &optional (degr2 (1+ degr1)))`` *[Method]*\n",
    "> Compute the homology groups from $degr_1$ to $degr_2-1$ (default: only $degr_1$, if *degr2* is omitted) of the right chain complex of the homotopy equivalence contained in the slot ``:efhm`` of the\n",
    "chain complex instance {\\em chcm}. At the creation of the chain complex, this slot is unbound and is set during execution by an adequate CLOS method. If this slot cannot be  bound, an error is returned and the homology groups cannot be computed. A more elaborated explanation of the mechanism used by the function ``homology`` is given in the  section: **The general method for computing homology groups.**\n",
    "\n",
    "\n",
    "## Example\n",
    "\n",
    "Let us get the homology groups for the example ``diabolo`` of the chapter 1."
   ]
  },
  {
   "cell_type": "code",
   "execution_count": null,
   "metadata": {
    "collapsed": false
   },
   "outputs": [],
   "source": [
    "(def diabolo (build-chcm\n",
    "              :cmpr #'s-cmpr\n",
    "              :basis #'(lambda (dmn)\n",
    "                               (case dmn\n",
    "                                   (0 '(s0 s1 s2 s3 s4 s5))\n",
    "                                   (1 '(s01 s02 s12 s23 s34 s35 s45))\n",
    "                                   (2 '(s345))\n",
    "                                   (otherwise nil)))\n",
    "              :bsgn 's0\n",
    "              :intr-dffr #'(lambda (dmn gnr)\n",
    "                                   (unless (<= 0 dmn 2)\n",
    "                                       (error \"Incorrect dimension for diabolo-dp.\"))\n",
    "                                   (case dmn\n",
    "                                       (0 (cmbn -1))  ; Note the null combination of degree -1\n",
    "                                       (1 (case gnr\n",
    "                                              (s01 (cmbn 0 -1 's0 1 's1))\n",
    "                                              (s02 (cmbn 0 -1 's0 1 's2))\n",
    "                                              (s12 (cmbn 0 -1 's1 1 's2))\n",
    "                                              (s23 (cmbn 0 -1 's2 1 's3))\n",
    "                                              (s34 (cmbn 0 -1 's3 1 's4))\n",
    "                                              (s35 (cmbn 0 -1 's3 1 's5))\n",
    "                                              (s45 (cmbn 0 -1 's4 1 's5))))\n",
    "                                        (2 (case gnr\n",
    "                                               (s345 (cmbn 1 1 's34 -1 's35 1 's45))))\n",
    "                                       (otherwise (error \"Bad generator for complex diabolo\"))))\n",
    "              :strt :GNRT\n",
    "              :orgn '(diabolo-for-example)))"
   ]
  },
  {
   "cell_type": "code",
   "execution_count": null,
   "metadata": {
    "collapsed": false
   },
   "outputs": [],
   "source": [
    "(chcm-homology diabolo 0)"
   ]
  },
  {
   "cell_type": "code",
   "execution_count": null,
   "metadata": {
    "collapsed": false
   },
   "outputs": [],
   "source": [
    "(chcm-homology diabolo 1)"
   ]
  },
  {
   "cell_type": "code",
   "execution_count": null,
   "metadata": {
    "collapsed": false
   },
   "outputs": [],
   "source": [
    "(chcm-homology diabolo 2)"
   ]
  },
  {
   "cell_type": "markdown",
   "metadata": {},
   "source": [
    "Another simple example is the following  2-chain  complex  corresponding to the well known *dunce hat*. We shall see later in the chapter ``Simplicial Sets`` a much more elegant method to describe this object."
   ]
  },
  {
   "cell_type": "code",
   "execution_count": null,
   "metadata": {
    "collapsed": false
   },
   "outputs": [],
   "source": [
    "(cl-jupyter-user:png-from-file \"dunce.png\")"
   ]
  },
  {
   "cell_type": "markdown",
   "metadata": {},
   "source": [
    "The diagram shows a permissible triangulation. For the generators, we have  chosen lists rather symbols: a vertex $s_i$ is represented as ``(i)``, an edge $s_is_j$ as ``(i j)`` and a triangle $s_is_js_k$ as ``(i j k)``. The enumeration of the elements of the basis is a little  cumbersome but defining  the boundary homomorphism is very easy, bearing in mind the boundary rule:\n",
    "\n",
    "$$\n",
    "\\mathbf{d}[s_0s_1\\ldots s_n] = \\sum_{i=0}^n{(-1)^is_0s_1\\ldots\\widehat{s_i}\\ldots s_n}.\n",
    "$$\n",
    "\n",
    "As for diabolo, the vertices are implicitly ordered."
   ]
  },
  {
   "cell_type": "code",
   "execution_count": null,
   "metadata": {
    "collapsed": false
   },
   "outputs": [],
   "source": [
    "(def duncehat-basis #'(lambda (dmn)\n",
    "                              (case dmn\n",
    "                                  (0 '((0) (1) (2) (3) (4) (5) (6) (7)))\n",
    "                                  (1 '((0 1) (0 2) (0 3)\n",
    "                                       (0 4) (0 5) (0 6)\n",
    "                                       (0 7) (1 2) (1 3)\n",
    "                                       (1 4) (1 5) (1 6)\n",
    "                                       (1 7) (2 3) (2 4)\n",
    "                                       (2 6) (2 7) (3 4)\n",
    "                                       (3 5) (4 5) (4 6)\n",
    "                                       (5 6) (5 7) (6 7)))\n",
    "                                  (2 '((0 1 5) (0 1 6) (0 1 7)\n",
    "                                       (0 2 3) (0 2 4) (0 2 6)\n",
    "                                       (0 3 4) (0 5 7) (1 2 3)\n",
    "                                       (1 2 4) (1 2 7) (1 3 5)\n",
    "                                       (1 4 6) (2 6 7) (3 4 5)\n",
    "                                       (4 5 6) (5 6 7)))\n",
    "                                  (otherwise nil))))"
   ]
  },
  {
   "cell_type": "code",
   "execution_count": null,
   "metadata": {
    "collapsed": false
   },
   "outputs": [],
   "source": [
    "(def duncehat-df #'(lambda (dmn gnr)\n",
    "                           (case dmn\n",
    "                               (0 (cmbn -1))\n",
    "                               (1 (cmbn 0 -1 (list (first gnr)) 1 (rest gnr)))\n",
    "                               (2 (cat:cmbn 1 1 (list (first gnr) (second gnr))\n",
    "                                             -1 (list (first gnr) (third gnr))\n",
    "                                              1 (rest gnr)))\n",
    "                               (otherwise nil))))"
   ]
  },
  {
   "cell_type": "code",
   "execution_count": null,
   "metadata": {
    "collapsed": false
   },
   "outputs": [],
   "source": [
    "(def duncehat (build-chcm :cmpr #'l-cmpr\n",
    "                          :basis duncehat-basis\n",
    "                          :bsgn '(0)\n",
    "                          :intr-dffr duncehat-df\n",
    "                          :strt :gnrt\n",
    "                          :orgn '(dunce hat)))"
   ]
  },
  {
   "cell_type": "code",
   "execution_count": null,
   "metadata": {
    "collapsed": false
   },
   "outputs": [],
   "source": [
    "(chcm-homology duncehat 0)"
   ]
  },
  {
   "cell_type": "code",
   "execution_count": null,
   "metadata": {
    "collapsed": false
   },
   "outputs": [],
   "source": [
    "(chcm-homology duncehat 1)"
   ]
  },
  {
   "cell_type": "code",
   "execution_count": null,
   "metadata": {
    "collapsed": false
   },
   "outputs": [],
   "source": [
    "(chcm-homology duncehat 2)"
   ]
  },
  {
   "cell_type": "markdown",
   "metadata": {},
   "source": [
    "Let us take again  the chain complex ``duncehat``. The two matrices of the homomorphisms $d_1: C_1 \\rightarrow C_0$ and $d_2: C_2 \\rightarrow C_1$ are obtained by calling ``chcm-mat``."
   ]
  },
  {
   "cell_type": "code",
   "execution_count": null,
   "metadata": {
    "collapsed": false
   },
   "outputs": [],
   "source": [
    "(def mz (chcm-mat duncehat 1))"
   ]
  },
  {
   "cell_type": "code",
   "execution_count": null,
   "metadata": {
    "collapsed": false
   },
   "outputs": [],
   "source": [
    "(def nb (chcm-mat duncehat 2))"
   ]
  },
  {
   "cell_type": "code",
   "execution_count": null,
   "metadata": {
    "collapsed": false
   },
   "outputs": [],
   "source": [
    "(homologie mz nb)"
   ]
  },
  {
   "cell_type": "markdown",
   "metadata": {},
   "source": [
    "## The general method for computing homology\n",
    "\n",
    "Among the slots of the instance of an object inheriting the ``CHAIN COMPLEX`` class, a slot ``efhm``\n",
    "has been reserved to point (possibly) to a homotopy equivalence where the right bottom chain complex is effective. The function ``homology`` is designed to get the right bottom chain complex of the homotopy equivalence value of the slot. If the slot has been bound, then the homology groups are computed by the function ``chcm-homology`` as shown in the following definition:\n",
    "\n",
    "```lisp\n",
    "(DEFMETHOD HOMOLOGY ((chcm chain-complex) degr1 &optional (degr2 (1+ degr1)))\n",
    "   (do ((degr degr1 (1+ degr)))\n",
    "       ((>= degr degr2))\n",
    " -->   (chcm-homology (rbcc (efhm chcm)) degr)\n",
    "       (terpri) (clock) (terpri)))\n",
    "```\n",
    "\n",
    "But, at the creation of the object, the slot ``efhm`` is  unbound and as soon as the ``homology``\n",
    "function tries to get the content of the slot ``efhm`` via the call ``(efchm chcm)``, the *slot-unbound* mechanism of CLOS is triggered, calling at its turn a method ``search-efhm`` depending on the object. If no method is available for this object, ``NIL`` is returned. In the following chapters, we shall see that cases have been written for cartesian products, tensor products, suspensions, disk pasting, fibrations, loop spaces, and classifying spaces. The selection of the case is done thanks to the information contained in the comment list of the object (slot ``orgn``). In each case, the ``search-efhm`` method builds - in general with a complex machinery, including a possible recursivity - a homotopy equivalence where the right bottom chain complex is *effective*. The slot ``efhm`` of the object is then settled and the homology group computation may begin. If ``NIL`` is returned, then  and only at this moment, the slot-unbound mechanism looks if the chain complex is finite (checking if a basis function exists). If this is the case, then the *trivial homotopy equivalence* is built upon the chain complex and this gives the value of the slot ``efhm``. If there is no basis function,  meaning that probably the chain complex is locally effective, an error is returned.\n",
    "\n",
    "*Remark.* The user may wonder why one does not  look first if the given object is effective. We recall simply that even in the case of an effective chain complex, it is sometimes possible to find another effective chain complex, homotopic to the first and whose number of basis elements, in any dimensions, is considerably smaller in comparison with the first one. A striking case will be shown in a further chapter, showing the application of the Eilenberg-Zilber theorem to a cartesian product.\n",
    "\n",
    "\n",
    "### Example\n",
    "\n",
    "*The reading of this subsection may be postponed until a full reading of this user's guide.* The following examples  show how are filled the slots ``efhm`` of the various objects. Starting from the sphere $S^2$, we  verify first that the *efhm* slot is unbound. Then we ask for ${\\cal H}_1$ and verify that, though there is a finite basis, ``Kenzo`` has nevertheless built a trivial homotopy equivalence on this object."
   ]
  },
  {
   "cell_type": "code",
   "execution_count": null,
   "metadata": {
    "collapsed": false
   },
   "outputs": [],
   "source": [
    "(cat-init)"
   ]
  },
  {
   "cell_type": "code",
   "execution_count": null,
   "metadata": {
    "collapsed": false
   },
   "outputs": [],
   "source": [
    "(def s2 (cat:sphere 2))"
   ]
  },
  {
   "cell_type": "code",
   "execution_count": null,
   "metadata": {
    "collapsed": false
   },
   "outputs": [],
   "source": [
    "(inspect s2)"
   ]
  },
  {
   "cell_type": "code",
   "execution_count": null,
   "metadata": {
    "collapsed": false
   },
   "outputs": [],
   "source": [
    "(homology s2 1)"
   ]
  },
  {
   "cell_type": "code",
   "execution_count": null,
   "metadata": {
    "collapsed": false
   },
   "outputs": [],
   "source": [
    "(inspect s2)"
   ]
  },
  {
   "cell_type": "code",
   "execution_count": null,
   "metadata": {
    "collapsed": false
   },
   "outputs": [],
   "source": [
    "(orgn (cat:hmeq 9))"
   ]
  },
  {
   "cell_type": "markdown",
   "metadata": {},
   "source": [
    "Now, we create $\\Omega^1(S^2)$. Getting  the value of the slot ``efhm`` by a call to the accessor function ``efhm``, triggers the search-efhm method for a loop space. A homotopy equivalence is built and the slot is set."
   ]
  },
  {
   "cell_type": "code",
   "execution_count": null,
   "metadata": {
    "collapsed": false
   },
   "outputs": [],
   "source": [
    "(def os2 (loop-space s2))"
   ]
  },
  {
   "cell_type": "code",
   "execution_count": null,
   "metadata": {
    "collapsed": false
   },
   "outputs": [],
   "source": [
    "(inspect os2)"
   ]
  },
  {
   "cell_type": "code",
   "execution_count": null,
   "metadata": {
    "collapsed": false
   },
   "outputs": [],
   "source": [
    "(orgn os2)"
   ]
  },
  {
   "cell_type": "code",
   "execution_count": null,
   "metadata": {
    "collapsed": false
   },
   "outputs": [],
   "source": [
    "(efhm os2)"
   ]
  },
  {
   "cell_type": "code",
   "execution_count": null,
   "metadata": {
    "collapsed": false
   },
   "outputs": [],
   "source": [
    "(inspect os2)"
   ]
  },
  {
   "cell_type": "markdown",
   "metadata": {},
   "source": [
    "The following example shows the recursion mechanism when one wants to get the value of the slot ``efhm`` of an iterated loop space, namely $\\Omega^3(S^4)$."
   ]
  },
  {
   "cell_type": "code",
   "execution_count": null,
   "metadata": {
    "collapsed": false
   },
   "outputs": [],
   "source": [
    "(def s4 (sphere 4))"
   ]
  },
  {
   "cell_type": "code",
   "execution_count": null,
   "metadata": {
    "collapsed": false
   },
   "outputs": [],
   "source": [
    "(inspect s4)"
   ]
  },
  {
   "cell_type": "code",
   "execution_count": null,
   "metadata": {
    "collapsed": false
   },
   "outputs": [],
   "source": [
    "(def ooos4 (loop-space (loop-space (loop-space s4))))"
   ]
  },
  {
   "cell_type": "code",
   "execution_count": null,
   "metadata": {
    "collapsed": false
   },
   "outputs": [],
   "source": [
    "(orgn ooos4)"
   ]
  },
  {
   "cell_type": "code",
   "execution_count": null,
   "metadata": {
    "collapsed": false
   },
   "outputs": [],
   "source": [
    "(orgn (second *))"
   ]
  },
  {
   "cell_type": "code",
   "execution_count": null,
   "metadata": {
    "collapsed": false
   },
   "outputs": [],
   "source": [
    "(orgn (second *))"
   ]
  },
  {
   "cell_type": "code",
   "execution_count": null,
   "metadata": {
    "collapsed": false
   },
   "outputs": [],
   "source": [
    "(orgn (second *))"
   ]
  },
  {
   "cell_type": "code",
   "execution_count": null,
   "metadata": {
    "collapsed": false
   },
   "outputs": [],
   "source": [
    "(inspect (smgr 136))"
   ]
  },
  {
   "cell_type": "code",
   "execution_count": null,
   "metadata": {
    "collapsed": false
   },
   "outputs": [],
   "source": [
    "(inspect (smgr 124))"
   ]
  },
  {
   "cell_type": "code",
   "execution_count": null,
   "metadata": {
    "collapsed": false
   },
   "outputs": [],
   "source": [
    "(inspect (smst 119))"
   ]
  },
  {
   "cell_type": "code",
   "execution_count": null,
   "metadata": {
    "collapsed": false
   },
   "outputs": [],
   "source": [
    "(efhm ooos4)"
   ]
  },
  {
   "cell_type": "code",
   "execution_count": null,
   "metadata": {
    "collapsed": false
   },
   "outputs": [],
   "source": [
    "(inspect (smgr 124))"
   ]
  },
  {
   "cell_type": "code",
   "execution_count": null,
   "metadata": {
    "collapsed": false
   },
   "outputs": [],
   "source": [
    "(inspect (smst 119))"
   ]
  },
  {
   "cell_type": "code",
   "execution_count": null,
   "metadata": {
    "collapsed": false
   },
   "outputs": [],
   "source": [
    "(inspect s4)"
   ]
  },
  {
   "cell_type": "markdown",
   "metadata": {},
   "source": [
    "#### Lisp files concerned in this chapter}\n",
    "\n",
    "``homology-groups.lisp``, ``searching-homology`` and files containing a ``search-efhm`` method."
   ]
  }
 ],
 "metadata": {
  "kernelspec": {
   "display_name": "SBCL Lisp",
   "language": "lisp",
   "name": "lisp"
  },
  "language_info": {
   "codemirror_mode": "text/x-common-lisp",
   "mimetype": "text/x-common-lisp",
   "name": "common-lisp",
   "pygments_lexer": "common-lisp",
   "version": "X3J13"
  }
 },
 "nbformat": 4,
 "nbformat_minor": 0
}
